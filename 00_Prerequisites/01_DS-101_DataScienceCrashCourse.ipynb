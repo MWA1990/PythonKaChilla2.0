{
 "cells": [
  {
   "cell_type": "markdown",
   "metadata": {},
   "source": [
    "# DataScience Crash Course (DS-101)"
   ]
  },
  {
   "cell_type": "markdown",
   "metadata": {},
   "source": [
    "- **Name: Muhammad Waleed Anjum**\n",
    "- **Email: waleedanjum_2009@yahoo.com**"
   ]
  },
  {
   "cell_type": "markdown",
   "metadata": {},
   "source": [
    "## Basics Operators"
   ]
  },
  {
   "cell_type": "code",
   "execution_count": 1,
   "metadata": {},
   "outputs": [
    {
     "name": "stdout",
     "output_type": "stream",
     "text": [
      "3\n",
      "1\n",
      "6\n",
      "2.0\n",
      "1\n",
      "3\n"
     ]
    }
   ],
   "source": [
    "print(1+2)\n",
    "print(3-2)\n",
    "print(3*2)\n",
    "print(4/2)\n",
    "print(9%2)\n",
    "print(7//2)"
   ]
  },
  {
   "cell_type": "markdown",
   "metadata": {},
   "source": [
    "## Strings"
   ]
  },
  {
   "cell_type": "code",
   "execution_count": 2,
   "metadata": {},
   "outputs": [
    {
     "name": "stdout",
     "output_type": "stream",
     "text": [
      "Single Quote Test\n",
      "Double Quotes Test\n",
      "Triple Quotes Test\n",
      "What's up\n"
     ]
    }
   ],
   "source": [
    "print('Single Quote Test')\n",
    "print('Double Quotes Test')\n",
    "print('Triple Quotes Test')\n",
    "\n",
    "print(\"What's up\")"
   ]
  },
  {
   "cell_type": "markdown",
   "metadata": {},
   "source": [
    "## Variables"
   ]
  },
  {
   "cell_type": "markdown",
   "metadata": {},
   "source": [
    "**Rules to assign a variable:**\n",
    "1. The variable should contain letters, numbers or underscores\n",
    "2. Do not start with numbers\n",
    "3. Spaces are not allowed\n",
    "4. Do not use keywords used in functions (break, mean, test etc.)\n",
    "5. Short and descriptive\n",
    "6. Case sensitive"
   ]
  },
  {
   "cell_type": "code",
   "execution_count": 4,
   "metadata": {},
   "outputs": [
    {
     "name": "stdout",
     "output_type": "stream",
     "text": [
      "5\n",
      "15\n",
      "<class 'int'>\n"
     ]
    }
   ],
   "source": [
    "# Variables: Objects containing Specific Values\n",
    "x=5\n",
    "print(x)\n",
    "\n",
    "x=15\n",
    "print(x)\n",
    "\n",
    "print(type(x))"
   ]
  },
  {
   "cell_type": "markdown",
   "metadata": {},
   "source": [
    "## Input Variables"
   ]
  },
  {
   "cell_type": "code",
   "execution_count": 6,
   "metadata": {},
   "outputs": [
    {
     "data": {
      "text/plain": [
       "'Mango'"
      ]
     },
     "execution_count": 6,
     "metadata": {},
     "output_type": "execute_result"
    }
   ],
   "source": [
    "# input function is used to get user input\n",
    "\n",
    "fruit_basket = input('What is your favorite fruit?')\n",
    "fruit_basket"
   ]
  },
  {
   "cell_type": "code",
   "execution_count": 7,
   "metadata": {},
   "outputs": [
    {
     "name": "stdout",
     "output_type": "stream",
     "text": [
      "Hello! Muhammad Waleed Anjum\n"
     ]
    }
   ],
   "source": [
    "name = input('What is your Name?')\n",
    "greeting = 'Hello!'\n",
    "print(greeting, name)"
   ]
  },
  {
   "cell_type": "markdown",
   "metadata": {},
   "source": [
    "## Conditional Logics"
   ]
  },
  {
   "cell_type": "markdown",
   "metadata": {},
   "source": [
    "- equal to                      ==\n",
    "- not equal to                  !=\n",
    "- less than                     <\n",
    "- greater than                  >\n",
    "- less than and equal to        <=\n",
    "- greater than and equal to     >="
   ]
  },
  {
   "cell_type": "code",
   "execution_count": 8,
   "metadata": {},
   "outputs": [
    {
     "name": "stdout",
     "output_type": "stream",
     "text": [
      "True\n"
     ]
    }
   ],
   "source": [
    "age_at_school = 5\n",
    "ahmed_age = int(input('What is Ahmed Age? '))\n",
    "print(age_at_school==ahmed_age)"
   ]
  },
  {
   "cell_type": "markdown",
   "metadata": {},
   "source": [
    "## Type Conversion"
   ]
  },
  {
   "cell_type": "code",
   "execution_count": 9,
   "metadata": {},
   "outputs": [
    {
     "name": "stdout",
     "output_type": "stream",
     "text": [
      "20.2 Type of x is:  <class 'float'>\n",
      "32 <class 'int'>\n"
     ]
    }
   ],
   "source": [
    "x = 10              # integer\n",
    "y = 10.2            # Float\n",
    "z = 'Hello'         # String\n",
    "\n",
    "# Implicit type conversion\n",
    "x = x + y\n",
    "print(x, 'Type of x is: ', type(x))\n",
    "\n",
    "# Explicit Type Conversion\n",
    "age = int(input('What is your Age? '))\n",
    "print(age, type(age))"
   ]
  },
  {
   "cell_type": "markdown",
   "metadata": {},
   "source": [
    "## if else elif statements"
   ]
  },
  {
   "cell_type": "code",
   "execution_count": 19,
   "metadata": {},
   "outputs": [
    {
     "name": "stdout",
     "output_type": "stream",
     "text": [
      "Ahmed Age is: 16\n",
      "Yes, Ahmed Can go to college\n"
     ]
    }
   ],
   "source": [
    "req_age_at_school = 5\n",
    "req_age_at_college = 14\n",
    "ahmed_age = int(input('What is Ahmed Age? '))\n",
    "# Can Ahmed go to school?\n",
    "if ahmed_age >= req_age_at_college:\n",
    "    print(f\"Ahmed Age is: {ahmed_age}\\nYes, Ahmed Can go to college\")\n",
    "elif ahmed_age >= req_age_at_school:\n",
    "    print(f'Ahmed Age is: {ahmed_age}\\nYes, Ahmed Can go to School')\n",
    "else:\n",
    "    print(f\"Ahmed Age is: {ahmed_age}\\nSorry, Ahmed is underage\")   "
   ]
  },
  {
   "cell_type": "markdown",
   "metadata": {},
   "source": [
    "## Functions"
   ]
  },
  {
   "cell_type": "code",
   "execution_count": 23,
   "metadata": {},
   "outputs": [
    {
     "name": "stdout",
     "output_type": "stream",
     "text": [
      "We are learning with babaAmmar\n",
      "We are learning with babaAmmar\n",
      "We are learning with babaAmmar\n",
      "-------------------------------\n",
      "We are learning with babaAmmar\n",
      "We are learning with babaAmmar\n",
      "We are learning with babaAmmar\n"
     ]
    }
   ],
   "source": [
    "# Defining a function (def)\n",
    "# Method 1\n",
    "def print_code():\n",
    "    print('We are learning with babaAmmar')\n",
    "    print('We are learning with babaAmmar')\n",
    "    print('We are learning with babaAmmar')\n",
    "\n",
    "# Method 1\n",
    "def print_code2():\n",
    "    text = 'We are learning with babaAmmar'\n",
    "    print(text)\n",
    "    print(text)\n",
    "    print(text)\n",
    "\n",
    "print_code()\n",
    "print('-------------------------------')\n",
    "print_code2()"
   ]
  },
  {
   "cell_type": "code",
   "execution_count": 26,
   "metadata": {},
   "outputs": [
    {
     "name": "stdout",
     "output_type": "stream",
     "text": [
      "Ahmed Age is: 3\n",
      "Sorry, Ahmed is underage\n"
     ]
    }
   ],
   "source": [
    "# School Age Calculator\n",
    "def school_age_calc(age):\n",
    "    if age == 5:\n",
    "        print(f\"Ahmed Age is: {age}\\nAhmed Can join school\")\n",
    "    elif age > 5:\n",
    "        print(f'Ahmed Age is: {age}\\nAhmed should go to Higher School')\n",
    "    else:\n",
    "        print(f\"Ahmed Age is: {age}\\nSorry, Ahmed is underage\")\n",
    "\n",
    "school_age_calc(3)"
   ]
  },
  {
   "cell_type": "code",
   "execution_count": 28,
   "metadata": {},
   "outputs": [
    {
     "name": "stdout",
     "output_type": "stream",
     "text": [
      "Future age is:  38\n"
     ]
    }
   ],
   "source": [
    "# Defining a function of future\n",
    "def future_age(age):\n",
    "    new_age = age + 20\n",
    "    return new_age\n",
    "\n",
    "print('Future age is: ',future_age(18))\n"
   ]
  },
  {
   "cell_type": "markdown",
   "metadata": {},
   "source": [
    "## Loops"
   ]
  },
  {
   "cell_type": "code",
   "execution_count": 30,
   "metadata": {},
   "outputs": [
    {
     "name": "stdout",
     "output_type": "stream",
     "text": [
      "0\n",
      "1\n",
      "2\n",
      "3\n",
      "4\n",
      "5\n"
     ]
    }
   ],
   "source": [
    "# While Loop\n",
    "\n",
    "x = 0\n",
    "while (x<=5):\n",
    "    print(x)\n",
    "    x = x + 1"
   ]
  },
  {
   "cell_type": "code",
   "execution_count": 31,
   "metadata": {},
   "outputs": [
    {
     "name": "stdout",
     "output_type": "stream",
     "text": [
      "5\n",
      "6\n",
      "7\n",
      "8\n",
      "9\n"
     ]
    }
   ],
   "source": [
    "# For Loop\n",
    "\n",
    "for x in range(5,10):\n",
    "    print(x)"
   ]
  },
  {
   "cell_type": "code",
   "execution_count": 35,
   "metadata": {},
   "outputs": [
    {
     "name": "stdout",
     "output_type": "stream",
     "text": [
      "Mon\n",
      "Tues\n",
      "Wed\n",
      "Thur\n",
      "Fri\n",
      "Sat\n",
      "Sun\n"
     ]
    }
   ],
   "source": [
    "# Array\n",
    "days= ['Mon', 'Tues', 'Wed', 'Thur', 'Fri', 'Sat', 'Sun']\n",
    "\n",
    "for d in days:\n",
    "    #if (d == 'Fri'): break     #loop stops\n",
    "    #if (d == 'Fri'): continue     #skips d    \n",
    "    print(d)"
   ]
  },
  {
   "cell_type": "markdown",
   "metadata": {},
   "source": [
    "## Import Libraries"
   ]
  },
  {
   "cell_type": "code",
   "execution_count": 39,
   "metadata": {},
   "outputs": [
    {
     "name": "stdout",
     "output_type": "stream",
     "text": [
      "The Value of pi is:  3.141592653589793\n",
      "Mean Value of x is:  300\n"
     ]
    }
   ],
   "source": [
    "# library is already developed codes\n",
    "import math\n",
    "print('The Value of pi is: ', math.pi)\n",
    "\n",
    "import statistics\n",
    "x = [150, 250, 350, 450]\n",
    "print('Mean Value of x is: ',statistics.mean(x))"
   ]
  },
  {
   "cell_type": "markdown",
   "metadata": {},
   "source": [
    "## Trouble Shooting"
   ]
  },
  {
   "cell_type": "code",
   "execution_count": null,
   "metadata": {},
   "outputs": [],
   "source": [
    "print(25/0)     # runtime error\n",
    "print(we are learning python)       # syntax error"
   ]
  },
  {
   "cell_type": "markdown",
   "metadata": {},
   "source": [
    "## Indexing"
   ]
  },
  {
   "cell_type": "code",
   "execution_count": 44,
   "metadata": {},
   "outputs": [
    {
     "name": "stdout",
     "output_type": "stream",
     "text": [
      "First index is:  s\n",
      "Length(Total Characters) of a are:  13\n"
     ]
    }
   ],
   "source": [
    "a = 'samosa pakora'\n",
    "print('First index is: ',a[0])      # Index starts from 0\n",
    "\n",
    "# Length of indices\n",
    "print('Length(Total Characters) of a are: ',len(a))"
   ]
  },
  {
   "cell_type": "code",
   "execution_count": 51,
   "metadata": {},
   "outputs": [
    {
     "name": "stdout",
     "output_type": "stream",
     "text": [
      "a is:  samosa pakora\n",
      "a[0:5] samos\n",
      "a[0:13] samosa pakora\n",
      "a[:5] samos\n",
      "a[-5] a\n",
      "a[0:-5] samosa p\n",
      "a[-6:-1] pakor\n"
     ]
    }
   ],
   "source": [
    "print('a is: ',a)\n",
    "print('a[0:5]',a[0:5])\n",
    "print('a[0:13]',a[0:13])    # last index is exclusive\n",
    "print('a[:5]',a[:5])\n",
    "print('a[-5]',a[-5])\n",
    "print('a[0:-5]',a[0:-5])\n",
    "print('a[-6:-1]',a[-6:-1])"
   ]
  },
  {
   "cell_type": "markdown",
   "metadata": {},
   "source": [
    "## String Methods"
   ]
  },
  {
   "cell_type": "code",
   "execution_count": 62,
   "metadata": {},
   "outputs": [
    {
     "name": "stdout",
     "output_type": "stream",
     "text": [
      "Capitilize:  Biryani\n",
      "UpperCase:  BIRYANI\n",
      "LowerCase:  biryani\n",
      "Replacing b with Sh:  Shiryani\n",
      "Number of 'a' in Muhammad Waleed Anjum are:  3\n",
      "Index number of 'h' is:  2\n",
      "Index number of 'a' is:  3\n",
      "Index number of 'ee' is:  12\n",
      "Spliting string based on specific charcter ['l love', ' samosa', ' pakora', ' biryani']\n"
     ]
    }
   ],
   "source": [
    "food = 'biryani'\n",
    "\n",
    "print('Capitilize: ', food.capitalize())\n",
    "print('UpperCase: ', food.upper())\n",
    "print('LowerCase: ', food.lower())\n",
    "\n",
    "# Replace\n",
    "print('Replacing b with Sh: ', food.replace('b', 'Sh'))\n",
    "\n",
    "# Counting Specific alphabat in a string\n",
    "name = 'Muhammad Waleed Anjum'\n",
    "print(f\"Number of 'a' in {name} are: \", name.count('a'))\n",
    "\n",
    "# Finding index number in String\n",
    "name = 'Muhammad Waleed Anjum'\n",
    "print(\"Index number of 'h' is: \",name.find('h'))\n",
    "print(\"Index number of 'a' is: \",name.find('a'))\n",
    "print(\"Index number of 'ee' is: \",name.find('ee'))\n",
    "\n",
    "# How to split a string\n",
    "food = 'l love, samosa, pakora, biryani'\n",
    "print('Spliting string based on specific charcter', food.split(','))"
   ]
  },
  {
   "cell_type": "markdown",
   "metadata": {},
   "source": [
    "## Basic Data Structure in Python"
   ]
  },
  {
   "cell_type": "markdown",
   "metadata": {},
   "source": [
    "**There are four basic Data Structures**\n",
    "1. Tuple\n",
    "2. List\n",
    "3. Dictionaries\n",
    "4. Set"
   ]
  },
  {
   "cell_type": "markdown",
   "metadata": {},
   "source": [
    "### 1. Tuple\n",
    "- Ordered Collection of elements\n",
    "- Enclosed in small brackets()\n",
    "- Different kind of data can be stored\n",
    "- Unmutatble"
   ]
  },
  {
   "cell_type": "code",
   "execution_count": 68,
   "metadata": {},
   "outputs": [
    {
     "name": "stdout",
     "output_type": "stream",
     "text": [
      "<class 'tuple'>\n",
      "Number of elements in Tuple:  4\n",
      "Concatenation of two tuples:  (1, 'python', 3.5, True, 2, 'Tuple', False)\n",
      "Maximum Number in tup3 is:  723\n"
     ]
    }
   ],
   "source": [
    "tup = (1, 'python', 3.5, True)\n",
    "print(type(tup))\n",
    "print('Number of elements in Tuple: ',len(tup))\n",
    "\n",
    "tup2 = (2, 'Tuple', False)\n",
    "\n",
    "concat = tup + tup2\n",
    "print('Concatenation of two tuples: ', concat)\n",
    "\n",
    "tup3 = (10, 723, 43, 11, 53)\n",
    "print('Maximum Number in tup3 is: ', max(tup3))"
   ]
  },
  {
   "cell_type": "markdown",
   "metadata": {},
   "source": [
    "### 2. List\n",
    "- Ordered Collection of Elements\n",
    "- enclosed in [] brackets\n",
    "- mutatable"
   ]
  },
  {
   "cell_type": "code",
   "execution_count": 85,
   "metadata": {},
   "outputs": [
    {
     "name": "stdout",
     "output_type": "stream",
     "text": [
      "list1 is:  [2, 'waleed', True]\n",
      "<class 'list'>\n",
      "Reverse elements [True, 'waleed', 2]\n",
      "Append something in list:  [True, 'waleed', 2, 'Pakistan']\n",
      "Counting Something in list:  0\n",
      "list2 is:  [1, 87, 34, 23, 96, 34]\n",
      "Sorted list:  [1, 23, 34, 34, 87, 96]\n"
     ]
    }
   ],
   "source": [
    "list1 = [2, 'waleed', True]\n",
    "print('list1 is: ', list1)\n",
    "\n",
    "print(type(list1))\n",
    "\n",
    "list1.reverse()\n",
    "print('Reverse elements', list1)\n",
    "\n",
    "list1.append('Pakistan')\n",
    "print('Append something in list: ', list1)\n",
    "\n",
    "print('Counting Something in list: ' ,list1.count(3))\n",
    "\n",
    "list2 = [1,87,34,23,96,34]\n",
    "print('list2 is: ', list2)\n",
    "list2.sort()\n",
    "print('Sorted list: ', list2)"
   ]
  },
  {
   "cell_type": "markdown",
   "metadata": {},
   "source": [
    "### 3. Dictionaries\n",
    "- UnOrdered Collection of elements\n",
    "- key and value\n",
    "- Enclosed in curly brackets {}\n",
    "- Unmutatble"
   ]
  },
  {
   "cell_type": "code",
   "execution_count": 97,
   "metadata": {},
   "outputs": [
    {
     "name": "stdout",
     "output_type": "stream",
     "text": [
      "Dictionary d1 is:  {'samosa': 30, 'pakora': 50, 'Raita': 40, 'Roll': 100}\n",
      "Keys in d1 are:  dict_keys(['samosa', 'pakora', 'Raita', 'Roll'])\n",
      "Values in d1 are:  dict_values([30, 50, 40, 100])\n",
      "After adding new element in d1 Dictionary is:  {'samosa': 30, 'pakora': 50, 'Raita': 40, 'Roll': 100, 'shawarma': 120}\n",
      "Updated d1 Dictionary is:  {'samosa': 30, 'pakora': 50, 'Raita': 40, 'Roll': 100, 'shawarma': 160}\n",
      "concatenated dictionary:  {'samosa': 30, 'pakora': 50, 'Raita': 40, 'Roll': 100, 'shawarma': 160, 'biryani': 200, 'Pulao': 160}\n"
     ]
    }
   ],
   "source": [
    "d1 = {'samosa': 30,\n",
    "'pakora': 50,\n",
    "'Raita': 40,\n",
    "'Roll': 100}\n",
    "\n",
    "print('Dictionary d1 is: ',d1)\n",
    "type(d1)\n",
    "\n",
    "# extract data\n",
    "k = d1.keys()\n",
    "v = d1.values()\n",
    "print('Keys in d1 are: ',k)\n",
    "print('Values in d1 are: ',v)\n",
    "\n",
    "# Adding new element\n",
    "d1['shawarma'] = 120\n",
    "print('After adding new element in d1 Dictionary is: ',d1)\n",
    "\n",
    "# Updating existing value\n",
    "d1['shawarma'] = 160\n",
    "print('Updated d1 Dictionary is: ',d1)\n",
    "\n",
    "# Concatenating two dictionaries\n",
    "d2 = {'biryani': 200, 'Pulao': 160}\n",
    "\n",
    "d1.update(d2)\n",
    "print('concatenated dictionary: ', d1)"
   ]
  },
  {
   "cell_type": "markdown",
   "metadata": {},
   "source": [
    "### 4. Set\n",
    "- UnOrdered and unindexed\n",
    "- Enclosed in only curly brackets {}\n",
    "- No duplicates allowed"
   ]
  },
  {
   "cell_type": "code",
   "execution_count": 103,
   "metadata": {},
   "outputs": [
    {
     "name": "stdout",
     "output_type": "stream",
     "text": [
      "Set s1 is:  {1, 2.5, 'waleed', 7, 'Pakistan'}\n",
      "Duplicates not allowed:  {1, 2.5, 'waleed', 7, 'Pakistan'}\n"
     ]
    }
   ],
   "source": [
    "s1 = {1, 2.5, 7, 'waleed', 'Pakistan', True} # Sets cannot read boolain operators\n",
    "print('Set s1 is: ',s1)\n",
    "\n",
    "# Adding same value again\n",
    "s1.add('waleed')\n",
    "print('Duplicates not allowed: ', s1)"
   ]
  },
  {
   "cell_type": "markdown",
   "metadata": {},
   "source": [
    "## Numpy (Numerical Python)"
   ]
  },
  {
   "cell_type": "code",
   "execution_count": 1,
   "metadata": {},
   "outputs": [
    {
     "name": "stdout",
     "output_type": "stream",
     "text": [
      "food array:  ['Pakora' 'Samosa' 'Raita']\n",
      "Data type of array:  <class 'numpy.ndarray'>\n",
      "length of food array:  3\n"
     ]
    }
   ],
   "source": [
    "# pip install numpy (installation)\n",
    "# importing numpy\n",
    "import numpy as np\n",
    "\n",
    "# Creating an array using numpy\n",
    "food = np.array(['Pakora', 'Samosa', 'Raita'])\n",
    "print('food array: ', food)\n",
    "\n",
    "price = np.array([5,5,5])\n",
    "print('Data type of array: ', type(price))\n",
    "print('length of food array: ', len(food))"
   ]
  },
  {
   "cell_type": "code",
   "execution_count": 2,
   "metadata": {},
   "outputs": [
    {
     "name": "stdout",
     "output_type": "stream",
     "text": [
      "Zeros:  [0. 0. 0. 0. 0.]\n",
      "Ones:  [1. 1. 1. 1. 1.]\n",
      "empty:  [1. 1. 1. 1. 1.]\n",
      "arange:  [0 1 2 3 4 5]\n",
      "arange with specific start and end:  [2 3 4 5 6 7 8 9]\n",
      "arange with specific interval:  [ 2  5  8 11 14 17]\n",
      "linespace (same interval):  [  1.  12.  23.  34.  45.  56.  67.  78.  89. 100.]\n"
     ]
    }
   ],
   "source": [
    "# zeros method\n",
    "print('Zeros: ', np.zeros(5))\n",
    "\n",
    "# ones\n",
    "print('Ones: ', np.ones(5))\n",
    "\n",
    "# empty\n",
    "print('empty: ', np.empty(5))\n",
    "\n",
    "# arange\n",
    "print('arange: ', np.arange(6))\n",
    "print('arange with specific start and end: ', np.arange(2, 10))\n",
    "print('arange with specific interval: ', np.arange(2, 20, 3))\n",
    "\n",
    "# linespace\n",
    "print('linespace (same interval): ', np.linspace(1, 100, num=10))    "
   ]
  },
  {
   "cell_type": "code",
   "execution_count": 3,
   "metadata": {},
   "outputs": [
    {
     "name": "stdout",
     "output_type": "stream",
     "text": [
      "Array in int:  [1 1 1 1 1 1 1 1 1 1]\n",
      "Array in float:  [1. 1. 1. 1. 1. 1. 1. 1. 1. 1.]\n"
     ]
    }
   ],
   "source": [
    "# specify data type\n",
    "print('Array in int: ', np.ones(10, dtype=int))\n",
    "print('Array in float: ', np.ones(10, dtype=float))\n"
   ]
  },
  {
   "cell_type": "code",
   "execution_count": 4,
   "metadata": {},
   "outputs": [
    {
     "name": "stdout",
     "output_type": "stream",
     "text": [
      "array a:  [10.  12.  15.  65.  34.  93.  10.4]\n",
      "Sorted a Array:  [10.  10.4 12.  15.  34.  65.  93. ]\n",
      "Concatenated Arrays [10.  10.4 12.  15.  34.  65.  93.  13.  52.  15.  69.  34.  91.  10.4]\n"
     ]
    }
   ],
   "source": [
    "# Array functions\n",
    "# 1-D Array\n",
    "a = np.array([10, 12, 15, 65, 34, 93, 10.4])\n",
    "print('array a: ', a)\n",
    "a.sort()\n",
    "print('Sorted a Array: ', a)\n",
    "\n",
    "b = np.array([13, 52, 15, 69, 34, 91, 10.4])\n",
    "concat = np.concatenate((a,b))\n",
    "print('Concatenated Arrays', concat)"
   ]
  },
  {
   "cell_type": "code",
   "execution_count": 5,
   "metadata": {},
   "outputs": [
    {
     "name": "stdout",
     "output_type": "stream",
     "text": [
      "a Array: \n",
      " [[0 1 2 3 4]\n",
      " [5 6 7 8 9]]\n",
      "\n",
      "b Array: \n",
      " [[0 1 2 3 4]\n",
      " [5 6 7 8 9]]\n",
      "\n",
      "c Array: \n",
      " [[0 1 2 3 4]\n",
      " [5 6 7 8 9]\n",
      " [0 1 2 3 4]\n",
      " [5 6 7 8 9]]\n",
      "\n",
      "d Array: \n",
      " [[0 1 2 3 4 0 1 2 3 4]\n",
      " [5 6 7 8 9 5 6 7 8 9]]\n"
     ]
    }
   ],
   "source": [
    "# 2-D Array\n",
    "a = np.array([[0,1,2,3,4], [5,6,7,8,9]])\n",
    "b = np.array([[0,1,2,3,4], [5,6,7,8,9]])\n",
    "print('a Array: \\n', a)\n",
    "print('\\nb Array: \\n', b)\n",
    "\n",
    "c = np.concatenate((a,b), axis=0) # Along Rows\n",
    "d = np.concatenate((a,b), axis=1) # Along Columns\n",
    "print('\\nc Array: \\n', c)\n",
    "print('\\nd Array: \\n', d)\n"
   ]
  },
  {
   "cell_type": "code",
   "execution_count": 9,
   "metadata": {},
   "outputs": [
    {
     "name": "stdout",
     "output_type": "stream",
     "text": [
      "3D a Array: \n",
      " [[[0 1 2 3]\n",
      "  [4 5 6 7]]\n",
      "\n",
      " [[0 1 2 3]\n",
      "  [4 5 6 7]]\n",
      "\n",
      " [[0 1 2 3]\n",
      "  [4 5 6 7]]]\n",
      "\n",
      "Dimension of An Array:  3\n",
      "Size of An Array:  24\n",
      "Shape of An Array:  (3, 2, 4)\n"
     ]
    }
   ],
   "source": [
    "# 3-D Array\n",
    "a = np.array([[[0,1,2,3],\n",
    "                        [4,5,6,7]],\n",
    "                        \n",
    "                        [[0,1,2,3],\n",
    "                        [4,5,6,7]],\n",
    "                        \n",
    "                        [[0,1,2,3],\n",
    "                        [4,5,6,7]]])\n",
    "print('3D a Array: \\n',a)\n",
    "\n",
    "print('\\nDimension of An Array: ', a.ndim)\n",
    "print('Size of An Array: ', a.size)   # Number of elements\n",
    "print('Shape of An Array: ', a.shape)   # (dimension, rows, columns)"
   ]
  },
  {
   "cell_type": "code",
   "execution_count": 20,
   "metadata": {},
   "outputs": [
    {
     "name": "stdout",
     "output_type": "stream",
     "text": [
      "2-D Array by using Reshape:\n",
      " [[0 1 2]\n",
      " [3 4 5]\n",
      " [6 7 8]]\n",
      "\n",
      "3-D Array by using Reshape:\n",
      " [[[ 0  1  2  3]\n",
      "  [ 4  5  6  7]]\n",
      "\n",
      " [[ 8  9 10 11]\n",
      "  [12 13 14 15]]\n",
      "\n",
      " [[16 17 18 19]\n",
      "  [20 21 22 23]]]\n"
     ]
    }
   ],
   "source": [
    "# Reshape Method\n",
    "# 2-D Array by using Reshape\n",
    "a = np.arange(9)\n",
    "b = a.reshape(3,3)\n",
    "print('2-D Array by using Reshape:\\n', b)\n",
    "\n",
    "# 3-D Array by using Reshape\n",
    "x = np.arange(24)\n",
    "y = x.reshape(3,2,4)\n",
    "print('\\n3-D Array by using Reshape:\\n', y)"
   ]
  },
  {
   "cell_type": "code",
   "execution_count": 28,
   "metadata": {},
   "outputs": [
    {
     "name": "stdout",
     "output_type": "stream",
     "text": [
      "Array a:  [1 2 3 4 5 6 7 8 9]\n",
      "Dimension of a Array:  1\n",
      "Shape of An a Array:  (9,)\n",
      "\n",
      "Array b (Converted to 2D):  [[1 2 3 4 5 6 7 8 9]]\n",
      "Dimensions of b Array:  2\n",
      "Shape of b Array:  (1, 9)\n",
      "\n",
      "Array c (Converted to 2D):  [[1]\n",
      " [2]\n",
      " [3]\n",
      " [4]\n",
      " [5]\n",
      " [6]\n",
      " [7]\n",
      " [8]\n",
      " [9]]\n",
      "Dimensions of c Array:  2\n",
      "Shape of c Array:  (9, 1)\n"
     ]
    }
   ],
   "source": [
    "# Converting Array dimensions\n",
    "# 1-D to 2-D\n",
    "a = np.array([1,2,3,4,5,6,7,8,9])\n",
    "print('Array a: ',a)\n",
    "print('Dimension of a Array: ', a.ndim)\n",
    "print('Shape of An a Array: ', a.shape)\n",
    "\n",
    "b = a[np.newaxis, :]                # Row Conversion\n",
    "print('\\nArray b (Converted to 2D): ',b)\n",
    "print('Dimensions of b Array: ', b.ndim)\n",
    "print('Shape of b Array: ', b.shape)\n",
    "\n",
    "c = a[:, np.newaxis]                # Column Conversion\n",
    "print('\\nArray c (Converted to 2D): ',c)\n",
    "print('Dimensions of c Array: ', c.ndim)\n",
    "print('Shape of c Array: ', c.shape)"
   ]
  },
  {
   "cell_type": "code",
   "execution_count": 32,
   "metadata": {},
   "outputs": [
    {
     "name": "stdout",
     "output_type": "stream",
     "text": [
      "a*6:  [ 6 12 18 24 30 36 42 48 54]\n",
      "sum:  45\n",
      "Mean:  5.0\n"
     ]
    }
   ],
   "source": [
    "# Different operations\n",
    "a = np.array([1,2,3,4,5,6,7,8,9])\n",
    "print('a*6: ', a*6)\n",
    "print('sum: ', a.sum())\n",
    "print('Mean: ', a.mean())"
   ]
  },
  {
   "cell_type": "markdown",
   "metadata": {},
   "source": [
    "## Pandas (Pannel Data Analysis)"
   ]
  },
  {
   "cell_type": "code",
   "execution_count": null,
   "metadata": {},
   "outputs": [],
   "source": [
    "# pip install pandas"
   ]
  },
  {
   "cell_type": "code",
   "execution_count": 1,
   "metadata": {},
   "outputs": [],
   "source": [
    "# Import libraries\n",
    "import pandas as pd\n",
    "import numpy as np"
   ]
  },
  {
   "cell_type": "code",
   "execution_count": 7,
   "metadata": {},
   "outputs": [
    {
     "name": "stdout",
     "output_type": "stream",
     "text": [
      "Series s:\n",
      " 0    1.0\n",
      "1    3.0\n",
      "2    NaN\n",
      "3    5.0\n",
      "4    7.0\n",
      "5    8.0\n",
      "6    9.0\n",
      "dtype: float64\n"
     ]
    }
   ],
   "source": [
    "# object creation\n",
    "s = pd.Series([1,3, np.nan,5,7,8,9])\n",
    "print('Series s:\\n',s)"
   ]
  },
  {
   "cell_type": "code",
   "execution_count": 10,
   "metadata": {},
   "outputs": [
    {
     "data": {
      "text/plain": [
       "DatetimeIndex(['2022-01-01', '2022-01-02', '2022-01-03', '2022-01-04',\n",
       "               '2022-01-05', '2022-01-06', '2022-01-07', '2022-01-08',\n",
       "               '2022-01-09', '2022-01-10', '2022-01-11', '2022-01-12',\n",
       "               '2022-01-13', '2022-01-14', '2022-01-15', '2022-01-16',\n",
       "               '2022-01-17', '2022-01-18', '2022-01-19', '2022-01-20'],\n",
       "              dtype='datetime64[ns]', freq='D')"
      ]
     },
     "execution_count": 10,
     "metadata": {},
     "output_type": "execute_result"
    }
   ],
   "source": [
    "dates = pd.date_range('20220101', periods=20)\n",
    "dates"
   ]
  },
  {
   "cell_type": "code",
   "execution_count": 11,
   "metadata": {},
   "outputs": [
    {
     "data": {
      "text/html": [
       "<div>\n",
       "<style scoped>\n",
       "    .dataframe tbody tr th:only-of-type {\n",
       "        vertical-align: middle;\n",
       "    }\n",
       "\n",
       "    .dataframe tbody tr th {\n",
       "        vertical-align: top;\n",
       "    }\n",
       "\n",
       "    .dataframe thead th {\n",
       "        text-align: right;\n",
       "    }\n",
       "</style>\n",
       "<table border=\"1\" class=\"dataframe\">\n",
       "  <thead>\n",
       "    <tr style=\"text-align: right;\">\n",
       "      <th></th>\n",
       "      <th>A</th>\n",
       "      <th>B</th>\n",
       "      <th>C</th>\n",
       "      <th>D</th>\n",
       "    </tr>\n",
       "  </thead>\n",
       "  <tbody>\n",
       "    <tr>\n",
       "      <th>2022-01-01</th>\n",
       "      <td>-0.950106</td>\n",
       "      <td>0.666944</td>\n",
       "      <td>1.255174</td>\n",
       "      <td>0.620168</td>\n",
       "    </tr>\n",
       "    <tr>\n",
       "      <th>2022-01-02</th>\n",
       "      <td>0.679854</td>\n",
       "      <td>0.704714</td>\n",
       "      <td>1.847270</td>\n",
       "      <td>0.444161</td>\n",
       "    </tr>\n",
       "    <tr>\n",
       "      <th>2022-01-03</th>\n",
       "      <td>-0.549860</td>\n",
       "      <td>0.095673</td>\n",
       "      <td>-1.062794</td>\n",
       "      <td>-1.483643</td>\n",
       "    </tr>\n",
       "    <tr>\n",
       "      <th>2022-01-04</th>\n",
       "      <td>-0.840756</td>\n",
       "      <td>-1.541808</td>\n",
       "      <td>0.716966</td>\n",
       "      <td>-0.547674</td>\n",
       "    </tr>\n",
       "    <tr>\n",
       "      <th>2022-01-05</th>\n",
       "      <td>1.903297</td>\n",
       "      <td>0.829506</td>\n",
       "      <td>-0.492042</td>\n",
       "      <td>1.245799</td>\n",
       "    </tr>\n",
       "    <tr>\n",
       "      <th>2022-01-06</th>\n",
       "      <td>-2.087375</td>\n",
       "      <td>-1.134863</td>\n",
       "      <td>1.065108</td>\n",
       "      <td>-0.817172</td>\n",
       "    </tr>\n",
       "    <tr>\n",
       "      <th>2022-01-07</th>\n",
       "      <td>-0.333677</td>\n",
       "      <td>-0.782179</td>\n",
       "      <td>1.137580</td>\n",
       "      <td>-1.441844</td>\n",
       "    </tr>\n",
       "    <tr>\n",
       "      <th>2022-01-08</th>\n",
       "      <td>-0.588446</td>\n",
       "      <td>0.294438</td>\n",
       "      <td>1.343623</td>\n",
       "      <td>0.301845</td>\n",
       "    </tr>\n",
       "    <tr>\n",
       "      <th>2022-01-09</th>\n",
       "      <td>-0.096240</td>\n",
       "      <td>-1.650489</td>\n",
       "      <td>0.090041</td>\n",
       "      <td>0.954330</td>\n",
       "    </tr>\n",
       "    <tr>\n",
       "      <th>2022-01-10</th>\n",
       "      <td>-0.649596</td>\n",
       "      <td>0.941632</td>\n",
       "      <td>0.801956</td>\n",
       "      <td>0.756375</td>\n",
       "    </tr>\n",
       "    <tr>\n",
       "      <th>2022-01-11</th>\n",
       "      <td>0.593017</td>\n",
       "      <td>1.434123</td>\n",
       "      <td>1.115778</td>\n",
       "      <td>-0.751717</td>\n",
       "    </tr>\n",
       "    <tr>\n",
       "      <th>2022-01-12</th>\n",
       "      <td>-0.231228</td>\n",
       "      <td>1.241760</td>\n",
       "      <td>-2.217075</td>\n",
       "      <td>-1.623309</td>\n",
       "    </tr>\n",
       "    <tr>\n",
       "      <th>2022-01-13</th>\n",
       "      <td>0.810533</td>\n",
       "      <td>2.313326</td>\n",
       "      <td>-0.747402</td>\n",
       "      <td>-1.227251</td>\n",
       "    </tr>\n",
       "    <tr>\n",
       "      <th>2022-01-14</th>\n",
       "      <td>-0.446317</td>\n",
       "      <td>0.356303</td>\n",
       "      <td>0.430054</td>\n",
       "      <td>1.050609</td>\n",
       "    </tr>\n",
       "    <tr>\n",
       "      <th>2022-01-15</th>\n",
       "      <td>-1.143818</td>\n",
       "      <td>-0.885201</td>\n",
       "      <td>2.788002</td>\n",
       "      <td>0.056081</td>\n",
       "    </tr>\n",
       "    <tr>\n",
       "      <th>2022-01-16</th>\n",
       "      <td>-0.129958</td>\n",
       "      <td>-0.095443</td>\n",
       "      <td>1.490171</td>\n",
       "      <td>-1.012446</td>\n",
       "    </tr>\n",
       "    <tr>\n",
       "      <th>2022-01-17</th>\n",
       "      <td>-0.202072</td>\n",
       "      <td>0.562094</td>\n",
       "      <td>0.817439</td>\n",
       "      <td>-1.958470</td>\n",
       "    </tr>\n",
       "    <tr>\n",
       "      <th>2022-01-18</th>\n",
       "      <td>-0.002977</td>\n",
       "      <td>2.166893</td>\n",
       "      <td>-0.416769</td>\n",
       "      <td>-0.883259</td>\n",
       "    </tr>\n",
       "    <tr>\n",
       "      <th>2022-01-19</th>\n",
       "      <td>-1.469375</td>\n",
       "      <td>-0.034409</td>\n",
       "      <td>-0.486798</td>\n",
       "      <td>-1.216058</td>\n",
       "    </tr>\n",
       "    <tr>\n",
       "      <th>2022-01-20</th>\n",
       "      <td>0.297953</td>\n",
       "      <td>0.560134</td>\n",
       "      <td>-0.049372</td>\n",
       "      <td>0.240628</td>\n",
       "    </tr>\n",
       "  </tbody>\n",
       "</table>\n",
       "</div>"
      ],
      "text/plain": [
       "                   A         B         C         D\n",
       "2022-01-01 -0.950106  0.666944  1.255174  0.620168\n",
       "2022-01-02  0.679854  0.704714  1.847270  0.444161\n",
       "2022-01-03 -0.549860  0.095673 -1.062794 -1.483643\n",
       "2022-01-04 -0.840756 -1.541808  0.716966 -0.547674\n",
       "2022-01-05  1.903297  0.829506 -0.492042  1.245799\n",
       "2022-01-06 -2.087375 -1.134863  1.065108 -0.817172\n",
       "2022-01-07 -0.333677 -0.782179  1.137580 -1.441844\n",
       "2022-01-08 -0.588446  0.294438  1.343623  0.301845\n",
       "2022-01-09 -0.096240 -1.650489  0.090041  0.954330\n",
       "2022-01-10 -0.649596  0.941632  0.801956  0.756375\n",
       "2022-01-11  0.593017  1.434123  1.115778 -0.751717\n",
       "2022-01-12 -0.231228  1.241760 -2.217075 -1.623309\n",
       "2022-01-13  0.810533  2.313326 -0.747402 -1.227251\n",
       "2022-01-14 -0.446317  0.356303  0.430054  1.050609\n",
       "2022-01-15 -1.143818 -0.885201  2.788002  0.056081\n",
       "2022-01-16 -0.129958 -0.095443  1.490171 -1.012446\n",
       "2022-01-17 -0.202072  0.562094  0.817439 -1.958470\n",
       "2022-01-18 -0.002977  2.166893 -0.416769 -0.883259\n",
       "2022-01-19 -1.469375 -0.034409 -0.486798 -1.216058\n",
       "2022-01-20  0.297953  0.560134 -0.049372  0.240628"
      ]
     },
     "execution_count": 11,
     "metadata": {},
     "output_type": "execute_result"
    }
   ],
   "source": [
    "# DataFrame\n",
    "df = pd.DataFrame(np.random.randn(20, 4), index=dates, columns=list('ABCD'))\n",
    "df"
   ]
  },
  {
   "cell_type": "code",
   "execution_count": 12,
   "metadata": {},
   "outputs": [
    {
     "data": {
      "text/html": [
       "<div>\n",
       "<style scoped>\n",
       "    .dataframe tbody tr th:only-of-type {\n",
       "        vertical-align: middle;\n",
       "    }\n",
       "\n",
       "    .dataframe tbody tr th {\n",
       "        vertical-align: top;\n",
       "    }\n",
       "\n",
       "    .dataframe thead th {\n",
       "        text-align: right;\n",
       "    }\n",
       "</style>\n",
       "<table border=\"1\" class=\"dataframe\">\n",
       "  <thead>\n",
       "    <tr style=\"text-align: right;\">\n",
       "      <th></th>\n",
       "      <th>A</th>\n",
       "      <th>B</th>\n",
       "      <th>C</th>\n",
       "      <th>D</th>\n",
       "      <th>E</th>\n",
       "      <th>F</th>\n",
       "    </tr>\n",
       "  </thead>\n",
       "  <tbody>\n",
       "    <tr>\n",
       "      <th>0</th>\n",
       "      <td>1.0</td>\n",
       "      <td>2022-03-14</td>\n",
       "      <td>1.0</td>\n",
       "      <td>3</td>\n",
       "      <td>girl</td>\n",
       "      <td>female</td>\n",
       "    </tr>\n",
       "    <tr>\n",
       "      <th>1</th>\n",
       "      <td>1.0</td>\n",
       "      <td>2022-03-14</td>\n",
       "      <td>1.0</td>\n",
       "      <td>3</td>\n",
       "      <td>woman</td>\n",
       "      <td>female</td>\n",
       "    </tr>\n",
       "    <tr>\n",
       "      <th>2</th>\n",
       "      <td>1.0</td>\n",
       "      <td>2022-03-14</td>\n",
       "      <td>1.0</td>\n",
       "      <td>3</td>\n",
       "      <td>girl</td>\n",
       "      <td>female</td>\n",
       "    </tr>\n",
       "    <tr>\n",
       "      <th>3</th>\n",
       "      <td>1.0</td>\n",
       "      <td>2022-03-14</td>\n",
       "      <td>1.0</td>\n",
       "      <td>3</td>\n",
       "      <td>woman</td>\n",
       "      <td>female</td>\n",
       "    </tr>\n",
       "  </tbody>\n",
       "</table>\n",
       "</div>"
      ],
      "text/plain": [
       "     A          B    C  D      E       F\n",
       "0  1.0 2022-03-14  1.0  3   girl  female\n",
       "1  1.0 2022-03-14  1.0  3  woman  female\n",
       "2  1.0 2022-03-14  1.0  3   girl  female\n",
       "3  1.0 2022-03-14  1.0  3  woman  female"
      ]
     },
     "execution_count": 12,
     "metadata": {},
     "output_type": "execute_result"
    }
   ],
   "source": [
    "df2 = pd.DataFrame(\n",
    "    {\n",
    "        'A': 1.0,\n",
    "        'B' : pd.Timestamp('20220314'),\n",
    "        'C' : pd.Series(1, index=list(range(4)), dtype='float32'),\n",
    "        'D' : np.array([3] * 4, dtype='int32'),\n",
    "        'E' : pd.Categorical(['girl', 'woman', 'girl', 'woman']),\n",
    "        'F' : 'female',\n",
    "    }\n",
    ")\n",
    "df2"
   ]
  },
  {
   "cell_type": "code",
   "execution_count": 14,
   "metadata": {},
   "outputs": [
    {
     "data": {
      "text/plain": [
       "A           float64\n",
       "B    datetime64[ns]\n",
       "C           float32\n",
       "D             int32\n",
       "E          category\n",
       "F            object\n",
       "dtype: object"
      ]
     },
     "execution_count": 14,
     "metadata": {},
     "output_type": "execute_result"
    }
   ],
   "source": [
    "df2.dtypes"
   ]
  },
  {
   "cell_type": "code",
   "execution_count": 15,
   "metadata": {},
   "outputs": [
    {
     "data": {
      "text/html": [
       "<div>\n",
       "<style scoped>\n",
       "    .dataframe tbody tr th:only-of-type {\n",
       "        vertical-align: middle;\n",
       "    }\n",
       "\n",
       "    .dataframe tbody tr th {\n",
       "        vertical-align: top;\n",
       "    }\n",
       "\n",
       "    .dataframe thead th {\n",
       "        text-align: right;\n",
       "    }\n",
       "</style>\n",
       "<table border=\"1\" class=\"dataframe\">\n",
       "  <thead>\n",
       "    <tr style=\"text-align: right;\">\n",
       "      <th></th>\n",
       "      <th>A</th>\n",
       "      <th>B</th>\n",
       "      <th>C</th>\n",
       "      <th>D</th>\n",
       "    </tr>\n",
       "  </thead>\n",
       "  <tbody>\n",
       "    <tr>\n",
       "      <th>2022-01-01</th>\n",
       "      <td>-0.950106</td>\n",
       "      <td>0.666944</td>\n",
       "      <td>1.255174</td>\n",
       "      <td>0.620168</td>\n",
       "    </tr>\n",
       "    <tr>\n",
       "      <th>2022-01-02</th>\n",
       "      <td>0.679854</td>\n",
       "      <td>0.704714</td>\n",
       "      <td>1.847270</td>\n",
       "      <td>0.444161</td>\n",
       "    </tr>\n",
       "    <tr>\n",
       "      <th>2022-01-03</th>\n",
       "      <td>-0.549860</td>\n",
       "      <td>0.095673</td>\n",
       "      <td>-1.062794</td>\n",
       "      <td>-1.483643</td>\n",
       "    </tr>\n",
       "    <tr>\n",
       "      <th>2022-01-04</th>\n",
       "      <td>-0.840756</td>\n",
       "      <td>-1.541808</td>\n",
       "      <td>0.716966</td>\n",
       "      <td>-0.547674</td>\n",
       "    </tr>\n",
       "  </tbody>\n",
       "</table>\n",
       "</div>"
      ],
      "text/plain": [
       "                   A         B         C         D\n",
       "2022-01-01 -0.950106  0.666944  1.255174  0.620168\n",
       "2022-01-02  0.679854  0.704714  1.847270  0.444161\n",
       "2022-01-03 -0.549860  0.095673 -1.062794 -1.483643\n",
       "2022-01-04 -0.840756 -1.541808  0.716966 -0.547674"
      ]
     },
     "execution_count": 15,
     "metadata": {},
     "output_type": "execute_result"
    }
   ],
   "source": [
    "# head method\n",
    "df.head(4)  # shows first 4 rows"
   ]
  },
  {
   "cell_type": "code",
   "execution_count": 16,
   "metadata": {},
   "outputs": [
    {
     "data": {
      "text/html": [
       "<div>\n",
       "<style scoped>\n",
       "    .dataframe tbody tr th:only-of-type {\n",
       "        vertical-align: middle;\n",
       "    }\n",
       "\n",
       "    .dataframe tbody tr th {\n",
       "        vertical-align: top;\n",
       "    }\n",
       "\n",
       "    .dataframe thead th {\n",
       "        text-align: right;\n",
       "    }\n",
       "</style>\n",
       "<table border=\"1\" class=\"dataframe\">\n",
       "  <thead>\n",
       "    <tr style=\"text-align: right;\">\n",
       "      <th></th>\n",
       "      <th>A</th>\n",
       "      <th>B</th>\n",
       "      <th>C</th>\n",
       "      <th>D</th>\n",
       "    </tr>\n",
       "  </thead>\n",
       "  <tbody>\n",
       "    <tr>\n",
       "      <th>2022-01-19</th>\n",
       "      <td>-1.469375</td>\n",
       "      <td>-0.034409</td>\n",
       "      <td>-0.486798</td>\n",
       "      <td>-1.216058</td>\n",
       "    </tr>\n",
       "    <tr>\n",
       "      <th>2022-01-20</th>\n",
       "      <td>0.297953</td>\n",
       "      <td>0.560134</td>\n",
       "      <td>-0.049372</td>\n",
       "      <td>0.240628</td>\n",
       "    </tr>\n",
       "  </tbody>\n",
       "</table>\n",
       "</div>"
      ],
      "text/plain": [
       "                   A         B         C         D\n",
       "2022-01-19 -1.469375 -0.034409 -0.486798 -1.216058\n",
       "2022-01-20  0.297953  0.560134 -0.049372  0.240628"
      ]
     },
     "execution_count": 16,
     "metadata": {},
     "output_type": "execute_result"
    }
   ],
   "source": [
    "df.tail(2)      # last 2 rows"
   ]
  },
  {
   "cell_type": "code",
   "execution_count": 19,
   "metadata": {},
   "outputs": [
    {
     "data": {
      "text/plain": [
       "DatetimeIndex(['2022-01-01', '2022-01-02', '2022-01-03', '2022-01-04',\n",
       "               '2022-01-05', '2022-01-06', '2022-01-07', '2022-01-08',\n",
       "               '2022-01-09', '2022-01-10', '2022-01-11', '2022-01-12',\n",
       "               '2022-01-13', '2022-01-14', '2022-01-15', '2022-01-16',\n",
       "               '2022-01-17', '2022-01-18', '2022-01-19', '2022-01-20'],\n",
       "              dtype='datetime64[ns]', freq='D')"
      ]
     },
     "execution_count": 19,
     "metadata": {},
     "output_type": "execute_result"
    }
   ],
   "source": [
    "df.index"
   ]
  },
  {
   "cell_type": "code",
   "execution_count": 20,
   "metadata": {},
   "outputs": [
    {
     "data": {
      "text/plain": [
       "array([[-0.95010582,  0.66694432,  1.25517431,  0.62016755],\n",
       "       [ 0.67985399,  0.70471366,  1.84726953,  0.44416054],\n",
       "       [-0.54985992,  0.0956732 , -1.06279356, -1.48364278],\n",
       "       [-0.84075575, -1.54180846,  0.71696612, -0.54767372],\n",
       "       [ 1.90329718,  0.82950604, -0.49204199,  1.24579925],\n",
       "       [-2.0873748 , -1.13486316,  1.06510831, -0.8171724 ],\n",
       "       [-0.3336765 , -0.782179  ,  1.13757981, -1.44184412],\n",
       "       [-0.58844572,  0.29443818,  1.34362263,  0.30184502],\n",
       "       [-0.09623966, -1.65048853,  0.09004135,  0.95432994],\n",
       "       [-0.64959576,  0.94163212,  0.80195586,  0.75637494],\n",
       "       [ 0.59301666,  1.43412276,  1.11577752, -0.75171684],\n",
       "       [-0.2312285 ,  1.24176027, -2.21707466, -1.62330856],\n",
       "       [ 0.8105335 ,  2.31332632, -0.7474015 , -1.22725142],\n",
       "       [-0.44631672,  0.35630299,  0.43005431,  1.05060875],\n",
       "       [-1.14381787, -0.88520068,  2.78800203,  0.05608148],\n",
       "       [-0.12995805, -0.09544285,  1.49017146, -1.0124465 ],\n",
       "       [-0.2020721 ,  0.56209436,  0.81743896, -1.95846952],\n",
       "       [-0.00297664,  2.16689279, -0.41676885, -0.88325934],\n",
       "       [-1.46937519, -0.03440855, -0.48679757, -1.21605849],\n",
       "       [ 0.29795254,  0.56013394, -0.04937241,  0.2406284 ]])"
      ]
     },
     "execution_count": 20,
     "metadata": {},
     "output_type": "execute_result"
    }
   ],
   "source": [
    "# convert into numpy array\n",
    "df.to_numpy()"
   ]
  },
  {
   "cell_type": "code",
   "execution_count": 21,
   "metadata": {},
   "outputs": [
    {
     "data": {
      "text/plain": [
       "array([[1.0, Timestamp('2022-03-14 00:00:00'), 1.0, 3, 'girl', 'female'],\n",
       "       [1.0, Timestamp('2022-03-14 00:00:00'), 1.0, 3, 'woman', 'female'],\n",
       "       [1.0, Timestamp('2022-03-14 00:00:00'), 1.0, 3, 'girl', 'female'],\n",
       "       [1.0, Timestamp('2022-03-14 00:00:00'), 1.0, 3, 'woman', 'female']],\n",
       "      dtype=object)"
      ]
     },
     "execution_count": 21,
     "metadata": {},
     "output_type": "execute_result"
    }
   ],
   "source": [
    "df2.to_numpy()"
   ]
  },
  {
   "cell_type": "code",
   "execution_count": 22,
   "metadata": {},
   "outputs": [
    {
     "data": {
      "text/html": [
       "<div>\n",
       "<style scoped>\n",
       "    .dataframe tbody tr th:only-of-type {\n",
       "        vertical-align: middle;\n",
       "    }\n",
       "\n",
       "    .dataframe tbody tr th {\n",
       "        vertical-align: top;\n",
       "    }\n",
       "\n",
       "    .dataframe thead th {\n",
       "        text-align: right;\n",
       "    }\n",
       "</style>\n",
       "<table border=\"1\" class=\"dataframe\">\n",
       "  <thead>\n",
       "    <tr style=\"text-align: right;\">\n",
       "      <th></th>\n",
       "      <th>A</th>\n",
       "      <th>B</th>\n",
       "      <th>C</th>\n",
       "      <th>D</th>\n",
       "    </tr>\n",
       "  </thead>\n",
       "  <tbody>\n",
       "    <tr>\n",
       "      <th>count</th>\n",
       "      <td>20.000000</td>\n",
       "      <td>20.000000</td>\n",
       "      <td>20.000000</td>\n",
       "      <td>20.000000</td>\n",
       "    </tr>\n",
       "    <tr>\n",
       "      <th>mean</th>\n",
       "      <td>-0.271857</td>\n",
       "      <td>0.302157</td>\n",
       "      <td>0.471346</td>\n",
       "      <td>-0.364642</td>\n",
       "    </tr>\n",
       "    <tr>\n",
       "      <th>std</th>\n",
       "      <td>0.877787</td>\n",
       "      <td>1.099836</td>\n",
       "      <td>1.153807</td>\n",
       "      <td>1.007529</td>\n",
       "    </tr>\n",
       "    <tr>\n",
       "      <th>min</th>\n",
       "      <td>-2.087375</td>\n",
       "      <td>-1.650489</td>\n",
       "      <td>-2.217075</td>\n",
       "      <td>-1.958470</td>\n",
       "    </tr>\n",
       "    <tr>\n",
       "      <th>25%</th>\n",
       "      <td>-0.697386</td>\n",
       "      <td>-0.267127</td>\n",
       "      <td>-0.434276</td>\n",
       "      <td>-1.218857</td>\n",
       "    </tr>\n",
       "    <tr>\n",
       "      <th>50%</th>\n",
       "      <td>-0.282453</td>\n",
       "      <td>0.458218</td>\n",
       "      <td>0.759461</td>\n",
       "      <td>-0.649695</td>\n",
       "    </tr>\n",
       "    <tr>\n",
       "      <th>75%</th>\n",
       "      <td>0.072256</td>\n",
       "      <td>0.857538</td>\n",
       "      <td>1.166978</td>\n",
       "      <td>0.488162</td>\n",
       "    </tr>\n",
       "    <tr>\n",
       "      <th>max</th>\n",
       "      <td>1.903297</td>\n",
       "      <td>2.313326</td>\n",
       "      <td>2.788002</td>\n",
       "      <td>1.245799</td>\n",
       "    </tr>\n",
       "  </tbody>\n",
       "</table>\n",
       "</div>"
      ],
      "text/plain": [
       "               A          B          C          D\n",
       "count  20.000000  20.000000  20.000000  20.000000\n",
       "mean   -0.271857   0.302157   0.471346  -0.364642\n",
       "std     0.877787   1.099836   1.153807   1.007529\n",
       "min    -2.087375  -1.650489  -2.217075  -1.958470\n",
       "25%    -0.697386  -0.267127  -0.434276  -1.218857\n",
       "50%    -0.282453   0.458218   0.759461  -0.649695\n",
       "75%     0.072256   0.857538   1.166978   0.488162\n",
       "max     1.903297   2.313326   2.788002   1.245799"
      ]
     },
     "execution_count": 22,
     "metadata": {},
     "output_type": "execute_result"
    }
   ],
   "source": [
    "# describe function\n",
    "df.describe()"
   ]
  },
  {
   "cell_type": "code",
   "execution_count": 23,
   "metadata": {},
   "outputs": [
    {
     "data": {
      "text/html": [
       "<div>\n",
       "<style scoped>\n",
       "    .dataframe tbody tr th:only-of-type {\n",
       "        vertical-align: middle;\n",
       "    }\n",
       "\n",
       "    .dataframe tbody tr th {\n",
       "        vertical-align: top;\n",
       "    }\n",
       "\n",
       "    .dataframe thead th {\n",
       "        text-align: right;\n",
       "    }\n",
       "</style>\n",
       "<table border=\"1\" class=\"dataframe\">\n",
       "  <thead>\n",
       "    <tr style=\"text-align: right;\">\n",
       "      <th></th>\n",
       "      <th>0</th>\n",
       "      <th>1</th>\n",
       "      <th>2</th>\n",
       "      <th>3</th>\n",
       "    </tr>\n",
       "  </thead>\n",
       "  <tbody>\n",
       "    <tr>\n",
       "      <th>A</th>\n",
       "      <td>1.0</td>\n",
       "      <td>1.0</td>\n",
       "      <td>1.0</td>\n",
       "      <td>1.0</td>\n",
       "    </tr>\n",
       "    <tr>\n",
       "      <th>B</th>\n",
       "      <td>2022-03-14 00:00:00</td>\n",
       "      <td>2022-03-14 00:00:00</td>\n",
       "      <td>2022-03-14 00:00:00</td>\n",
       "      <td>2022-03-14 00:00:00</td>\n",
       "    </tr>\n",
       "    <tr>\n",
       "      <th>C</th>\n",
       "      <td>1.0</td>\n",
       "      <td>1.0</td>\n",
       "      <td>1.0</td>\n",
       "      <td>1.0</td>\n",
       "    </tr>\n",
       "    <tr>\n",
       "      <th>D</th>\n",
       "      <td>3</td>\n",
       "      <td>3</td>\n",
       "      <td>3</td>\n",
       "      <td>3</td>\n",
       "    </tr>\n",
       "    <tr>\n",
       "      <th>E</th>\n",
       "      <td>girl</td>\n",
       "      <td>woman</td>\n",
       "      <td>girl</td>\n",
       "      <td>woman</td>\n",
       "    </tr>\n",
       "    <tr>\n",
       "      <th>F</th>\n",
       "      <td>female</td>\n",
       "      <td>female</td>\n",
       "      <td>female</td>\n",
       "      <td>female</td>\n",
       "    </tr>\n",
       "  </tbody>\n",
       "</table>\n",
       "</div>"
      ],
      "text/plain": [
       "                     0                    1                    2  \\\n",
       "A                  1.0                  1.0                  1.0   \n",
       "B  2022-03-14 00:00:00  2022-03-14 00:00:00  2022-03-14 00:00:00   \n",
       "C                  1.0                  1.0                  1.0   \n",
       "D                    3                    3                    3   \n",
       "E                 girl                woman                 girl   \n",
       "F               female               female               female   \n",
       "\n",
       "                     3  \n",
       "A                  1.0  \n",
       "B  2022-03-14 00:00:00  \n",
       "C                  1.0  \n",
       "D                    3  \n",
       "E                woman  \n",
       "F               female  "
      ]
     },
     "execution_count": 23,
     "metadata": {},
     "output_type": "execute_result"
    }
   ],
   "source": [
    "# transpose data\n",
    "df2.T"
   ]
  },
  {
   "cell_type": "code",
   "execution_count": 24,
   "metadata": {},
   "outputs": [
    {
     "data": {
      "text/html": [
       "<div>\n",
       "<style scoped>\n",
       "    .dataframe tbody tr th:only-of-type {\n",
       "        vertical-align: middle;\n",
       "    }\n",
       "\n",
       "    .dataframe tbody tr th {\n",
       "        vertical-align: top;\n",
       "    }\n",
       "\n",
       "    .dataframe thead th {\n",
       "        text-align: right;\n",
       "    }\n",
       "</style>\n",
       "<table border=\"1\" class=\"dataframe\">\n",
       "  <thead>\n",
       "    <tr style=\"text-align: right;\">\n",
       "      <th></th>\n",
       "      <th>A</th>\n",
       "      <th>B</th>\n",
       "      <th>C</th>\n",
       "      <th>D</th>\n",
       "    </tr>\n",
       "  </thead>\n",
       "  <tbody>\n",
       "    <tr>\n",
       "      <th>2022-01-01</th>\n",
       "      <td>-0.950106</td>\n",
       "      <td>0.666944</td>\n",
       "      <td>1.255174</td>\n",
       "      <td>0.620168</td>\n",
       "    </tr>\n",
       "    <tr>\n",
       "      <th>2022-01-02</th>\n",
       "      <td>0.679854</td>\n",
       "      <td>0.704714</td>\n",
       "      <td>1.847270</td>\n",
       "      <td>0.444161</td>\n",
       "    </tr>\n",
       "    <tr>\n",
       "      <th>2022-01-03</th>\n",
       "      <td>-0.549860</td>\n",
       "      <td>0.095673</td>\n",
       "      <td>-1.062794</td>\n",
       "      <td>-1.483643</td>\n",
       "    </tr>\n",
       "    <tr>\n",
       "      <th>2022-01-04</th>\n",
       "      <td>-0.840756</td>\n",
       "      <td>-1.541808</td>\n",
       "      <td>0.716966</td>\n",
       "      <td>-0.547674</td>\n",
       "    </tr>\n",
       "    <tr>\n",
       "      <th>2022-01-05</th>\n",
       "      <td>1.903297</td>\n",
       "      <td>0.829506</td>\n",
       "      <td>-0.492042</td>\n",
       "      <td>1.245799</td>\n",
       "    </tr>\n",
       "    <tr>\n",
       "      <th>2022-01-06</th>\n",
       "      <td>-2.087375</td>\n",
       "      <td>-1.134863</td>\n",
       "      <td>1.065108</td>\n",
       "      <td>-0.817172</td>\n",
       "    </tr>\n",
       "    <tr>\n",
       "      <th>2022-01-07</th>\n",
       "      <td>-0.333677</td>\n",
       "      <td>-0.782179</td>\n",
       "      <td>1.137580</td>\n",
       "      <td>-1.441844</td>\n",
       "    </tr>\n",
       "    <tr>\n",
       "      <th>2022-01-08</th>\n",
       "      <td>-0.588446</td>\n",
       "      <td>0.294438</td>\n",
       "      <td>1.343623</td>\n",
       "      <td>0.301845</td>\n",
       "    </tr>\n",
       "    <tr>\n",
       "      <th>2022-01-09</th>\n",
       "      <td>-0.096240</td>\n",
       "      <td>-1.650489</td>\n",
       "      <td>0.090041</td>\n",
       "      <td>0.954330</td>\n",
       "    </tr>\n",
       "    <tr>\n",
       "      <th>2022-01-10</th>\n",
       "      <td>-0.649596</td>\n",
       "      <td>0.941632</td>\n",
       "      <td>0.801956</td>\n",
       "      <td>0.756375</td>\n",
       "    </tr>\n",
       "    <tr>\n",
       "      <th>2022-01-11</th>\n",
       "      <td>0.593017</td>\n",
       "      <td>1.434123</td>\n",
       "      <td>1.115778</td>\n",
       "      <td>-0.751717</td>\n",
       "    </tr>\n",
       "    <tr>\n",
       "      <th>2022-01-12</th>\n",
       "      <td>-0.231228</td>\n",
       "      <td>1.241760</td>\n",
       "      <td>-2.217075</td>\n",
       "      <td>-1.623309</td>\n",
       "    </tr>\n",
       "    <tr>\n",
       "      <th>2022-01-13</th>\n",
       "      <td>0.810533</td>\n",
       "      <td>2.313326</td>\n",
       "      <td>-0.747402</td>\n",
       "      <td>-1.227251</td>\n",
       "    </tr>\n",
       "    <tr>\n",
       "      <th>2022-01-14</th>\n",
       "      <td>-0.446317</td>\n",
       "      <td>0.356303</td>\n",
       "      <td>0.430054</td>\n",
       "      <td>1.050609</td>\n",
       "    </tr>\n",
       "    <tr>\n",
       "      <th>2022-01-15</th>\n",
       "      <td>-1.143818</td>\n",
       "      <td>-0.885201</td>\n",
       "      <td>2.788002</td>\n",
       "      <td>0.056081</td>\n",
       "    </tr>\n",
       "    <tr>\n",
       "      <th>2022-01-16</th>\n",
       "      <td>-0.129958</td>\n",
       "      <td>-0.095443</td>\n",
       "      <td>1.490171</td>\n",
       "      <td>-1.012446</td>\n",
       "    </tr>\n",
       "    <tr>\n",
       "      <th>2022-01-17</th>\n",
       "      <td>-0.202072</td>\n",
       "      <td>0.562094</td>\n",
       "      <td>0.817439</td>\n",
       "      <td>-1.958470</td>\n",
       "    </tr>\n",
       "    <tr>\n",
       "      <th>2022-01-18</th>\n",
       "      <td>-0.002977</td>\n",
       "      <td>2.166893</td>\n",
       "      <td>-0.416769</td>\n",
       "      <td>-0.883259</td>\n",
       "    </tr>\n",
       "    <tr>\n",
       "      <th>2022-01-19</th>\n",
       "      <td>-1.469375</td>\n",
       "      <td>-0.034409</td>\n",
       "      <td>-0.486798</td>\n",
       "      <td>-1.216058</td>\n",
       "    </tr>\n",
       "    <tr>\n",
       "      <th>2022-01-20</th>\n",
       "      <td>0.297953</td>\n",
       "      <td>0.560134</td>\n",
       "      <td>-0.049372</td>\n",
       "      <td>0.240628</td>\n",
       "    </tr>\n",
       "  </tbody>\n",
       "</table>\n",
       "</div>"
      ],
      "text/plain": [
       "                   A         B         C         D\n",
       "2022-01-01 -0.950106  0.666944  1.255174  0.620168\n",
       "2022-01-02  0.679854  0.704714  1.847270  0.444161\n",
       "2022-01-03 -0.549860  0.095673 -1.062794 -1.483643\n",
       "2022-01-04 -0.840756 -1.541808  0.716966 -0.547674\n",
       "2022-01-05  1.903297  0.829506 -0.492042  1.245799\n",
       "2022-01-06 -2.087375 -1.134863  1.065108 -0.817172\n",
       "2022-01-07 -0.333677 -0.782179  1.137580 -1.441844\n",
       "2022-01-08 -0.588446  0.294438  1.343623  0.301845\n",
       "2022-01-09 -0.096240 -1.650489  0.090041  0.954330\n",
       "2022-01-10 -0.649596  0.941632  0.801956  0.756375\n",
       "2022-01-11  0.593017  1.434123  1.115778 -0.751717\n",
       "2022-01-12 -0.231228  1.241760 -2.217075 -1.623309\n",
       "2022-01-13  0.810533  2.313326 -0.747402 -1.227251\n",
       "2022-01-14 -0.446317  0.356303  0.430054  1.050609\n",
       "2022-01-15 -1.143818 -0.885201  2.788002  0.056081\n",
       "2022-01-16 -0.129958 -0.095443  1.490171 -1.012446\n",
       "2022-01-17 -0.202072  0.562094  0.817439 -1.958470\n",
       "2022-01-18 -0.002977  2.166893 -0.416769 -0.883259\n",
       "2022-01-19 -1.469375 -0.034409 -0.486798 -1.216058\n",
       "2022-01-20  0.297953  0.560134 -0.049372  0.240628"
      ]
     },
     "execution_count": 24,
     "metadata": {},
     "output_type": "execute_result"
    }
   ],
   "source": [
    "df.sort_index(axis=1, ascending=True)"
   ]
  },
  {
   "cell_type": "code",
   "execution_count": 25,
   "metadata": {},
   "outputs": [
    {
     "data": {
      "text/html": [
       "<div>\n",
       "<style scoped>\n",
       "    .dataframe tbody tr th:only-of-type {\n",
       "        vertical-align: middle;\n",
       "    }\n",
       "\n",
       "    .dataframe tbody tr th {\n",
       "        vertical-align: top;\n",
       "    }\n",
       "\n",
       "    .dataframe thead th {\n",
       "        text-align: right;\n",
       "    }\n",
       "</style>\n",
       "<table border=\"1\" class=\"dataframe\">\n",
       "  <thead>\n",
       "    <tr style=\"text-align: right;\">\n",
       "      <th></th>\n",
       "      <th>A</th>\n",
       "      <th>B</th>\n",
       "      <th>C</th>\n",
       "      <th>D</th>\n",
       "    </tr>\n",
       "  </thead>\n",
       "  <tbody>\n",
       "    <tr>\n",
       "      <th>2022-01-01</th>\n",
       "      <td>-0.950106</td>\n",
       "      <td>0.666944</td>\n",
       "      <td>1.255174</td>\n",
       "      <td>0.620168</td>\n",
       "    </tr>\n",
       "    <tr>\n",
       "      <th>2022-01-02</th>\n",
       "      <td>0.679854</td>\n",
       "      <td>0.704714</td>\n",
       "      <td>1.847270</td>\n",
       "      <td>0.444161</td>\n",
       "    </tr>\n",
       "    <tr>\n",
       "      <th>2022-01-03</th>\n",
       "      <td>-0.549860</td>\n",
       "      <td>0.095673</td>\n",
       "      <td>-1.062794</td>\n",
       "      <td>-1.483643</td>\n",
       "    </tr>\n",
       "    <tr>\n",
       "      <th>2022-01-04</th>\n",
       "      <td>-0.840756</td>\n",
       "      <td>-1.541808</td>\n",
       "      <td>0.716966</td>\n",
       "      <td>-0.547674</td>\n",
       "    </tr>\n",
       "    <tr>\n",
       "      <th>2022-01-05</th>\n",
       "      <td>1.903297</td>\n",
       "      <td>0.829506</td>\n",
       "      <td>-0.492042</td>\n",
       "      <td>1.245799</td>\n",
       "    </tr>\n",
       "    <tr>\n",
       "      <th>2022-01-06</th>\n",
       "      <td>-2.087375</td>\n",
       "      <td>-1.134863</td>\n",
       "      <td>1.065108</td>\n",
       "      <td>-0.817172</td>\n",
       "    </tr>\n",
       "    <tr>\n",
       "      <th>2022-01-07</th>\n",
       "      <td>-0.333677</td>\n",
       "      <td>-0.782179</td>\n",
       "      <td>1.137580</td>\n",
       "      <td>-1.441844</td>\n",
       "    </tr>\n",
       "    <tr>\n",
       "      <th>2022-01-08</th>\n",
       "      <td>-0.588446</td>\n",
       "      <td>0.294438</td>\n",
       "      <td>1.343623</td>\n",
       "      <td>0.301845</td>\n",
       "    </tr>\n",
       "    <tr>\n",
       "      <th>2022-01-09</th>\n",
       "      <td>-0.096240</td>\n",
       "      <td>-1.650489</td>\n",
       "      <td>0.090041</td>\n",
       "      <td>0.954330</td>\n",
       "    </tr>\n",
       "    <tr>\n",
       "      <th>2022-01-10</th>\n",
       "      <td>-0.649596</td>\n",
       "      <td>0.941632</td>\n",
       "      <td>0.801956</td>\n",
       "      <td>0.756375</td>\n",
       "    </tr>\n",
       "    <tr>\n",
       "      <th>2022-01-11</th>\n",
       "      <td>0.593017</td>\n",
       "      <td>1.434123</td>\n",
       "      <td>1.115778</td>\n",
       "      <td>-0.751717</td>\n",
       "    </tr>\n",
       "    <tr>\n",
       "      <th>2022-01-12</th>\n",
       "      <td>-0.231228</td>\n",
       "      <td>1.241760</td>\n",
       "      <td>-2.217075</td>\n",
       "      <td>-1.623309</td>\n",
       "    </tr>\n",
       "    <tr>\n",
       "      <th>2022-01-13</th>\n",
       "      <td>0.810533</td>\n",
       "      <td>2.313326</td>\n",
       "      <td>-0.747402</td>\n",
       "      <td>-1.227251</td>\n",
       "    </tr>\n",
       "    <tr>\n",
       "      <th>2022-01-14</th>\n",
       "      <td>-0.446317</td>\n",
       "      <td>0.356303</td>\n",
       "      <td>0.430054</td>\n",
       "      <td>1.050609</td>\n",
       "    </tr>\n",
       "    <tr>\n",
       "      <th>2022-01-15</th>\n",
       "      <td>-1.143818</td>\n",
       "      <td>-0.885201</td>\n",
       "      <td>2.788002</td>\n",
       "      <td>0.056081</td>\n",
       "    </tr>\n",
       "    <tr>\n",
       "      <th>2022-01-16</th>\n",
       "      <td>-0.129958</td>\n",
       "      <td>-0.095443</td>\n",
       "      <td>1.490171</td>\n",
       "      <td>-1.012446</td>\n",
       "    </tr>\n",
       "    <tr>\n",
       "      <th>2022-01-17</th>\n",
       "      <td>-0.202072</td>\n",
       "      <td>0.562094</td>\n",
       "      <td>0.817439</td>\n",
       "      <td>-1.958470</td>\n",
       "    </tr>\n",
       "    <tr>\n",
       "      <th>2022-01-18</th>\n",
       "      <td>-0.002977</td>\n",
       "      <td>2.166893</td>\n",
       "      <td>-0.416769</td>\n",
       "      <td>-0.883259</td>\n",
       "    </tr>\n",
       "    <tr>\n",
       "      <th>2022-01-19</th>\n",
       "      <td>-1.469375</td>\n",
       "      <td>-0.034409</td>\n",
       "      <td>-0.486798</td>\n",
       "      <td>-1.216058</td>\n",
       "    </tr>\n",
       "    <tr>\n",
       "      <th>2022-01-20</th>\n",
       "      <td>0.297953</td>\n",
       "      <td>0.560134</td>\n",
       "      <td>-0.049372</td>\n",
       "      <td>0.240628</td>\n",
       "    </tr>\n",
       "  </tbody>\n",
       "</table>\n",
       "</div>"
      ],
      "text/plain": [
       "                   A         B         C         D\n",
       "2022-01-01 -0.950106  0.666944  1.255174  0.620168\n",
       "2022-01-02  0.679854  0.704714  1.847270  0.444161\n",
       "2022-01-03 -0.549860  0.095673 -1.062794 -1.483643\n",
       "2022-01-04 -0.840756 -1.541808  0.716966 -0.547674\n",
       "2022-01-05  1.903297  0.829506 -0.492042  1.245799\n",
       "2022-01-06 -2.087375 -1.134863  1.065108 -0.817172\n",
       "2022-01-07 -0.333677 -0.782179  1.137580 -1.441844\n",
       "2022-01-08 -0.588446  0.294438  1.343623  0.301845\n",
       "2022-01-09 -0.096240 -1.650489  0.090041  0.954330\n",
       "2022-01-10 -0.649596  0.941632  0.801956  0.756375\n",
       "2022-01-11  0.593017  1.434123  1.115778 -0.751717\n",
       "2022-01-12 -0.231228  1.241760 -2.217075 -1.623309\n",
       "2022-01-13  0.810533  2.313326 -0.747402 -1.227251\n",
       "2022-01-14 -0.446317  0.356303  0.430054  1.050609\n",
       "2022-01-15 -1.143818 -0.885201  2.788002  0.056081\n",
       "2022-01-16 -0.129958 -0.095443  1.490171 -1.012446\n",
       "2022-01-17 -0.202072  0.562094  0.817439 -1.958470\n",
       "2022-01-18 -0.002977  2.166893 -0.416769 -0.883259\n",
       "2022-01-19 -1.469375 -0.034409 -0.486798 -1.216058\n",
       "2022-01-20  0.297953  0.560134 -0.049372  0.240628"
      ]
     },
     "execution_count": 25,
     "metadata": {},
     "output_type": "execute_result"
    }
   ],
   "source": [
    "df.sort_index(axis=0, ascending=True)"
   ]
  },
  {
   "cell_type": "code",
   "execution_count": 26,
   "metadata": {},
   "outputs": [
    {
     "data": {
      "text/html": [
       "<div>\n",
       "<style scoped>\n",
       "    .dataframe tbody tr th:only-of-type {\n",
       "        vertical-align: middle;\n",
       "    }\n",
       "\n",
       "    .dataframe tbody tr th {\n",
       "        vertical-align: top;\n",
       "    }\n",
       "\n",
       "    .dataframe thead th {\n",
       "        text-align: right;\n",
       "    }\n",
       "</style>\n",
       "<table border=\"1\" class=\"dataframe\">\n",
       "  <thead>\n",
       "    <tr style=\"text-align: right;\">\n",
       "      <th></th>\n",
       "      <th>A</th>\n",
       "      <th>B</th>\n",
       "      <th>C</th>\n",
       "      <th>D</th>\n",
       "    </tr>\n",
       "  </thead>\n",
       "  <tbody>\n",
       "    <tr>\n",
       "      <th>2022-01-09</th>\n",
       "      <td>-0.096240</td>\n",
       "      <td>-1.650489</td>\n",
       "      <td>0.090041</td>\n",
       "      <td>0.954330</td>\n",
       "    </tr>\n",
       "    <tr>\n",
       "      <th>2022-01-04</th>\n",
       "      <td>-0.840756</td>\n",
       "      <td>-1.541808</td>\n",
       "      <td>0.716966</td>\n",
       "      <td>-0.547674</td>\n",
       "    </tr>\n",
       "    <tr>\n",
       "      <th>2022-01-06</th>\n",
       "      <td>-2.087375</td>\n",
       "      <td>-1.134863</td>\n",
       "      <td>1.065108</td>\n",
       "      <td>-0.817172</td>\n",
       "    </tr>\n",
       "    <tr>\n",
       "      <th>2022-01-15</th>\n",
       "      <td>-1.143818</td>\n",
       "      <td>-0.885201</td>\n",
       "      <td>2.788002</td>\n",
       "      <td>0.056081</td>\n",
       "    </tr>\n",
       "    <tr>\n",
       "      <th>2022-01-07</th>\n",
       "      <td>-0.333677</td>\n",
       "      <td>-0.782179</td>\n",
       "      <td>1.137580</td>\n",
       "      <td>-1.441844</td>\n",
       "    </tr>\n",
       "    <tr>\n",
       "      <th>2022-01-16</th>\n",
       "      <td>-0.129958</td>\n",
       "      <td>-0.095443</td>\n",
       "      <td>1.490171</td>\n",
       "      <td>-1.012446</td>\n",
       "    </tr>\n",
       "    <tr>\n",
       "      <th>2022-01-19</th>\n",
       "      <td>-1.469375</td>\n",
       "      <td>-0.034409</td>\n",
       "      <td>-0.486798</td>\n",
       "      <td>-1.216058</td>\n",
       "    </tr>\n",
       "    <tr>\n",
       "      <th>2022-01-03</th>\n",
       "      <td>-0.549860</td>\n",
       "      <td>0.095673</td>\n",
       "      <td>-1.062794</td>\n",
       "      <td>-1.483643</td>\n",
       "    </tr>\n",
       "    <tr>\n",
       "      <th>2022-01-08</th>\n",
       "      <td>-0.588446</td>\n",
       "      <td>0.294438</td>\n",
       "      <td>1.343623</td>\n",
       "      <td>0.301845</td>\n",
       "    </tr>\n",
       "    <tr>\n",
       "      <th>2022-01-14</th>\n",
       "      <td>-0.446317</td>\n",
       "      <td>0.356303</td>\n",
       "      <td>0.430054</td>\n",
       "      <td>1.050609</td>\n",
       "    </tr>\n",
       "    <tr>\n",
       "      <th>2022-01-20</th>\n",
       "      <td>0.297953</td>\n",
       "      <td>0.560134</td>\n",
       "      <td>-0.049372</td>\n",
       "      <td>0.240628</td>\n",
       "    </tr>\n",
       "    <tr>\n",
       "      <th>2022-01-17</th>\n",
       "      <td>-0.202072</td>\n",
       "      <td>0.562094</td>\n",
       "      <td>0.817439</td>\n",
       "      <td>-1.958470</td>\n",
       "    </tr>\n",
       "    <tr>\n",
       "      <th>2022-01-01</th>\n",
       "      <td>-0.950106</td>\n",
       "      <td>0.666944</td>\n",
       "      <td>1.255174</td>\n",
       "      <td>0.620168</td>\n",
       "    </tr>\n",
       "    <tr>\n",
       "      <th>2022-01-02</th>\n",
       "      <td>0.679854</td>\n",
       "      <td>0.704714</td>\n",
       "      <td>1.847270</td>\n",
       "      <td>0.444161</td>\n",
       "    </tr>\n",
       "    <tr>\n",
       "      <th>2022-01-05</th>\n",
       "      <td>1.903297</td>\n",
       "      <td>0.829506</td>\n",
       "      <td>-0.492042</td>\n",
       "      <td>1.245799</td>\n",
       "    </tr>\n",
       "    <tr>\n",
       "      <th>2022-01-10</th>\n",
       "      <td>-0.649596</td>\n",
       "      <td>0.941632</td>\n",
       "      <td>0.801956</td>\n",
       "      <td>0.756375</td>\n",
       "    </tr>\n",
       "    <tr>\n",
       "      <th>2022-01-12</th>\n",
       "      <td>-0.231228</td>\n",
       "      <td>1.241760</td>\n",
       "      <td>-2.217075</td>\n",
       "      <td>-1.623309</td>\n",
       "    </tr>\n",
       "    <tr>\n",
       "      <th>2022-01-11</th>\n",
       "      <td>0.593017</td>\n",
       "      <td>1.434123</td>\n",
       "      <td>1.115778</td>\n",
       "      <td>-0.751717</td>\n",
       "    </tr>\n",
       "    <tr>\n",
       "      <th>2022-01-18</th>\n",
       "      <td>-0.002977</td>\n",
       "      <td>2.166893</td>\n",
       "      <td>-0.416769</td>\n",
       "      <td>-0.883259</td>\n",
       "    </tr>\n",
       "    <tr>\n",
       "      <th>2022-01-13</th>\n",
       "      <td>0.810533</td>\n",
       "      <td>2.313326</td>\n",
       "      <td>-0.747402</td>\n",
       "      <td>-1.227251</td>\n",
       "    </tr>\n",
       "  </tbody>\n",
       "</table>\n",
       "</div>"
      ],
      "text/plain": [
       "                   A         B         C         D\n",
       "2022-01-09 -0.096240 -1.650489  0.090041  0.954330\n",
       "2022-01-04 -0.840756 -1.541808  0.716966 -0.547674\n",
       "2022-01-06 -2.087375 -1.134863  1.065108 -0.817172\n",
       "2022-01-15 -1.143818 -0.885201  2.788002  0.056081\n",
       "2022-01-07 -0.333677 -0.782179  1.137580 -1.441844\n",
       "2022-01-16 -0.129958 -0.095443  1.490171 -1.012446\n",
       "2022-01-19 -1.469375 -0.034409 -0.486798 -1.216058\n",
       "2022-01-03 -0.549860  0.095673 -1.062794 -1.483643\n",
       "2022-01-08 -0.588446  0.294438  1.343623  0.301845\n",
       "2022-01-14 -0.446317  0.356303  0.430054  1.050609\n",
       "2022-01-20  0.297953  0.560134 -0.049372  0.240628\n",
       "2022-01-17 -0.202072  0.562094  0.817439 -1.958470\n",
       "2022-01-01 -0.950106  0.666944  1.255174  0.620168\n",
       "2022-01-02  0.679854  0.704714  1.847270  0.444161\n",
       "2022-01-05  1.903297  0.829506 -0.492042  1.245799\n",
       "2022-01-10 -0.649596  0.941632  0.801956  0.756375\n",
       "2022-01-12 -0.231228  1.241760 -2.217075 -1.623309\n",
       "2022-01-11  0.593017  1.434123  1.115778 -0.751717\n",
       "2022-01-18 -0.002977  2.166893 -0.416769 -0.883259\n",
       "2022-01-13  0.810533  2.313326 -0.747402 -1.227251"
      ]
     },
     "execution_count": 26,
     "metadata": {},
     "output_type": "execute_result"
    }
   ],
   "source": [
    "df.sort_values(by='B')"
   ]
  },
  {
   "cell_type": "code",
   "execution_count": 27,
   "metadata": {},
   "outputs": [
    {
     "data": {
      "text/plain": [
       "2022-01-01   -0.950106\n",
       "2022-01-02    0.679854\n",
       "2022-01-03   -0.549860\n",
       "2022-01-04   -0.840756\n",
       "2022-01-05    1.903297\n",
       "2022-01-06   -2.087375\n",
       "2022-01-07   -0.333677\n",
       "2022-01-08   -0.588446\n",
       "2022-01-09   -0.096240\n",
       "2022-01-10   -0.649596\n",
       "2022-01-11    0.593017\n",
       "2022-01-12   -0.231228\n",
       "2022-01-13    0.810533\n",
       "2022-01-14   -0.446317\n",
       "2022-01-15   -1.143818\n",
       "2022-01-16   -0.129958\n",
       "2022-01-17   -0.202072\n",
       "2022-01-18   -0.002977\n",
       "2022-01-19   -1.469375\n",
       "2022-01-20    0.297953\n",
       "Freq: D, Name: A, dtype: float64"
      ]
     },
     "execution_count": 27,
     "metadata": {},
     "output_type": "execute_result"
    }
   ],
   "source": [
    "df['A']"
   ]
  },
  {
   "cell_type": "code",
   "execution_count": 28,
   "metadata": {},
   "outputs": [
    {
     "data": {
      "text/html": [
       "<div>\n",
       "<style scoped>\n",
       "    .dataframe tbody tr th:only-of-type {\n",
       "        vertical-align: middle;\n",
       "    }\n",
       "\n",
       "    .dataframe tbody tr th {\n",
       "        vertical-align: top;\n",
       "    }\n",
       "\n",
       "    .dataframe thead th {\n",
       "        text-align: right;\n",
       "    }\n",
       "</style>\n",
       "<table border=\"1\" class=\"dataframe\">\n",
       "  <thead>\n",
       "    <tr style=\"text-align: right;\">\n",
       "      <th></th>\n",
       "      <th>A</th>\n",
       "      <th>B</th>\n",
       "      <th>C</th>\n",
       "      <th>D</th>\n",
       "    </tr>\n",
       "  </thead>\n",
       "  <tbody>\n",
       "    <tr>\n",
       "      <th>2022-01-01</th>\n",
       "      <td>-0.950106</td>\n",
       "      <td>0.666944</td>\n",
       "      <td>1.255174</td>\n",
       "      <td>0.620168</td>\n",
       "    </tr>\n",
       "    <tr>\n",
       "      <th>2022-01-02</th>\n",
       "      <td>0.679854</td>\n",
       "      <td>0.704714</td>\n",
       "      <td>1.847270</td>\n",
       "      <td>0.444161</td>\n",
       "    </tr>\n",
       "  </tbody>\n",
       "</table>\n",
       "</div>"
      ],
      "text/plain": [
       "                   A         B         C         D\n",
       "2022-01-01 -0.950106  0.666944  1.255174  0.620168\n",
       "2022-01-02  0.679854  0.704714  1.847270  0.444161"
      ]
     },
     "execution_count": 28,
     "metadata": {},
     "output_type": "execute_result"
    }
   ],
   "source": [
    "# row wise selection\n",
    "df[0:2]"
   ]
  },
  {
   "cell_type": "code",
   "execution_count": 29,
   "metadata": {},
   "outputs": [
    {
     "data": {
      "text/plain": [
       "A   -0.950106\n",
       "B    0.666944\n",
       "C    1.255174\n",
       "D    0.620168\n",
       "Name: 2022-01-01 00:00:00, dtype: float64"
      ]
     },
     "execution_count": 29,
     "metadata": {},
     "output_type": "execute_result"
    }
   ],
   "source": [
    "# select by label\n",
    "df.loc[dates[0]]"
   ]
  },
  {
   "cell_type": "code",
   "execution_count": 32,
   "metadata": {},
   "outputs": [
    {
     "data": {
      "text/html": [
       "<div>\n",
       "<style scoped>\n",
       "    .dataframe tbody tr th:only-of-type {\n",
       "        vertical-align: middle;\n",
       "    }\n",
       "\n",
       "    .dataframe tbody tr th {\n",
       "        vertical-align: top;\n",
       "    }\n",
       "\n",
       "    .dataframe thead th {\n",
       "        text-align: right;\n",
       "    }\n",
       "</style>\n",
       "<table border=\"1\" class=\"dataframe\">\n",
       "  <thead>\n",
       "    <tr style=\"text-align: right;\">\n",
       "      <th></th>\n",
       "      <th>A</th>\n",
       "      <th>B</th>\n",
       "    </tr>\n",
       "  </thead>\n",
       "  <tbody>\n",
       "    <tr>\n",
       "      <th>2022-01-01</th>\n",
       "      <td>-0.950106</td>\n",
       "      <td>0.666944</td>\n",
       "    </tr>\n",
       "    <tr>\n",
       "      <th>2022-01-02</th>\n",
       "      <td>0.679854</td>\n",
       "      <td>0.704714</td>\n",
       "    </tr>\n",
       "    <tr>\n",
       "      <th>2022-01-03</th>\n",
       "      <td>-0.549860</td>\n",
       "      <td>0.095673</td>\n",
       "    </tr>\n",
       "    <tr>\n",
       "      <th>2022-01-04</th>\n",
       "      <td>-0.840756</td>\n",
       "      <td>-1.541808</td>\n",
       "    </tr>\n",
       "    <tr>\n",
       "      <th>2022-01-05</th>\n",
       "      <td>1.903297</td>\n",
       "      <td>0.829506</td>\n",
       "    </tr>\n",
       "    <tr>\n",
       "      <th>2022-01-06</th>\n",
       "      <td>-2.087375</td>\n",
       "      <td>-1.134863</td>\n",
       "    </tr>\n",
       "    <tr>\n",
       "      <th>2022-01-07</th>\n",
       "      <td>-0.333677</td>\n",
       "      <td>-0.782179</td>\n",
       "    </tr>\n",
       "    <tr>\n",
       "      <th>2022-01-08</th>\n",
       "      <td>-0.588446</td>\n",
       "      <td>0.294438</td>\n",
       "    </tr>\n",
       "    <tr>\n",
       "      <th>2022-01-09</th>\n",
       "      <td>-0.096240</td>\n",
       "      <td>-1.650489</td>\n",
       "    </tr>\n",
       "    <tr>\n",
       "      <th>2022-01-10</th>\n",
       "      <td>-0.649596</td>\n",
       "      <td>0.941632</td>\n",
       "    </tr>\n",
       "    <tr>\n",
       "      <th>2022-01-11</th>\n",
       "      <td>0.593017</td>\n",
       "      <td>1.434123</td>\n",
       "    </tr>\n",
       "    <tr>\n",
       "      <th>2022-01-12</th>\n",
       "      <td>-0.231228</td>\n",
       "      <td>1.241760</td>\n",
       "    </tr>\n",
       "    <tr>\n",
       "      <th>2022-01-13</th>\n",
       "      <td>0.810533</td>\n",
       "      <td>2.313326</td>\n",
       "    </tr>\n",
       "    <tr>\n",
       "      <th>2022-01-14</th>\n",
       "      <td>-0.446317</td>\n",
       "      <td>0.356303</td>\n",
       "    </tr>\n",
       "    <tr>\n",
       "      <th>2022-01-15</th>\n",
       "      <td>-1.143818</td>\n",
       "      <td>-0.885201</td>\n",
       "    </tr>\n",
       "    <tr>\n",
       "      <th>2022-01-16</th>\n",
       "      <td>-0.129958</td>\n",
       "      <td>-0.095443</td>\n",
       "    </tr>\n",
       "    <tr>\n",
       "      <th>2022-01-17</th>\n",
       "      <td>-0.202072</td>\n",
       "      <td>0.562094</td>\n",
       "    </tr>\n",
       "    <tr>\n",
       "      <th>2022-01-18</th>\n",
       "      <td>-0.002977</td>\n",
       "      <td>2.166893</td>\n",
       "    </tr>\n",
       "    <tr>\n",
       "      <th>2022-01-19</th>\n",
       "      <td>-1.469375</td>\n",
       "      <td>-0.034409</td>\n",
       "    </tr>\n",
       "    <tr>\n",
       "      <th>2022-01-20</th>\n",
       "      <td>0.297953</td>\n",
       "      <td>0.560134</td>\n",
       "    </tr>\n",
       "  </tbody>\n",
       "</table>\n",
       "</div>"
      ],
      "text/plain": [
       "                   A         B\n",
       "2022-01-01 -0.950106  0.666944\n",
       "2022-01-02  0.679854  0.704714\n",
       "2022-01-03 -0.549860  0.095673\n",
       "2022-01-04 -0.840756 -1.541808\n",
       "2022-01-05  1.903297  0.829506\n",
       "2022-01-06 -2.087375 -1.134863\n",
       "2022-01-07 -0.333677 -0.782179\n",
       "2022-01-08 -0.588446  0.294438\n",
       "2022-01-09 -0.096240 -1.650489\n",
       "2022-01-10 -0.649596  0.941632\n",
       "2022-01-11  0.593017  1.434123\n",
       "2022-01-12 -0.231228  1.241760\n",
       "2022-01-13  0.810533  2.313326\n",
       "2022-01-14 -0.446317  0.356303\n",
       "2022-01-15 -1.143818 -0.885201\n",
       "2022-01-16 -0.129958 -0.095443\n",
       "2022-01-17 -0.202072  0.562094\n",
       "2022-01-18 -0.002977  2.166893\n",
       "2022-01-19 -1.469375 -0.034409\n",
       "2022-01-20  0.297953  0.560134"
      ]
     },
     "execution_count": 32,
     "metadata": {},
     "output_type": "execute_result"
    }
   ],
   "source": [
    "# column wise selection\n",
    "df.loc[:, ['A', 'B']]"
   ]
  },
  {
   "cell_type": "code",
   "execution_count": 34,
   "metadata": {},
   "outputs": [
    {
     "data": {
      "text/html": [
       "<div>\n",
       "<style scoped>\n",
       "    .dataframe tbody tr th:only-of-type {\n",
       "        vertical-align: middle;\n",
       "    }\n",
       "\n",
       "    .dataframe tbody tr th {\n",
       "        vertical-align: top;\n",
       "    }\n",
       "\n",
       "    .dataframe thead th {\n",
       "        text-align: right;\n",
       "    }\n",
       "</style>\n",
       "<table border=\"1\" class=\"dataframe\">\n",
       "  <thead>\n",
       "    <tr style=\"text-align: right;\">\n",
       "      <th></th>\n",
       "      <th>A</th>\n",
       "      <th>B</th>\n",
       "    </tr>\n",
       "  </thead>\n",
       "  <tbody>\n",
       "    <tr>\n",
       "      <th>2022-01-02</th>\n",
       "      <td>0.679854</td>\n",
       "      <td>0.704714</td>\n",
       "    </tr>\n",
       "    <tr>\n",
       "      <th>2022-01-03</th>\n",
       "      <td>-0.549860</td>\n",
       "      <td>0.095673</td>\n",
       "    </tr>\n",
       "    <tr>\n",
       "      <th>2022-01-04</th>\n",
       "      <td>-0.840756</td>\n",
       "      <td>-1.541808</td>\n",
       "    </tr>\n",
       "  </tbody>\n",
       "</table>\n",
       "</div>"
      ],
      "text/plain": [
       "                   A         B\n",
       "2022-01-02  0.679854  0.704714\n",
       "2022-01-03 -0.549860  0.095673\n",
       "2022-01-04 -0.840756 -1.541808"
      ]
     },
     "execution_count": 34,
     "metadata": {},
     "output_type": "execute_result"
    }
   ],
   "source": [
    "df.loc['20220102':'20220104', ['A', 'B']]"
   ]
  },
  {
   "cell_type": "code",
   "execution_count": 36,
   "metadata": {},
   "outputs": [
    {
     "data": {
      "text/plain": [
       "A    0.679854\n",
       "B    0.704714\n",
       "C    1.847270\n",
       "Name: 2022-01-02 00:00:00, dtype: float64"
      ]
     },
     "execution_count": 36,
     "metadata": {},
     "output_type": "execute_result"
    }
   ],
   "source": [
    "df.loc['20220102', ['A', 'B', 'C']]"
   ]
  },
  {
   "cell_type": "code",
   "execution_count": 37,
   "metadata": {},
   "outputs": [
    {
     "data": {
      "text/plain": [
       "-0.9501058169930408"
      ]
     },
     "execution_count": 37,
     "metadata": {},
     "output_type": "execute_result"
    }
   ],
   "source": [
    "#specify value based on date\n",
    "df.at[dates[0], 'A']"
   ]
  },
  {
   "cell_type": "code",
   "execution_count": 38,
   "metadata": {},
   "outputs": [
    {
     "data": {
      "text/plain": [
       "A   -0.840756\n",
       "B   -1.541808\n",
       "C    0.716966\n",
       "D   -0.547674\n",
       "Name: 2022-01-04 00:00:00, dtype: float64"
      ]
     },
     "execution_count": 38,
     "metadata": {},
     "output_type": "execute_result"
    }
   ],
   "source": [
    "# iloc function\n",
    "df.iloc[3]"
   ]
  },
  {
   "cell_type": "code",
   "execution_count": 39,
   "metadata": {},
   "outputs": [
    {
     "data": {
      "text/html": [
       "<div>\n",
       "<style scoped>\n",
       "    .dataframe tbody tr th:only-of-type {\n",
       "        vertical-align: middle;\n",
       "    }\n",
       "\n",
       "    .dataframe tbody tr th {\n",
       "        vertical-align: top;\n",
       "    }\n",
       "\n",
       "    .dataframe thead th {\n",
       "        text-align: right;\n",
       "    }\n",
       "</style>\n",
       "<table border=\"1\" class=\"dataframe\">\n",
       "  <thead>\n",
       "    <tr style=\"text-align: right;\">\n",
       "      <th></th>\n",
       "      <th>A</th>\n",
       "      <th>B</th>\n",
       "      <th>C</th>\n",
       "    </tr>\n",
       "  </thead>\n",
       "  <tbody>\n",
       "    <tr>\n",
       "      <th>2022-01-01</th>\n",
       "      <td>-0.950106</td>\n",
       "      <td>0.666944</td>\n",
       "      <td>1.255174</td>\n",
       "    </tr>\n",
       "    <tr>\n",
       "      <th>2022-01-02</th>\n",
       "      <td>0.679854</td>\n",
       "      <td>0.704714</td>\n",
       "      <td>1.847270</td>\n",
       "    </tr>\n",
       "    <tr>\n",
       "      <th>2022-01-03</th>\n",
       "      <td>-0.549860</td>\n",
       "      <td>0.095673</td>\n",
       "      <td>-1.062794</td>\n",
       "    </tr>\n",
       "    <tr>\n",
       "      <th>2022-01-04</th>\n",
       "      <td>-0.840756</td>\n",
       "      <td>-1.541808</td>\n",
       "      <td>0.716966</td>\n",
       "    </tr>\n",
       "    <tr>\n",
       "      <th>2022-01-05</th>\n",
       "      <td>1.903297</td>\n",
       "      <td>0.829506</td>\n",
       "      <td>-0.492042</td>\n",
       "    </tr>\n",
       "  </tbody>\n",
       "</table>\n",
       "</div>"
      ],
      "text/plain": [
       "                   A         B         C\n",
       "2022-01-01 -0.950106  0.666944  1.255174\n",
       "2022-01-02  0.679854  0.704714  1.847270\n",
       "2022-01-03 -0.549860  0.095673 -1.062794\n",
       "2022-01-04 -0.840756 -1.541808  0.716966\n",
       "2022-01-05  1.903297  0.829506 -0.492042"
      ]
     },
     "execution_count": 39,
     "metadata": {},
     "output_type": "execute_result"
    }
   ],
   "source": [
    "#implicity\n",
    "df.iloc[0:5, 0:3]"
   ]
  },
  {
   "cell_type": "code",
   "execution_count": 40,
   "metadata": {},
   "outputs": [
    {
     "data": {
      "text/html": [
       "<div>\n",
       "<style scoped>\n",
       "    .dataframe tbody tr th:only-of-type {\n",
       "        vertical-align: middle;\n",
       "    }\n",
       "\n",
       "    .dataframe tbody tr th {\n",
       "        vertical-align: top;\n",
       "    }\n",
       "\n",
       "    .dataframe thead th {\n",
       "        text-align: right;\n",
       "    }\n",
       "</style>\n",
       "<table border=\"1\" class=\"dataframe\">\n",
       "  <thead>\n",
       "    <tr style=\"text-align: right;\">\n",
       "      <th></th>\n",
       "      <th>A</th>\n",
       "      <th>B</th>\n",
       "    </tr>\n",
       "  </thead>\n",
       "  <tbody>\n",
       "    <tr>\n",
       "      <th>2022-01-01</th>\n",
       "      <td>-0.950106</td>\n",
       "      <td>0.666944</td>\n",
       "    </tr>\n",
       "    <tr>\n",
       "      <th>2022-01-02</th>\n",
       "      <td>0.679854</td>\n",
       "      <td>0.704714</td>\n",
       "    </tr>\n",
       "    <tr>\n",
       "      <th>2022-01-03</th>\n",
       "      <td>-0.549860</td>\n",
       "      <td>0.095673</td>\n",
       "    </tr>\n",
       "    <tr>\n",
       "      <th>2022-01-04</th>\n",
       "      <td>-0.840756</td>\n",
       "      <td>-1.541808</td>\n",
       "    </tr>\n",
       "    <tr>\n",
       "      <th>2022-01-05</th>\n",
       "      <td>1.903297</td>\n",
       "      <td>0.829506</td>\n",
       "    </tr>\n",
       "    <tr>\n",
       "      <th>2022-01-06</th>\n",
       "      <td>-2.087375</td>\n",
       "      <td>-1.134863</td>\n",
       "    </tr>\n",
       "    <tr>\n",
       "      <th>2022-01-07</th>\n",
       "      <td>-0.333677</td>\n",
       "      <td>-0.782179</td>\n",
       "    </tr>\n",
       "    <tr>\n",
       "      <th>2022-01-08</th>\n",
       "      <td>-0.588446</td>\n",
       "      <td>0.294438</td>\n",
       "    </tr>\n",
       "    <tr>\n",
       "      <th>2022-01-09</th>\n",
       "      <td>-0.096240</td>\n",
       "      <td>-1.650489</td>\n",
       "    </tr>\n",
       "    <tr>\n",
       "      <th>2022-01-10</th>\n",
       "      <td>-0.649596</td>\n",
       "      <td>0.941632</td>\n",
       "    </tr>\n",
       "    <tr>\n",
       "      <th>2022-01-11</th>\n",
       "      <td>0.593017</td>\n",
       "      <td>1.434123</td>\n",
       "    </tr>\n",
       "    <tr>\n",
       "      <th>2022-01-12</th>\n",
       "      <td>-0.231228</td>\n",
       "      <td>1.241760</td>\n",
       "    </tr>\n",
       "    <tr>\n",
       "      <th>2022-01-13</th>\n",
       "      <td>0.810533</td>\n",
       "      <td>2.313326</td>\n",
       "    </tr>\n",
       "    <tr>\n",
       "      <th>2022-01-14</th>\n",
       "      <td>-0.446317</td>\n",
       "      <td>0.356303</td>\n",
       "    </tr>\n",
       "    <tr>\n",
       "      <th>2022-01-15</th>\n",
       "      <td>-1.143818</td>\n",
       "      <td>-0.885201</td>\n",
       "    </tr>\n",
       "    <tr>\n",
       "      <th>2022-01-16</th>\n",
       "      <td>-0.129958</td>\n",
       "      <td>-0.095443</td>\n",
       "    </tr>\n",
       "    <tr>\n",
       "      <th>2022-01-17</th>\n",
       "      <td>-0.202072</td>\n",
       "      <td>0.562094</td>\n",
       "    </tr>\n",
       "    <tr>\n",
       "      <th>2022-01-18</th>\n",
       "      <td>-0.002977</td>\n",
       "      <td>2.166893</td>\n",
       "    </tr>\n",
       "    <tr>\n",
       "      <th>2022-01-19</th>\n",
       "      <td>-1.469375</td>\n",
       "      <td>-0.034409</td>\n",
       "    </tr>\n",
       "    <tr>\n",
       "      <th>2022-01-20</th>\n",
       "      <td>0.297953</td>\n",
       "      <td>0.560134</td>\n",
       "    </tr>\n",
       "  </tbody>\n",
       "</table>\n",
       "</div>"
      ],
      "text/plain": [
       "                   A         B\n",
       "2022-01-01 -0.950106  0.666944\n",
       "2022-01-02  0.679854  0.704714\n",
       "2022-01-03 -0.549860  0.095673\n",
       "2022-01-04 -0.840756 -1.541808\n",
       "2022-01-05  1.903297  0.829506\n",
       "2022-01-06 -2.087375 -1.134863\n",
       "2022-01-07 -0.333677 -0.782179\n",
       "2022-01-08 -0.588446  0.294438\n",
       "2022-01-09 -0.096240 -1.650489\n",
       "2022-01-10 -0.649596  0.941632\n",
       "2022-01-11  0.593017  1.434123\n",
       "2022-01-12 -0.231228  1.241760\n",
       "2022-01-13  0.810533  2.313326\n",
       "2022-01-14 -0.446317  0.356303\n",
       "2022-01-15 -1.143818 -0.885201\n",
       "2022-01-16 -0.129958 -0.095443\n",
       "2022-01-17 -0.202072  0.562094\n",
       "2022-01-18 -0.002977  2.166893\n",
       "2022-01-19 -1.469375 -0.034409\n",
       "2022-01-20  0.297953  0.560134"
      ]
     },
     "execution_count": 40,
     "metadata": {},
     "output_type": "execute_result"
    }
   ],
   "source": [
    "df.iloc[:, 0:2]"
   ]
  },
  {
   "cell_type": "code",
   "execution_count": 41,
   "metadata": {},
   "outputs": [
    {
     "data": {
      "text/html": [
       "<div>\n",
       "<style scoped>\n",
       "    .dataframe tbody tr th:only-of-type {\n",
       "        vertical-align: middle;\n",
       "    }\n",
       "\n",
       "    .dataframe tbody tr th {\n",
       "        vertical-align: top;\n",
       "    }\n",
       "\n",
       "    .dataframe thead th {\n",
       "        text-align: right;\n",
       "    }\n",
       "</style>\n",
       "<table border=\"1\" class=\"dataframe\">\n",
       "  <thead>\n",
       "    <tr style=\"text-align: right;\">\n",
       "      <th></th>\n",
       "      <th>A</th>\n",
       "      <th>B</th>\n",
       "      <th>C</th>\n",
       "      <th>D</th>\n",
       "    </tr>\n",
       "  </thead>\n",
       "  <tbody>\n",
       "    <tr>\n",
       "      <th>2022-01-02</th>\n",
       "      <td>0.679854</td>\n",
       "      <td>0.704714</td>\n",
       "      <td>1.847270</td>\n",
       "      <td>0.444161</td>\n",
       "    </tr>\n",
       "    <tr>\n",
       "      <th>2022-01-05</th>\n",
       "      <td>1.903297</td>\n",
       "      <td>0.829506</td>\n",
       "      <td>-0.492042</td>\n",
       "      <td>1.245799</td>\n",
       "    </tr>\n",
       "    <tr>\n",
       "      <th>2022-01-11</th>\n",
       "      <td>0.593017</td>\n",
       "      <td>1.434123</td>\n",
       "      <td>1.115778</td>\n",
       "      <td>-0.751717</td>\n",
       "    </tr>\n",
       "    <tr>\n",
       "      <th>2022-01-13</th>\n",
       "      <td>0.810533</td>\n",
       "      <td>2.313326</td>\n",
       "      <td>-0.747402</td>\n",
       "      <td>-1.227251</td>\n",
       "    </tr>\n",
       "    <tr>\n",
       "      <th>2022-01-20</th>\n",
       "      <td>0.297953</td>\n",
       "      <td>0.560134</td>\n",
       "      <td>-0.049372</td>\n",
       "      <td>0.240628</td>\n",
       "    </tr>\n",
       "  </tbody>\n",
       "</table>\n",
       "</div>"
      ],
      "text/plain": [
       "                   A         B         C         D\n",
       "2022-01-02  0.679854  0.704714  1.847270  0.444161\n",
       "2022-01-05  1.903297  0.829506 -0.492042  1.245799\n",
       "2022-01-11  0.593017  1.434123  1.115778 -0.751717\n",
       "2022-01-13  0.810533  2.313326 -0.747402 -1.227251\n",
       "2022-01-20  0.297953  0.560134 -0.049372  0.240628"
      ]
     },
     "execution_count": 41,
     "metadata": {},
     "output_type": "execute_result"
    }
   ],
   "source": [
    "df[df['A'] > 0]"
   ]
  },
  {
   "cell_type": "code",
   "execution_count": 42,
   "metadata": {},
   "outputs": [
    {
     "data": {
      "text/html": [
       "<div>\n",
       "<style scoped>\n",
       "    .dataframe tbody tr th:only-of-type {\n",
       "        vertical-align: middle;\n",
       "    }\n",
       "\n",
       "    .dataframe tbody tr th {\n",
       "        vertical-align: top;\n",
       "    }\n",
       "\n",
       "    .dataframe thead th {\n",
       "        text-align: right;\n",
       "    }\n",
       "</style>\n",
       "<table border=\"1\" class=\"dataframe\">\n",
       "  <thead>\n",
       "    <tr style=\"text-align: right;\">\n",
       "      <th></th>\n",
       "      <th>A</th>\n",
       "      <th>B</th>\n",
       "      <th>C</th>\n",
       "      <th>D</th>\n",
       "    </tr>\n",
       "  </thead>\n",
       "  <tbody>\n",
       "    <tr>\n",
       "      <th>2022-01-01</th>\n",
       "      <td>NaN</td>\n",
       "      <td>0.666944</td>\n",
       "      <td>1.255174</td>\n",
       "      <td>0.620168</td>\n",
       "    </tr>\n",
       "    <tr>\n",
       "      <th>2022-01-02</th>\n",
       "      <td>0.679854</td>\n",
       "      <td>0.704714</td>\n",
       "      <td>1.847270</td>\n",
       "      <td>0.444161</td>\n",
       "    </tr>\n",
       "    <tr>\n",
       "      <th>2022-01-03</th>\n",
       "      <td>NaN</td>\n",
       "      <td>0.095673</td>\n",
       "      <td>NaN</td>\n",
       "      <td>NaN</td>\n",
       "    </tr>\n",
       "    <tr>\n",
       "      <th>2022-01-04</th>\n",
       "      <td>NaN</td>\n",
       "      <td>NaN</td>\n",
       "      <td>0.716966</td>\n",
       "      <td>NaN</td>\n",
       "    </tr>\n",
       "    <tr>\n",
       "      <th>2022-01-05</th>\n",
       "      <td>1.903297</td>\n",
       "      <td>0.829506</td>\n",
       "      <td>NaN</td>\n",
       "      <td>1.245799</td>\n",
       "    </tr>\n",
       "    <tr>\n",
       "      <th>2022-01-06</th>\n",
       "      <td>NaN</td>\n",
       "      <td>NaN</td>\n",
       "      <td>1.065108</td>\n",
       "      <td>NaN</td>\n",
       "    </tr>\n",
       "    <tr>\n",
       "      <th>2022-01-07</th>\n",
       "      <td>NaN</td>\n",
       "      <td>NaN</td>\n",
       "      <td>1.137580</td>\n",
       "      <td>NaN</td>\n",
       "    </tr>\n",
       "    <tr>\n",
       "      <th>2022-01-08</th>\n",
       "      <td>NaN</td>\n",
       "      <td>0.294438</td>\n",
       "      <td>1.343623</td>\n",
       "      <td>0.301845</td>\n",
       "    </tr>\n",
       "    <tr>\n",
       "      <th>2022-01-09</th>\n",
       "      <td>NaN</td>\n",
       "      <td>NaN</td>\n",
       "      <td>0.090041</td>\n",
       "      <td>0.954330</td>\n",
       "    </tr>\n",
       "    <tr>\n",
       "      <th>2022-01-10</th>\n",
       "      <td>NaN</td>\n",
       "      <td>0.941632</td>\n",
       "      <td>0.801956</td>\n",
       "      <td>0.756375</td>\n",
       "    </tr>\n",
       "    <tr>\n",
       "      <th>2022-01-11</th>\n",
       "      <td>0.593017</td>\n",
       "      <td>1.434123</td>\n",
       "      <td>1.115778</td>\n",
       "      <td>NaN</td>\n",
       "    </tr>\n",
       "    <tr>\n",
       "      <th>2022-01-12</th>\n",
       "      <td>NaN</td>\n",
       "      <td>1.241760</td>\n",
       "      <td>NaN</td>\n",
       "      <td>NaN</td>\n",
       "    </tr>\n",
       "    <tr>\n",
       "      <th>2022-01-13</th>\n",
       "      <td>0.810533</td>\n",
       "      <td>2.313326</td>\n",
       "      <td>NaN</td>\n",
       "      <td>NaN</td>\n",
       "    </tr>\n",
       "    <tr>\n",
       "      <th>2022-01-14</th>\n",
       "      <td>NaN</td>\n",
       "      <td>0.356303</td>\n",
       "      <td>0.430054</td>\n",
       "      <td>1.050609</td>\n",
       "    </tr>\n",
       "    <tr>\n",
       "      <th>2022-01-15</th>\n",
       "      <td>NaN</td>\n",
       "      <td>NaN</td>\n",
       "      <td>2.788002</td>\n",
       "      <td>0.056081</td>\n",
       "    </tr>\n",
       "    <tr>\n",
       "      <th>2022-01-16</th>\n",
       "      <td>NaN</td>\n",
       "      <td>NaN</td>\n",
       "      <td>1.490171</td>\n",
       "      <td>NaN</td>\n",
       "    </tr>\n",
       "    <tr>\n",
       "      <th>2022-01-17</th>\n",
       "      <td>NaN</td>\n",
       "      <td>0.562094</td>\n",
       "      <td>0.817439</td>\n",
       "      <td>NaN</td>\n",
       "    </tr>\n",
       "    <tr>\n",
       "      <th>2022-01-18</th>\n",
       "      <td>NaN</td>\n",
       "      <td>2.166893</td>\n",
       "      <td>NaN</td>\n",
       "      <td>NaN</td>\n",
       "    </tr>\n",
       "    <tr>\n",
       "      <th>2022-01-19</th>\n",
       "      <td>NaN</td>\n",
       "      <td>NaN</td>\n",
       "      <td>NaN</td>\n",
       "      <td>NaN</td>\n",
       "    </tr>\n",
       "    <tr>\n",
       "      <th>2022-01-20</th>\n",
       "      <td>0.297953</td>\n",
       "      <td>0.560134</td>\n",
       "      <td>NaN</td>\n",
       "      <td>0.240628</td>\n",
       "    </tr>\n",
       "  </tbody>\n",
       "</table>\n",
       "</div>"
      ],
      "text/plain": [
       "                   A         B         C         D\n",
       "2022-01-01       NaN  0.666944  1.255174  0.620168\n",
       "2022-01-02  0.679854  0.704714  1.847270  0.444161\n",
       "2022-01-03       NaN  0.095673       NaN       NaN\n",
       "2022-01-04       NaN       NaN  0.716966       NaN\n",
       "2022-01-05  1.903297  0.829506       NaN  1.245799\n",
       "2022-01-06       NaN       NaN  1.065108       NaN\n",
       "2022-01-07       NaN       NaN  1.137580       NaN\n",
       "2022-01-08       NaN  0.294438  1.343623  0.301845\n",
       "2022-01-09       NaN       NaN  0.090041  0.954330\n",
       "2022-01-10       NaN  0.941632  0.801956  0.756375\n",
       "2022-01-11  0.593017  1.434123  1.115778       NaN\n",
       "2022-01-12       NaN  1.241760       NaN       NaN\n",
       "2022-01-13  0.810533  2.313326       NaN       NaN\n",
       "2022-01-14       NaN  0.356303  0.430054  1.050609\n",
       "2022-01-15       NaN       NaN  2.788002  0.056081\n",
       "2022-01-16       NaN       NaN  1.490171       NaN\n",
       "2022-01-17       NaN  0.562094  0.817439       NaN\n",
       "2022-01-18       NaN  2.166893       NaN       NaN\n",
       "2022-01-19       NaN       NaN       NaN       NaN\n",
       "2022-01-20  0.297953  0.560134       NaN  0.240628"
      ]
     },
     "execution_count": 42,
     "metadata": {},
     "output_type": "execute_result"
    }
   ],
   "source": [
    "df[df > 0]"
   ]
  },
  {
   "cell_type": "code",
   "execution_count": 44,
   "metadata": {},
   "outputs": [
    {
     "data": {
      "text/html": [
       "<div>\n",
       "<style scoped>\n",
       "    .dataframe tbody tr th:only-of-type {\n",
       "        vertical-align: middle;\n",
       "    }\n",
       "\n",
       "    .dataframe tbody tr th {\n",
       "        vertical-align: top;\n",
       "    }\n",
       "\n",
       "    .dataframe thead th {\n",
       "        text-align: right;\n",
       "    }\n",
       "</style>\n",
       "<table border=\"1\" class=\"dataframe\">\n",
       "  <thead>\n",
       "    <tr style=\"text-align: right;\">\n",
       "      <th></th>\n",
       "      <th>A</th>\n",
       "      <th>B</th>\n",
       "      <th>C</th>\n",
       "      <th>D</th>\n",
       "    </tr>\n",
       "  </thead>\n",
       "  <tbody>\n",
       "    <tr>\n",
       "      <th>2022-01-01</th>\n",
       "      <td>-0.950106</td>\n",
       "      <td>0.666944</td>\n",
       "      <td>1.255174</td>\n",
       "      <td>0.620168</td>\n",
       "    </tr>\n",
       "    <tr>\n",
       "      <th>2022-01-02</th>\n",
       "      <td>0.679854</td>\n",
       "      <td>0.704714</td>\n",
       "      <td>1.847270</td>\n",
       "      <td>0.444161</td>\n",
       "    </tr>\n",
       "    <tr>\n",
       "      <th>2022-01-03</th>\n",
       "      <td>-0.549860</td>\n",
       "      <td>0.095673</td>\n",
       "      <td>-1.062794</td>\n",
       "      <td>-1.483643</td>\n",
       "    </tr>\n",
       "    <tr>\n",
       "      <th>2022-01-04</th>\n",
       "      <td>-0.840756</td>\n",
       "      <td>-1.541808</td>\n",
       "      <td>0.716966</td>\n",
       "      <td>-0.547674</td>\n",
       "    </tr>\n",
       "    <tr>\n",
       "      <th>2022-01-05</th>\n",
       "      <td>1.903297</td>\n",
       "      <td>0.829506</td>\n",
       "      <td>-0.492042</td>\n",
       "      <td>1.245799</td>\n",
       "    </tr>\n",
       "    <tr>\n",
       "      <th>2022-01-06</th>\n",
       "      <td>-2.087375</td>\n",
       "      <td>-1.134863</td>\n",
       "      <td>1.065108</td>\n",
       "      <td>-0.817172</td>\n",
       "    </tr>\n",
       "    <tr>\n",
       "      <th>2022-01-07</th>\n",
       "      <td>-0.333677</td>\n",
       "      <td>-0.782179</td>\n",
       "      <td>1.137580</td>\n",
       "      <td>-1.441844</td>\n",
       "    </tr>\n",
       "    <tr>\n",
       "      <th>2022-01-08</th>\n",
       "      <td>-0.588446</td>\n",
       "      <td>0.294438</td>\n",
       "      <td>1.343623</td>\n",
       "      <td>0.301845</td>\n",
       "    </tr>\n",
       "    <tr>\n",
       "      <th>2022-01-09</th>\n",
       "      <td>-0.096240</td>\n",
       "      <td>-1.650489</td>\n",
       "      <td>0.090041</td>\n",
       "      <td>0.954330</td>\n",
       "    </tr>\n",
       "    <tr>\n",
       "      <th>2022-01-10</th>\n",
       "      <td>-0.649596</td>\n",
       "      <td>0.941632</td>\n",
       "      <td>0.801956</td>\n",
       "      <td>0.756375</td>\n",
       "    </tr>\n",
       "    <tr>\n",
       "      <th>2022-01-11</th>\n",
       "      <td>0.593017</td>\n",
       "      <td>1.434123</td>\n",
       "      <td>1.115778</td>\n",
       "      <td>-0.751717</td>\n",
       "    </tr>\n",
       "    <tr>\n",
       "      <th>2022-01-12</th>\n",
       "      <td>-0.231228</td>\n",
       "      <td>1.241760</td>\n",
       "      <td>-2.217075</td>\n",
       "      <td>-1.623309</td>\n",
       "    </tr>\n",
       "    <tr>\n",
       "      <th>2022-01-13</th>\n",
       "      <td>0.810533</td>\n",
       "      <td>2.313326</td>\n",
       "      <td>-0.747402</td>\n",
       "      <td>-1.227251</td>\n",
       "    </tr>\n",
       "    <tr>\n",
       "      <th>2022-01-14</th>\n",
       "      <td>-0.446317</td>\n",
       "      <td>0.356303</td>\n",
       "      <td>0.430054</td>\n",
       "      <td>1.050609</td>\n",
       "    </tr>\n",
       "    <tr>\n",
       "      <th>2022-01-15</th>\n",
       "      <td>-1.143818</td>\n",
       "      <td>-0.885201</td>\n",
       "      <td>2.788002</td>\n",
       "      <td>0.056081</td>\n",
       "    </tr>\n",
       "    <tr>\n",
       "      <th>2022-01-16</th>\n",
       "      <td>-0.129958</td>\n",
       "      <td>-0.095443</td>\n",
       "      <td>1.490171</td>\n",
       "      <td>-1.012446</td>\n",
       "    </tr>\n",
       "    <tr>\n",
       "      <th>2022-01-17</th>\n",
       "      <td>-0.202072</td>\n",
       "      <td>0.562094</td>\n",
       "      <td>0.817439</td>\n",
       "      <td>-1.958470</td>\n",
       "    </tr>\n",
       "    <tr>\n",
       "      <th>2022-01-18</th>\n",
       "      <td>-0.002977</td>\n",
       "      <td>2.166893</td>\n",
       "      <td>-0.416769</td>\n",
       "      <td>-0.883259</td>\n",
       "    </tr>\n",
       "    <tr>\n",
       "      <th>2022-01-19</th>\n",
       "      <td>-1.469375</td>\n",
       "      <td>-0.034409</td>\n",
       "      <td>-0.486798</td>\n",
       "      <td>-1.216058</td>\n",
       "    </tr>\n",
       "    <tr>\n",
       "      <th>2022-01-20</th>\n",
       "      <td>0.297953</td>\n",
       "      <td>0.560134</td>\n",
       "      <td>-0.049372</td>\n",
       "      <td>0.240628</td>\n",
       "    </tr>\n",
       "  </tbody>\n",
       "</table>\n",
       "</div>"
      ],
      "text/plain": [
       "                   A         B         C         D\n",
       "2022-01-01 -0.950106  0.666944  1.255174  0.620168\n",
       "2022-01-02  0.679854  0.704714  1.847270  0.444161\n",
       "2022-01-03 -0.549860  0.095673 -1.062794 -1.483643\n",
       "2022-01-04 -0.840756 -1.541808  0.716966 -0.547674\n",
       "2022-01-05  1.903297  0.829506 -0.492042  1.245799\n",
       "2022-01-06 -2.087375 -1.134863  1.065108 -0.817172\n",
       "2022-01-07 -0.333677 -0.782179  1.137580 -1.441844\n",
       "2022-01-08 -0.588446  0.294438  1.343623  0.301845\n",
       "2022-01-09 -0.096240 -1.650489  0.090041  0.954330\n",
       "2022-01-10 -0.649596  0.941632  0.801956  0.756375\n",
       "2022-01-11  0.593017  1.434123  1.115778 -0.751717\n",
       "2022-01-12 -0.231228  1.241760 -2.217075 -1.623309\n",
       "2022-01-13  0.810533  2.313326 -0.747402 -1.227251\n",
       "2022-01-14 -0.446317  0.356303  0.430054  1.050609\n",
       "2022-01-15 -1.143818 -0.885201  2.788002  0.056081\n",
       "2022-01-16 -0.129958 -0.095443  1.490171 -1.012446\n",
       "2022-01-17 -0.202072  0.562094  0.817439 -1.958470\n",
       "2022-01-18 -0.002977  2.166893 -0.416769 -0.883259\n",
       "2022-01-19 -1.469375 -0.034409 -0.486798 -1.216058\n",
       "2022-01-20  0.297953  0.560134 -0.049372  0.240628"
      ]
     },
     "execution_count": 44,
     "metadata": {},
     "output_type": "execute_result"
    }
   ],
   "source": [
    "df2 = df.copy()\n",
    "df2"
   ]
  },
  {
   "cell_type": "code",
   "execution_count": 45,
   "metadata": {},
   "outputs": [
    {
     "data": {
      "text/html": [
       "<div>\n",
       "<style scoped>\n",
       "    .dataframe tbody tr th:only-of-type {\n",
       "        vertical-align: middle;\n",
       "    }\n",
       "\n",
       "    .dataframe tbody tr th {\n",
       "        vertical-align: top;\n",
       "    }\n",
       "\n",
       "    .dataframe thead th {\n",
       "        text-align: right;\n",
       "    }\n",
       "</style>\n",
       "<table border=\"1\" class=\"dataframe\">\n",
       "  <thead>\n",
       "    <tr style=\"text-align: right;\">\n",
       "      <th></th>\n",
       "      <th>A</th>\n",
       "      <th>B</th>\n",
       "      <th>C</th>\n",
       "      <th>D</th>\n",
       "      <th>Babakacolumn</th>\n",
       "    </tr>\n",
       "  </thead>\n",
       "  <tbody>\n",
       "    <tr>\n",
       "      <th>2022-01-01</th>\n",
       "      <td>-0.950106</td>\n",
       "      <td>0.666944</td>\n",
       "      <td>1.255174</td>\n",
       "      <td>0.620168</td>\n",
       "      <td>one</td>\n",
       "    </tr>\n",
       "    <tr>\n",
       "      <th>2022-01-02</th>\n",
       "      <td>0.679854</td>\n",
       "      <td>0.704714</td>\n",
       "      <td>1.847270</td>\n",
       "      <td>0.444161</td>\n",
       "      <td>one</td>\n",
       "    </tr>\n",
       "    <tr>\n",
       "      <th>2022-01-03</th>\n",
       "      <td>-0.549860</td>\n",
       "      <td>0.095673</td>\n",
       "      <td>-1.062794</td>\n",
       "      <td>-1.483643</td>\n",
       "      <td>two</td>\n",
       "    </tr>\n",
       "    <tr>\n",
       "      <th>2022-01-04</th>\n",
       "      <td>-0.840756</td>\n",
       "      <td>-1.541808</td>\n",
       "      <td>0.716966</td>\n",
       "      <td>-0.547674</td>\n",
       "      <td>three</td>\n",
       "    </tr>\n",
       "    <tr>\n",
       "      <th>2022-01-05</th>\n",
       "      <td>1.903297</td>\n",
       "      <td>0.829506</td>\n",
       "      <td>-0.492042</td>\n",
       "      <td>1.245799</td>\n",
       "      <td>four</td>\n",
       "    </tr>\n",
       "    <tr>\n",
       "      <th>2022-01-06</th>\n",
       "      <td>-2.087375</td>\n",
       "      <td>-1.134863</td>\n",
       "      <td>1.065108</td>\n",
       "      <td>-0.817172</td>\n",
       "      <td>three</td>\n",
       "    </tr>\n",
       "    <tr>\n",
       "      <th>2022-01-07</th>\n",
       "      <td>-0.333677</td>\n",
       "      <td>-0.782179</td>\n",
       "      <td>1.137580</td>\n",
       "      <td>-1.441844</td>\n",
       "      <td>one</td>\n",
       "    </tr>\n",
       "    <tr>\n",
       "      <th>2022-01-08</th>\n",
       "      <td>-0.588446</td>\n",
       "      <td>0.294438</td>\n",
       "      <td>1.343623</td>\n",
       "      <td>0.301845</td>\n",
       "      <td>one</td>\n",
       "    </tr>\n",
       "    <tr>\n",
       "      <th>2022-01-09</th>\n",
       "      <td>-0.096240</td>\n",
       "      <td>-1.650489</td>\n",
       "      <td>0.090041</td>\n",
       "      <td>0.954330</td>\n",
       "      <td>two</td>\n",
       "    </tr>\n",
       "    <tr>\n",
       "      <th>2022-01-10</th>\n",
       "      <td>-0.649596</td>\n",
       "      <td>0.941632</td>\n",
       "      <td>0.801956</td>\n",
       "      <td>0.756375</td>\n",
       "      <td>three</td>\n",
       "    </tr>\n",
       "    <tr>\n",
       "      <th>2022-01-11</th>\n",
       "      <td>0.593017</td>\n",
       "      <td>1.434123</td>\n",
       "      <td>1.115778</td>\n",
       "      <td>-0.751717</td>\n",
       "      <td>four</td>\n",
       "    </tr>\n",
       "    <tr>\n",
       "      <th>2022-01-12</th>\n",
       "      <td>-0.231228</td>\n",
       "      <td>1.241760</td>\n",
       "      <td>-2.217075</td>\n",
       "      <td>-1.623309</td>\n",
       "      <td>three</td>\n",
       "    </tr>\n",
       "    <tr>\n",
       "      <th>2022-01-13</th>\n",
       "      <td>0.810533</td>\n",
       "      <td>2.313326</td>\n",
       "      <td>-0.747402</td>\n",
       "      <td>-1.227251</td>\n",
       "      <td>one</td>\n",
       "    </tr>\n",
       "    <tr>\n",
       "      <th>2022-01-14</th>\n",
       "      <td>-0.446317</td>\n",
       "      <td>0.356303</td>\n",
       "      <td>0.430054</td>\n",
       "      <td>1.050609</td>\n",
       "      <td>one</td>\n",
       "    </tr>\n",
       "    <tr>\n",
       "      <th>2022-01-15</th>\n",
       "      <td>-1.143818</td>\n",
       "      <td>-0.885201</td>\n",
       "      <td>2.788002</td>\n",
       "      <td>0.056081</td>\n",
       "      <td>two</td>\n",
       "    </tr>\n",
       "    <tr>\n",
       "      <th>2022-01-16</th>\n",
       "      <td>-0.129958</td>\n",
       "      <td>-0.095443</td>\n",
       "      <td>1.490171</td>\n",
       "      <td>-1.012446</td>\n",
       "      <td>three</td>\n",
       "    </tr>\n",
       "    <tr>\n",
       "      <th>2022-01-17</th>\n",
       "      <td>-0.202072</td>\n",
       "      <td>0.562094</td>\n",
       "      <td>0.817439</td>\n",
       "      <td>-1.958470</td>\n",
       "      <td>four</td>\n",
       "    </tr>\n",
       "    <tr>\n",
       "      <th>2022-01-18</th>\n",
       "      <td>-0.002977</td>\n",
       "      <td>2.166893</td>\n",
       "      <td>-0.416769</td>\n",
       "      <td>-0.883259</td>\n",
       "      <td>three</td>\n",
       "    </tr>\n",
       "    <tr>\n",
       "      <th>2022-01-19</th>\n",
       "      <td>-1.469375</td>\n",
       "      <td>-0.034409</td>\n",
       "      <td>-0.486798</td>\n",
       "      <td>-1.216058</td>\n",
       "      <td>four</td>\n",
       "    </tr>\n",
       "    <tr>\n",
       "      <th>2022-01-20</th>\n",
       "      <td>0.297953</td>\n",
       "      <td>0.560134</td>\n",
       "      <td>-0.049372</td>\n",
       "      <td>0.240628</td>\n",
       "      <td>three</td>\n",
       "    </tr>\n",
       "  </tbody>\n",
       "</table>\n",
       "</div>"
      ],
      "text/plain": [
       "                   A         B         C         D Babakacolumn\n",
       "2022-01-01 -0.950106  0.666944  1.255174  0.620168          one\n",
       "2022-01-02  0.679854  0.704714  1.847270  0.444161          one\n",
       "2022-01-03 -0.549860  0.095673 -1.062794 -1.483643          two\n",
       "2022-01-04 -0.840756 -1.541808  0.716966 -0.547674        three\n",
       "2022-01-05  1.903297  0.829506 -0.492042  1.245799         four\n",
       "2022-01-06 -2.087375 -1.134863  1.065108 -0.817172        three\n",
       "2022-01-07 -0.333677 -0.782179  1.137580 -1.441844          one\n",
       "2022-01-08 -0.588446  0.294438  1.343623  0.301845          one\n",
       "2022-01-09 -0.096240 -1.650489  0.090041  0.954330          two\n",
       "2022-01-10 -0.649596  0.941632  0.801956  0.756375        three\n",
       "2022-01-11  0.593017  1.434123  1.115778 -0.751717         four\n",
       "2022-01-12 -0.231228  1.241760 -2.217075 -1.623309        three\n",
       "2022-01-13  0.810533  2.313326 -0.747402 -1.227251          one\n",
       "2022-01-14 -0.446317  0.356303  0.430054  1.050609          one\n",
       "2022-01-15 -1.143818 -0.885201  2.788002  0.056081          two\n",
       "2022-01-16 -0.129958 -0.095443  1.490171 -1.012446        three\n",
       "2022-01-17 -0.202072  0.562094  0.817439 -1.958470         four\n",
       "2022-01-18 -0.002977  2.166893 -0.416769 -0.883259        three\n",
       "2022-01-19 -1.469375 -0.034409 -0.486798 -1.216058         four\n",
       "2022-01-20  0.297953  0.560134 -0.049372  0.240628        three"
      ]
     },
     "execution_count": 45,
     "metadata": {},
     "output_type": "execute_result"
    }
   ],
   "source": [
    "# Adding new column\n",
    "df2['Babakacolumn'] = ['one', 'one', 'two', 'three', 'four', 'three',\n",
    "'one', 'one', 'two', 'three', 'four', 'three',\n",
    "'one', 'one', 'two', 'three', 'four', 'three', 'four', 'three']\n",
    "df2"
   ]
  },
  {
   "cell_type": "code",
   "execution_count": 46,
   "metadata": {},
   "outputs": [
    {
     "data": {
      "text/html": [
       "<div>\n",
       "<style scoped>\n",
       "    .dataframe tbody tr th:only-of-type {\n",
       "        vertical-align: middle;\n",
       "    }\n",
       "\n",
       "    .dataframe tbody tr th {\n",
       "        vertical-align: top;\n",
       "    }\n",
       "\n",
       "    .dataframe thead th {\n",
       "        text-align: right;\n",
       "    }\n",
       "</style>\n",
       "<table border=\"1\" class=\"dataframe\">\n",
       "  <thead>\n",
       "    <tr style=\"text-align: right;\">\n",
       "      <th></th>\n",
       "      <th>A</th>\n",
       "      <th>B</th>\n",
       "      <th>C</th>\n",
       "      <th>D</th>\n",
       "      <th>Babakacolumn</th>\n",
       "      <th>new</th>\n",
       "    </tr>\n",
       "  </thead>\n",
       "  <tbody>\n",
       "    <tr>\n",
       "      <th>2022-01-01</th>\n",
       "      <td>-0.950106</td>\n",
       "      <td>0.666944</td>\n",
       "      <td>1.255174</td>\n",
       "      <td>0.620168</td>\n",
       "      <td>one</td>\n",
       "      <td>1</td>\n",
       "    </tr>\n",
       "    <tr>\n",
       "      <th>2022-01-02</th>\n",
       "      <td>0.679854</td>\n",
       "      <td>0.704714</td>\n",
       "      <td>1.847270</td>\n",
       "      <td>0.444161</td>\n",
       "      <td>one</td>\n",
       "      <td>2</td>\n",
       "    </tr>\n",
       "    <tr>\n",
       "      <th>2022-01-03</th>\n",
       "      <td>-0.549860</td>\n",
       "      <td>0.095673</td>\n",
       "      <td>-1.062794</td>\n",
       "      <td>-1.483643</td>\n",
       "      <td>two</td>\n",
       "      <td>3</td>\n",
       "    </tr>\n",
       "    <tr>\n",
       "      <th>2022-01-04</th>\n",
       "      <td>-0.840756</td>\n",
       "      <td>-1.541808</td>\n",
       "      <td>0.716966</td>\n",
       "      <td>-0.547674</td>\n",
       "      <td>three</td>\n",
       "      <td>4</td>\n",
       "    </tr>\n",
       "    <tr>\n",
       "      <th>2022-01-05</th>\n",
       "      <td>1.903297</td>\n",
       "      <td>0.829506</td>\n",
       "      <td>-0.492042</td>\n",
       "      <td>1.245799</td>\n",
       "      <td>four</td>\n",
       "      <td>5</td>\n",
       "    </tr>\n",
       "    <tr>\n",
       "      <th>2022-01-06</th>\n",
       "      <td>-2.087375</td>\n",
       "      <td>-1.134863</td>\n",
       "      <td>1.065108</td>\n",
       "      <td>-0.817172</td>\n",
       "      <td>three</td>\n",
       "      <td>1</td>\n",
       "    </tr>\n",
       "    <tr>\n",
       "      <th>2022-01-07</th>\n",
       "      <td>-0.333677</td>\n",
       "      <td>-0.782179</td>\n",
       "      <td>1.137580</td>\n",
       "      <td>-1.441844</td>\n",
       "      <td>one</td>\n",
       "      <td>2</td>\n",
       "    </tr>\n",
       "    <tr>\n",
       "      <th>2022-01-08</th>\n",
       "      <td>-0.588446</td>\n",
       "      <td>0.294438</td>\n",
       "      <td>1.343623</td>\n",
       "      <td>0.301845</td>\n",
       "      <td>one</td>\n",
       "      <td>3</td>\n",
       "    </tr>\n",
       "    <tr>\n",
       "      <th>2022-01-09</th>\n",
       "      <td>-0.096240</td>\n",
       "      <td>-1.650489</td>\n",
       "      <td>0.090041</td>\n",
       "      <td>0.954330</td>\n",
       "      <td>two</td>\n",
       "      <td>4</td>\n",
       "    </tr>\n",
       "    <tr>\n",
       "      <th>2022-01-10</th>\n",
       "      <td>-0.649596</td>\n",
       "      <td>0.941632</td>\n",
       "      <td>0.801956</td>\n",
       "      <td>0.756375</td>\n",
       "      <td>three</td>\n",
       "      <td>5</td>\n",
       "    </tr>\n",
       "    <tr>\n",
       "      <th>2022-01-11</th>\n",
       "      <td>0.593017</td>\n",
       "      <td>1.434123</td>\n",
       "      <td>1.115778</td>\n",
       "      <td>-0.751717</td>\n",
       "      <td>four</td>\n",
       "      <td>1</td>\n",
       "    </tr>\n",
       "    <tr>\n",
       "      <th>2022-01-12</th>\n",
       "      <td>-0.231228</td>\n",
       "      <td>1.241760</td>\n",
       "      <td>-2.217075</td>\n",
       "      <td>-1.623309</td>\n",
       "      <td>three</td>\n",
       "      <td>2</td>\n",
       "    </tr>\n",
       "    <tr>\n",
       "      <th>2022-01-13</th>\n",
       "      <td>0.810533</td>\n",
       "      <td>2.313326</td>\n",
       "      <td>-0.747402</td>\n",
       "      <td>-1.227251</td>\n",
       "      <td>one</td>\n",
       "      <td>3</td>\n",
       "    </tr>\n",
       "    <tr>\n",
       "      <th>2022-01-14</th>\n",
       "      <td>-0.446317</td>\n",
       "      <td>0.356303</td>\n",
       "      <td>0.430054</td>\n",
       "      <td>1.050609</td>\n",
       "      <td>one</td>\n",
       "      <td>4</td>\n",
       "    </tr>\n",
       "    <tr>\n",
       "      <th>2022-01-15</th>\n",
       "      <td>-1.143818</td>\n",
       "      <td>-0.885201</td>\n",
       "      <td>2.788002</td>\n",
       "      <td>0.056081</td>\n",
       "      <td>two</td>\n",
       "      <td>5</td>\n",
       "    </tr>\n",
       "    <tr>\n",
       "      <th>2022-01-16</th>\n",
       "      <td>-0.129958</td>\n",
       "      <td>-0.095443</td>\n",
       "      <td>1.490171</td>\n",
       "      <td>-1.012446</td>\n",
       "      <td>three</td>\n",
       "      <td>1</td>\n",
       "    </tr>\n",
       "    <tr>\n",
       "      <th>2022-01-17</th>\n",
       "      <td>-0.202072</td>\n",
       "      <td>0.562094</td>\n",
       "      <td>0.817439</td>\n",
       "      <td>-1.958470</td>\n",
       "      <td>four</td>\n",
       "      <td>2</td>\n",
       "    </tr>\n",
       "    <tr>\n",
       "      <th>2022-01-18</th>\n",
       "      <td>-0.002977</td>\n",
       "      <td>2.166893</td>\n",
       "      <td>-0.416769</td>\n",
       "      <td>-0.883259</td>\n",
       "      <td>three</td>\n",
       "      <td>3</td>\n",
       "    </tr>\n",
       "    <tr>\n",
       "      <th>2022-01-19</th>\n",
       "      <td>-1.469375</td>\n",
       "      <td>-0.034409</td>\n",
       "      <td>-0.486798</td>\n",
       "      <td>-1.216058</td>\n",
       "      <td>four</td>\n",
       "      <td>4</td>\n",
       "    </tr>\n",
       "    <tr>\n",
       "      <th>2022-01-20</th>\n",
       "      <td>0.297953</td>\n",
       "      <td>0.560134</td>\n",
       "      <td>-0.049372</td>\n",
       "      <td>0.240628</td>\n",
       "      <td>three</td>\n",
       "      <td>5</td>\n",
       "    </tr>\n",
       "  </tbody>\n",
       "</table>\n",
       "</div>"
      ],
      "text/plain": [
       "                   A         B         C         D Babakacolumn  new\n",
       "2022-01-01 -0.950106  0.666944  1.255174  0.620168          one    1\n",
       "2022-01-02  0.679854  0.704714  1.847270  0.444161          one    2\n",
       "2022-01-03 -0.549860  0.095673 -1.062794 -1.483643          two    3\n",
       "2022-01-04 -0.840756 -1.541808  0.716966 -0.547674        three    4\n",
       "2022-01-05  1.903297  0.829506 -0.492042  1.245799         four    5\n",
       "2022-01-06 -2.087375 -1.134863  1.065108 -0.817172        three    1\n",
       "2022-01-07 -0.333677 -0.782179  1.137580 -1.441844          one    2\n",
       "2022-01-08 -0.588446  0.294438  1.343623  0.301845          one    3\n",
       "2022-01-09 -0.096240 -1.650489  0.090041  0.954330          two    4\n",
       "2022-01-10 -0.649596  0.941632  0.801956  0.756375        three    5\n",
       "2022-01-11  0.593017  1.434123  1.115778 -0.751717         four    1\n",
       "2022-01-12 -0.231228  1.241760 -2.217075 -1.623309        three    2\n",
       "2022-01-13  0.810533  2.313326 -0.747402 -1.227251          one    3\n",
       "2022-01-14 -0.446317  0.356303  0.430054  1.050609          one    4\n",
       "2022-01-15 -1.143818 -0.885201  2.788002  0.056081          two    5\n",
       "2022-01-16 -0.129958 -0.095443  1.490171 -1.012446        three    1\n",
       "2022-01-17 -0.202072  0.562094  0.817439 -1.958470         four    2\n",
       "2022-01-18 -0.002977  2.166893 -0.416769 -0.883259        three    3\n",
       "2022-01-19 -1.469375 -0.034409 -0.486798 -1.216058         four    4\n",
       "2022-01-20  0.297953  0.560134 -0.049372  0.240628        three    5"
      ]
     },
     "execution_count": 46,
     "metadata": {},
     "output_type": "execute_result"
    }
   ],
   "source": [
    "df2['new'] = [1,2,3,4,5,1,2,3,4,5,1,2,3,4,5,1,2,3,4,5]\n",
    "df2"
   ]
  },
  {
   "cell_type": "code",
   "execution_count": 47,
   "metadata": {},
   "outputs": [
    {
     "data": {
      "text/html": [
       "<div>\n",
       "<style scoped>\n",
       "    .dataframe tbody tr th:only-of-type {\n",
       "        vertical-align: middle;\n",
       "    }\n",
       "\n",
       "    .dataframe tbody tr th {\n",
       "        vertical-align: top;\n",
       "    }\n",
       "\n",
       "    .dataframe thead th {\n",
       "        text-align: right;\n",
       "    }\n",
       "</style>\n",
       "<table border=\"1\" class=\"dataframe\">\n",
       "  <thead>\n",
       "    <tr style=\"text-align: right;\">\n",
       "      <th></th>\n",
       "      <th>A</th>\n",
       "      <th>B</th>\n",
       "      <th>C</th>\n",
       "      <th>D</th>\n",
       "    </tr>\n",
       "  </thead>\n",
       "  <tbody>\n",
       "    <tr>\n",
       "      <th>2022-01-01</th>\n",
       "      <td>-0.950106</td>\n",
       "      <td>0.666944</td>\n",
       "      <td>1.255174</td>\n",
       "      <td>0.620168</td>\n",
       "    </tr>\n",
       "    <tr>\n",
       "      <th>2022-01-02</th>\n",
       "      <td>0.679854</td>\n",
       "      <td>0.704714</td>\n",
       "      <td>1.847270</td>\n",
       "      <td>0.444161</td>\n",
       "    </tr>\n",
       "    <tr>\n",
       "      <th>2022-01-03</th>\n",
       "      <td>-0.549860</td>\n",
       "      <td>0.095673</td>\n",
       "      <td>-1.062794</td>\n",
       "      <td>-1.483643</td>\n",
       "    </tr>\n",
       "    <tr>\n",
       "      <th>2022-01-04</th>\n",
       "      <td>-0.840756</td>\n",
       "      <td>-1.541808</td>\n",
       "      <td>0.716966</td>\n",
       "      <td>-0.547674</td>\n",
       "    </tr>\n",
       "    <tr>\n",
       "      <th>2022-01-05</th>\n",
       "      <td>1.903297</td>\n",
       "      <td>0.829506</td>\n",
       "      <td>-0.492042</td>\n",
       "      <td>1.245799</td>\n",
       "    </tr>\n",
       "    <tr>\n",
       "      <th>2022-01-06</th>\n",
       "      <td>-2.087375</td>\n",
       "      <td>-1.134863</td>\n",
       "      <td>1.065108</td>\n",
       "      <td>-0.817172</td>\n",
       "    </tr>\n",
       "    <tr>\n",
       "      <th>2022-01-07</th>\n",
       "      <td>-0.333677</td>\n",
       "      <td>-0.782179</td>\n",
       "      <td>1.137580</td>\n",
       "      <td>-1.441844</td>\n",
       "    </tr>\n",
       "    <tr>\n",
       "      <th>2022-01-08</th>\n",
       "      <td>-0.588446</td>\n",
       "      <td>0.294438</td>\n",
       "      <td>1.343623</td>\n",
       "      <td>0.301845</td>\n",
       "    </tr>\n",
       "    <tr>\n",
       "      <th>2022-01-09</th>\n",
       "      <td>-0.096240</td>\n",
       "      <td>-1.650489</td>\n",
       "      <td>0.090041</td>\n",
       "      <td>0.954330</td>\n",
       "    </tr>\n",
       "    <tr>\n",
       "      <th>2022-01-10</th>\n",
       "      <td>-0.649596</td>\n",
       "      <td>0.941632</td>\n",
       "      <td>0.801956</td>\n",
       "      <td>0.756375</td>\n",
       "    </tr>\n",
       "    <tr>\n",
       "      <th>2022-01-11</th>\n",
       "      <td>0.593017</td>\n",
       "      <td>1.434123</td>\n",
       "      <td>1.115778</td>\n",
       "      <td>-0.751717</td>\n",
       "    </tr>\n",
       "    <tr>\n",
       "      <th>2022-01-12</th>\n",
       "      <td>-0.231228</td>\n",
       "      <td>1.241760</td>\n",
       "      <td>-2.217075</td>\n",
       "      <td>-1.623309</td>\n",
       "    </tr>\n",
       "    <tr>\n",
       "      <th>2022-01-13</th>\n",
       "      <td>0.810533</td>\n",
       "      <td>2.313326</td>\n",
       "      <td>-0.747402</td>\n",
       "      <td>-1.227251</td>\n",
       "    </tr>\n",
       "    <tr>\n",
       "      <th>2022-01-14</th>\n",
       "      <td>-0.446317</td>\n",
       "      <td>0.356303</td>\n",
       "      <td>0.430054</td>\n",
       "      <td>1.050609</td>\n",
       "    </tr>\n",
       "    <tr>\n",
       "      <th>2022-01-15</th>\n",
       "      <td>-1.143818</td>\n",
       "      <td>-0.885201</td>\n",
       "      <td>2.788002</td>\n",
       "      <td>0.056081</td>\n",
       "    </tr>\n",
       "    <tr>\n",
       "      <th>2022-01-16</th>\n",
       "      <td>-0.129958</td>\n",
       "      <td>-0.095443</td>\n",
       "      <td>1.490171</td>\n",
       "      <td>-1.012446</td>\n",
       "    </tr>\n",
       "    <tr>\n",
       "      <th>2022-01-17</th>\n",
       "      <td>-0.202072</td>\n",
       "      <td>0.562094</td>\n",
       "      <td>0.817439</td>\n",
       "      <td>-1.958470</td>\n",
       "    </tr>\n",
       "    <tr>\n",
       "      <th>2022-01-18</th>\n",
       "      <td>-0.002977</td>\n",
       "      <td>2.166893</td>\n",
       "      <td>-0.416769</td>\n",
       "      <td>-0.883259</td>\n",
       "    </tr>\n",
       "    <tr>\n",
       "      <th>2022-01-19</th>\n",
       "      <td>-1.469375</td>\n",
       "      <td>-0.034409</td>\n",
       "      <td>-0.486798</td>\n",
       "      <td>-1.216058</td>\n",
       "    </tr>\n",
       "    <tr>\n",
       "      <th>2022-01-20</th>\n",
       "      <td>0.297953</td>\n",
       "      <td>0.560134</td>\n",
       "      <td>-0.049372</td>\n",
       "      <td>0.240628</td>\n",
       "    </tr>\n",
       "  </tbody>\n",
       "</table>\n",
       "</div>"
      ],
      "text/plain": [
       "                   A         B         C         D\n",
       "2022-01-01 -0.950106  0.666944  1.255174  0.620168\n",
       "2022-01-02  0.679854  0.704714  1.847270  0.444161\n",
       "2022-01-03 -0.549860  0.095673 -1.062794 -1.483643\n",
       "2022-01-04 -0.840756 -1.541808  0.716966 -0.547674\n",
       "2022-01-05  1.903297  0.829506 -0.492042  1.245799\n",
       "2022-01-06 -2.087375 -1.134863  1.065108 -0.817172\n",
       "2022-01-07 -0.333677 -0.782179  1.137580 -1.441844\n",
       "2022-01-08 -0.588446  0.294438  1.343623  0.301845\n",
       "2022-01-09 -0.096240 -1.650489  0.090041  0.954330\n",
       "2022-01-10 -0.649596  0.941632  0.801956  0.756375\n",
       "2022-01-11  0.593017  1.434123  1.115778 -0.751717\n",
       "2022-01-12 -0.231228  1.241760 -2.217075 -1.623309\n",
       "2022-01-13  0.810533  2.313326 -0.747402 -1.227251\n",
       "2022-01-14 -0.446317  0.356303  0.430054  1.050609\n",
       "2022-01-15 -1.143818 -0.885201  2.788002  0.056081\n",
       "2022-01-16 -0.129958 -0.095443  1.490171 -1.012446\n",
       "2022-01-17 -0.202072  0.562094  0.817439 -1.958470\n",
       "2022-01-18 -0.002977  2.166893 -0.416769 -0.883259\n",
       "2022-01-19 -1.469375 -0.034409 -0.486798 -1.216058\n",
       "2022-01-20  0.297953  0.560134 -0.049372  0.240628"
      ]
     },
     "execution_count": 47,
     "metadata": {},
     "output_type": "execute_result"
    }
   ],
   "source": [
    "# Getting first four columns\n",
    "df2= df2.iloc[:, 0:4]\n",
    "df2"
   ]
  },
  {
   "cell_type": "code",
   "execution_count": 48,
   "metadata": {},
   "outputs": [
    {
     "data": {
      "text/html": [
       "<div>\n",
       "<style scoped>\n",
       "    .dataframe tbody tr th:only-of-type {\n",
       "        vertical-align: middle;\n",
       "    }\n",
       "\n",
       "    .dataframe tbody tr th {\n",
       "        vertical-align: top;\n",
       "    }\n",
       "\n",
       "    .dataframe thead th {\n",
       "        text-align: right;\n",
       "    }\n",
       "</style>\n",
       "<table border=\"1\" class=\"dataframe\">\n",
       "  <thead>\n",
       "    <tr style=\"text-align: right;\">\n",
       "      <th></th>\n",
       "      <th>A</th>\n",
       "      <th>B</th>\n",
       "      <th>C</th>\n",
       "      <th>D</th>\n",
       "    </tr>\n",
       "  </thead>\n",
       "  <tbody>\n",
       "    <tr>\n",
       "      <th>2022-01-02</th>\n",
       "      <td>0.679854</td>\n",
       "      <td>0.704714</td>\n",
       "      <td>1.847270</td>\n",
       "      <td>0.444161</td>\n",
       "    </tr>\n",
       "    <tr>\n",
       "      <th>2022-01-05</th>\n",
       "      <td>1.903297</td>\n",
       "      <td>0.829506</td>\n",
       "      <td>-0.492042</td>\n",
       "      <td>1.245799</td>\n",
       "    </tr>\n",
       "    <tr>\n",
       "      <th>2022-01-11</th>\n",
       "      <td>0.593017</td>\n",
       "      <td>1.434123</td>\n",
       "      <td>1.115778</td>\n",
       "      <td>-0.751717</td>\n",
       "    </tr>\n",
       "    <tr>\n",
       "      <th>2022-01-13</th>\n",
       "      <td>0.810533</td>\n",
       "      <td>2.313326</td>\n",
       "      <td>-0.747402</td>\n",
       "      <td>-1.227251</td>\n",
       "    </tr>\n",
       "    <tr>\n",
       "      <th>2022-01-20</th>\n",
       "      <td>0.297953</td>\n",
       "      <td>0.560134</td>\n",
       "      <td>-0.049372</td>\n",
       "      <td>0.240628</td>\n",
       "    </tr>\n",
       "  </tbody>\n",
       "</table>\n",
       "</div>"
      ],
      "text/plain": [
       "                   A         B         C         D\n",
       "2022-01-02  0.679854  0.704714  1.847270  0.444161\n",
       "2022-01-05  1.903297  0.829506 -0.492042  1.245799\n",
       "2022-01-11  0.593017  1.434123  1.115778 -0.751717\n",
       "2022-01-13  0.810533  2.313326 -0.747402 -1.227251\n",
       "2022-01-20  0.297953  0.560134 -0.049372  0.240628"
      ]
     },
     "execution_count": 48,
     "metadata": {},
     "output_type": "execute_result"
    }
   ],
   "source": [
    "df3 = df[df['A'] > 0]\n",
    "df3"
   ]
  },
  {
   "cell_type": "code",
   "execution_count": 54,
   "metadata": {},
   "outputs": [
    {
     "name": "stderr",
     "output_type": "stream",
     "text": [
      "C:\\Users\\Waleed\\AppData\\Local\\Temp/ipykernel_9912/3693726348.py:1: SettingWithCopyWarning: \n",
      "A value is trying to be set on a copy of a slice from a DataFrame.\n",
      "Try using .loc[row_indexer,col_indexer] = value instead\n",
      "\n",
      "See the caveats in the documentation: https://pandas.pydata.org/pandas-docs/stable/user_guide/indexing.html#returning-a-view-versus-a-copy\n",
      "  df3['mean'] = [(df3.iloc[0]).mean(),(df3.iloc[1]).mean(),(df3.iloc[2]).mean(),(df3.iloc[3]).mean(),(df3.iloc[4]).mean()]\n"
     ]
    },
    {
     "data": {
      "text/html": [
       "<div>\n",
       "<style scoped>\n",
       "    .dataframe tbody tr th:only-of-type {\n",
       "        vertical-align: middle;\n",
       "    }\n",
       "\n",
       "    .dataframe tbody tr th {\n",
       "        vertical-align: top;\n",
       "    }\n",
       "\n",
       "    .dataframe thead th {\n",
       "        text-align: right;\n",
       "    }\n",
       "</style>\n",
       "<table border=\"1\" class=\"dataframe\">\n",
       "  <thead>\n",
       "    <tr style=\"text-align: right;\">\n",
       "      <th></th>\n",
       "      <th>A</th>\n",
       "      <th>B</th>\n",
       "      <th>C</th>\n",
       "      <th>D</th>\n",
       "      <th>mean</th>\n",
       "    </tr>\n",
       "  </thead>\n",
       "  <tbody>\n",
       "    <tr>\n",
       "      <th>2022-01-02</th>\n",
       "      <td>0.679854</td>\n",
       "      <td>0.704714</td>\n",
       "      <td>1.847270</td>\n",
       "      <td>0.444161</td>\n",
       "      <td>0.918999</td>\n",
       "    </tr>\n",
       "    <tr>\n",
       "      <th>2022-01-05</th>\n",
       "      <td>1.903297</td>\n",
       "      <td>0.829506</td>\n",
       "      <td>-0.492042</td>\n",
       "      <td>1.245799</td>\n",
       "      <td>0.871640</td>\n",
       "    </tr>\n",
       "    <tr>\n",
       "      <th>2022-01-11</th>\n",
       "      <td>0.593017</td>\n",
       "      <td>1.434123</td>\n",
       "      <td>1.115778</td>\n",
       "      <td>-0.751717</td>\n",
       "      <td>0.597800</td>\n",
       "    </tr>\n",
       "    <tr>\n",
       "      <th>2022-01-13</th>\n",
       "      <td>0.810533</td>\n",
       "      <td>2.313326</td>\n",
       "      <td>-0.747402</td>\n",
       "      <td>-1.227251</td>\n",
       "      <td>0.287302</td>\n",
       "    </tr>\n",
       "    <tr>\n",
       "      <th>2022-01-20</th>\n",
       "      <td>0.297953</td>\n",
       "      <td>0.560134</td>\n",
       "      <td>-0.049372</td>\n",
       "      <td>0.240628</td>\n",
       "      <td>0.262336</td>\n",
       "    </tr>\n",
       "  </tbody>\n",
       "</table>\n",
       "</div>"
      ],
      "text/plain": [
       "                   A         B         C         D      mean\n",
       "2022-01-02  0.679854  0.704714  1.847270  0.444161  0.918999\n",
       "2022-01-05  1.903297  0.829506 -0.492042  1.245799  0.871640\n",
       "2022-01-11  0.593017  1.434123  1.115778 -0.751717  0.597800\n",
       "2022-01-13  0.810533  2.313326 -0.747402 -1.227251  0.287302\n",
       "2022-01-20  0.297953  0.560134 -0.049372  0.240628  0.262336"
      ]
     },
     "execution_count": 54,
     "metadata": {},
     "output_type": "execute_result"
    }
   ],
   "source": [
    "df3['mean'] = [(df3.iloc[0]).mean(),(df3.iloc[1]).mean(),(df3.iloc[2]).mean(),(df3.iloc[3]).mean(),(df3.iloc[4]).mean()]\n",
    "df3"
   ]
  },
  {
   "cell_type": "markdown",
   "metadata": {},
   "source": [
    "### Pandas Case Study"
   ]
  },
  {
   "cell_type": "markdown",
   "metadata": {},
   "source": [
    "> import save and analyze Data using Pandas (Titanic Dataset)"
   ]
  },
  {
   "cell_type": "code",
   "execution_count": 55,
   "metadata": {},
   "outputs": [],
   "source": [
    "import numpy as np\n",
    "import pandas as pd\n",
    "import seaborn as sns\n",
    "import matplotlib.pyplot as plt"
   ]
  },
  {
   "cell_type": "code",
   "execution_count": 70,
   "metadata": {},
   "outputs": [
    {
     "data": {
      "text/html": [
       "<div>\n",
       "<style scoped>\n",
       "    .dataframe tbody tr th:only-of-type {\n",
       "        vertical-align: middle;\n",
       "    }\n",
       "\n",
       "    .dataframe tbody tr th {\n",
       "        vertical-align: top;\n",
       "    }\n",
       "\n",
       "    .dataframe thead th {\n",
       "        text-align: right;\n",
       "    }\n",
       "</style>\n",
       "<table border=\"1\" class=\"dataframe\">\n",
       "  <thead>\n",
       "    <tr style=\"text-align: right;\">\n",
       "      <th></th>\n",
       "      <th>survived</th>\n",
       "      <th>pclass</th>\n",
       "      <th>sex</th>\n",
       "      <th>age</th>\n",
       "      <th>sibsp</th>\n",
       "      <th>parch</th>\n",
       "      <th>fare</th>\n",
       "      <th>embarked</th>\n",
       "      <th>class</th>\n",
       "      <th>who</th>\n",
       "      <th>adult_male</th>\n",
       "      <th>deck</th>\n",
       "      <th>embark_town</th>\n",
       "      <th>alive</th>\n",
       "      <th>alone</th>\n",
       "    </tr>\n",
       "  </thead>\n",
       "  <tbody>\n",
       "    <tr>\n",
       "      <th>0</th>\n",
       "      <td>0</td>\n",
       "      <td>3</td>\n",
       "      <td>male</td>\n",
       "      <td>22.0</td>\n",
       "      <td>1</td>\n",
       "      <td>0</td>\n",
       "      <td>7.2500</td>\n",
       "      <td>S</td>\n",
       "      <td>Third</td>\n",
       "      <td>man</td>\n",
       "      <td>True</td>\n",
       "      <td>NaN</td>\n",
       "      <td>Southampton</td>\n",
       "      <td>no</td>\n",
       "      <td>False</td>\n",
       "    </tr>\n",
       "    <tr>\n",
       "      <th>1</th>\n",
       "      <td>1</td>\n",
       "      <td>1</td>\n",
       "      <td>female</td>\n",
       "      <td>38.0</td>\n",
       "      <td>1</td>\n",
       "      <td>0</td>\n",
       "      <td>71.2833</td>\n",
       "      <td>C</td>\n",
       "      <td>First</td>\n",
       "      <td>woman</td>\n",
       "      <td>False</td>\n",
       "      <td>C</td>\n",
       "      <td>Cherbourg</td>\n",
       "      <td>yes</td>\n",
       "      <td>False</td>\n",
       "    </tr>\n",
       "    <tr>\n",
       "      <th>2</th>\n",
       "      <td>1</td>\n",
       "      <td>3</td>\n",
       "      <td>female</td>\n",
       "      <td>26.0</td>\n",
       "      <td>0</td>\n",
       "      <td>0</td>\n",
       "      <td>7.9250</td>\n",
       "      <td>S</td>\n",
       "      <td>Third</td>\n",
       "      <td>woman</td>\n",
       "      <td>False</td>\n",
       "      <td>NaN</td>\n",
       "      <td>Southampton</td>\n",
       "      <td>yes</td>\n",
       "      <td>True</td>\n",
       "    </tr>\n",
       "    <tr>\n",
       "      <th>3</th>\n",
       "      <td>1</td>\n",
       "      <td>1</td>\n",
       "      <td>female</td>\n",
       "      <td>35.0</td>\n",
       "      <td>1</td>\n",
       "      <td>0</td>\n",
       "      <td>53.1000</td>\n",
       "      <td>S</td>\n",
       "      <td>First</td>\n",
       "      <td>woman</td>\n",
       "      <td>False</td>\n",
       "      <td>C</td>\n",
       "      <td>Southampton</td>\n",
       "      <td>yes</td>\n",
       "      <td>False</td>\n",
       "    </tr>\n",
       "    <tr>\n",
       "      <th>4</th>\n",
       "      <td>0</td>\n",
       "      <td>3</td>\n",
       "      <td>male</td>\n",
       "      <td>35.0</td>\n",
       "      <td>0</td>\n",
       "      <td>0</td>\n",
       "      <td>8.0500</td>\n",
       "      <td>S</td>\n",
       "      <td>Third</td>\n",
       "      <td>man</td>\n",
       "      <td>True</td>\n",
       "      <td>NaN</td>\n",
       "      <td>Southampton</td>\n",
       "      <td>no</td>\n",
       "      <td>True</td>\n",
       "    </tr>\n",
       "  </tbody>\n",
       "</table>\n",
       "</div>"
      ],
      "text/plain": [
       "   survived  pclass     sex   age  sibsp  parch     fare embarked  class  \\\n",
       "0         0       3    male  22.0      1      0   7.2500        S  Third   \n",
       "1         1       1  female  38.0      1      0  71.2833        C  First   \n",
       "2         1       3  female  26.0      0      0   7.9250        S  Third   \n",
       "3         1       1  female  35.0      1      0  53.1000        S  First   \n",
       "4         0       3    male  35.0      0      0   8.0500        S  Third   \n",
       "\n",
       "     who  adult_male deck  embark_town alive  alone  \n",
       "0    man        True  NaN  Southampton    no  False  \n",
       "1  woman       False    C    Cherbourg   yes  False  \n",
       "2  woman       False  NaN  Southampton   yes   True  \n",
       "3  woman       False    C  Southampton   yes  False  \n",
       "4    man        True  NaN  Southampton    no   True  "
      ]
     },
     "execution_count": 70,
     "metadata": {},
     "output_type": "execute_result"
    }
   ],
   "source": [
    "# import titanic (kashti) dataset\n",
    "df = sns.load_dataset('titanic')\n",
    "df.head()"
   ]
  },
  {
   "cell_type": "code",
   "execution_count": 57,
   "metadata": {},
   "outputs": [],
   "source": [
    "# Saving dataset as csv file\n",
    "df.to_csv('titanic.csv')"
   ]
  },
  {
   "cell_type": "code",
   "execution_count": 71,
   "metadata": {},
   "outputs": [
    {
     "data": {
      "text/plain": [
       "(891, 15)"
      ]
     },
     "execution_count": 71,
     "metadata": {},
     "output_type": "execute_result"
    }
   ],
   "source": [
    "df.shape"
   ]
  },
  {
   "cell_type": "code",
   "execution_count": 72,
   "metadata": {},
   "outputs": [
    {
     "data": {
      "text/html": [
       "<div>\n",
       "<style scoped>\n",
       "    .dataframe tbody tr th:only-of-type {\n",
       "        vertical-align: middle;\n",
       "    }\n",
       "\n",
       "    .dataframe tbody tr th {\n",
       "        vertical-align: top;\n",
       "    }\n",
       "\n",
       "    .dataframe thead th {\n",
       "        text-align: right;\n",
       "    }\n",
       "</style>\n",
       "<table border=\"1\" class=\"dataframe\">\n",
       "  <thead>\n",
       "    <tr style=\"text-align: right;\">\n",
       "      <th></th>\n",
       "      <th>survived</th>\n",
       "      <th>pclass</th>\n",
       "      <th>age</th>\n",
       "      <th>sibsp</th>\n",
       "      <th>parch</th>\n",
       "      <th>fare</th>\n",
       "    </tr>\n",
       "  </thead>\n",
       "  <tbody>\n",
       "    <tr>\n",
       "      <th>count</th>\n",
       "      <td>891.000000</td>\n",
       "      <td>891.000000</td>\n",
       "      <td>714.000000</td>\n",
       "      <td>891.000000</td>\n",
       "      <td>891.000000</td>\n",
       "      <td>891.000000</td>\n",
       "    </tr>\n",
       "    <tr>\n",
       "      <th>mean</th>\n",
       "      <td>0.383838</td>\n",
       "      <td>2.308642</td>\n",
       "      <td>29.699118</td>\n",
       "      <td>0.523008</td>\n",
       "      <td>0.381594</td>\n",
       "      <td>32.204208</td>\n",
       "    </tr>\n",
       "    <tr>\n",
       "      <th>std</th>\n",
       "      <td>0.486592</td>\n",
       "      <td>0.836071</td>\n",
       "      <td>14.526497</td>\n",
       "      <td>1.102743</td>\n",
       "      <td>0.806057</td>\n",
       "      <td>49.693429</td>\n",
       "    </tr>\n",
       "    <tr>\n",
       "      <th>min</th>\n",
       "      <td>0.000000</td>\n",
       "      <td>1.000000</td>\n",
       "      <td>0.420000</td>\n",
       "      <td>0.000000</td>\n",
       "      <td>0.000000</td>\n",
       "      <td>0.000000</td>\n",
       "    </tr>\n",
       "    <tr>\n",
       "      <th>25%</th>\n",
       "      <td>0.000000</td>\n",
       "      <td>2.000000</td>\n",
       "      <td>20.125000</td>\n",
       "      <td>0.000000</td>\n",
       "      <td>0.000000</td>\n",
       "      <td>7.910400</td>\n",
       "    </tr>\n",
       "    <tr>\n",
       "      <th>50%</th>\n",
       "      <td>0.000000</td>\n",
       "      <td>3.000000</td>\n",
       "      <td>28.000000</td>\n",
       "      <td>0.000000</td>\n",
       "      <td>0.000000</td>\n",
       "      <td>14.454200</td>\n",
       "    </tr>\n",
       "    <tr>\n",
       "      <th>75%</th>\n",
       "      <td>1.000000</td>\n",
       "      <td>3.000000</td>\n",
       "      <td>38.000000</td>\n",
       "      <td>1.000000</td>\n",
       "      <td>0.000000</td>\n",
       "      <td>31.000000</td>\n",
       "    </tr>\n",
       "    <tr>\n",
       "      <th>max</th>\n",
       "      <td>1.000000</td>\n",
       "      <td>3.000000</td>\n",
       "      <td>80.000000</td>\n",
       "      <td>8.000000</td>\n",
       "      <td>6.000000</td>\n",
       "      <td>512.329200</td>\n",
       "    </tr>\n",
       "  </tbody>\n",
       "</table>\n",
       "</div>"
      ],
      "text/plain": [
       "         survived      pclass         age       sibsp       parch        fare\n",
       "count  891.000000  891.000000  714.000000  891.000000  891.000000  891.000000\n",
       "mean     0.383838    2.308642   29.699118    0.523008    0.381594   32.204208\n",
       "std      0.486592    0.836071   14.526497    1.102743    0.806057   49.693429\n",
       "min      0.000000    1.000000    0.420000    0.000000    0.000000    0.000000\n",
       "25%      0.000000    2.000000   20.125000    0.000000    0.000000    7.910400\n",
       "50%      0.000000    3.000000   28.000000    0.000000    0.000000   14.454200\n",
       "75%      1.000000    3.000000   38.000000    1.000000    0.000000   31.000000\n",
       "max      1.000000    3.000000   80.000000    8.000000    6.000000  512.329200"
      ]
     },
     "execution_count": 72,
     "metadata": {},
     "output_type": "execute_result"
    }
   ],
   "source": [
    "# Basic Statistics or Summary\n",
    "df.describe()"
   ]
  },
  {
   "cell_type": "code",
   "execution_count": 77,
   "metadata": {},
   "outputs": [
    {
     "data": {
      "text/html": [
       "<div>\n",
       "<style scoped>\n",
       "    .dataframe tbody tr th:only-of-type {\n",
       "        vertical-align: middle;\n",
       "    }\n",
       "\n",
       "    .dataframe tbody tr th {\n",
       "        vertical-align: top;\n",
       "    }\n",
       "\n",
       "    .dataframe thead th {\n",
       "        text-align: right;\n",
       "    }\n",
       "</style>\n",
       "<table border=\"1\" class=\"dataframe\">\n",
       "  <thead>\n",
       "    <tr style=\"text-align: right;\">\n",
       "      <th></th>\n",
       "      <th>survived</th>\n",
       "      <th>pclass</th>\n",
       "      <th>sex</th>\n",
       "      <th>age</th>\n",
       "      <th>sibsp</th>\n",
       "      <th>parch</th>\n",
       "      <th>fare</th>\n",
       "      <th>embarked</th>\n",
       "      <th>class</th>\n",
       "      <th>who</th>\n",
       "      <th>adult_male</th>\n",
       "      <th>embark_town</th>\n",
       "      <th>alive</th>\n",
       "    </tr>\n",
       "  </thead>\n",
       "  <tbody>\n",
       "    <tr>\n",
       "      <th>0</th>\n",
       "      <td>0</td>\n",
       "      <td>3</td>\n",
       "      <td>male</td>\n",
       "      <td>22.0</td>\n",
       "      <td>1</td>\n",
       "      <td>0</td>\n",
       "      <td>7.2500</td>\n",
       "      <td>S</td>\n",
       "      <td>Third</td>\n",
       "      <td>man</td>\n",
       "      <td>True</td>\n",
       "      <td>Southampton</td>\n",
       "      <td>no</td>\n",
       "    </tr>\n",
       "    <tr>\n",
       "      <th>1</th>\n",
       "      <td>1</td>\n",
       "      <td>1</td>\n",
       "      <td>female</td>\n",
       "      <td>38.0</td>\n",
       "      <td>1</td>\n",
       "      <td>0</td>\n",
       "      <td>71.2833</td>\n",
       "      <td>C</td>\n",
       "      <td>First</td>\n",
       "      <td>woman</td>\n",
       "      <td>False</td>\n",
       "      <td>Cherbourg</td>\n",
       "      <td>yes</td>\n",
       "    </tr>\n",
       "    <tr>\n",
       "      <th>2</th>\n",
       "      <td>1</td>\n",
       "      <td>3</td>\n",
       "      <td>female</td>\n",
       "      <td>26.0</td>\n",
       "      <td>0</td>\n",
       "      <td>0</td>\n",
       "      <td>7.9250</td>\n",
       "      <td>S</td>\n",
       "      <td>Third</td>\n",
       "      <td>woman</td>\n",
       "      <td>False</td>\n",
       "      <td>Southampton</td>\n",
       "      <td>yes</td>\n",
       "    </tr>\n",
       "    <tr>\n",
       "      <th>3</th>\n",
       "      <td>1</td>\n",
       "      <td>1</td>\n",
       "      <td>female</td>\n",
       "      <td>35.0</td>\n",
       "      <td>1</td>\n",
       "      <td>0</td>\n",
       "      <td>53.1000</td>\n",
       "      <td>S</td>\n",
       "      <td>First</td>\n",
       "      <td>woman</td>\n",
       "      <td>False</td>\n",
       "      <td>Southampton</td>\n",
       "      <td>yes</td>\n",
       "    </tr>\n",
       "    <tr>\n",
       "      <th>4</th>\n",
       "      <td>0</td>\n",
       "      <td>3</td>\n",
       "      <td>male</td>\n",
       "      <td>35.0</td>\n",
       "      <td>0</td>\n",
       "      <td>0</td>\n",
       "      <td>8.0500</td>\n",
       "      <td>S</td>\n",
       "      <td>Third</td>\n",
       "      <td>man</td>\n",
       "      <td>True</td>\n",
       "      <td>Southampton</td>\n",
       "      <td>no</td>\n",
       "    </tr>\n",
       "  </tbody>\n",
       "</table>\n",
       "</div>"
      ],
      "text/plain": [
       "   survived  pclass     sex   age  sibsp  parch     fare embarked  class  \\\n",
       "0         0       3    male  22.0      1      0   7.2500        S  Third   \n",
       "1         1       1  female  38.0      1      0  71.2833        C  First   \n",
       "2         1       3  female  26.0      0      0   7.9250        S  Third   \n",
       "3         1       1  female  35.0      1      0  53.1000        S  First   \n",
       "4         0       3    male  35.0      0      0   8.0500        S  Third   \n",
       "\n",
       "     who  adult_male  embark_town alive  \n",
       "0    man        True  Southampton    no  \n",
       "1  woman       False    Cherbourg   yes  \n",
       "2  woman       False  Southampton   yes  \n",
       "3  woman       False  Southampton   yes  \n",
       "4    man        True  Southampton    no  "
      ]
     },
     "execution_count": 77,
     "metadata": {},
     "output_type": "execute_result"
    }
   ],
   "source": [
    "# Droping few columns and make a new dataset\n",
    "df1 = df.drop(['deck', 'alone'], axis=1)\n",
    "df1.head()"
   ]
  },
  {
   "cell_type": "code",
   "execution_count": 78,
   "metadata": {},
   "outputs": [
    {
     "data": {
      "text/plain": [
       "(891, 13)"
      ]
     },
     "execution_count": 78,
     "metadata": {},
     "output_type": "execute_result"
    }
   ],
   "source": [
    "df1.shape"
   ]
  },
  {
   "cell_type": "code",
   "execution_count": 79,
   "metadata": {},
   "outputs": [
    {
     "name": "stderr",
     "output_type": "stream",
     "text": [
      "C:\\Users\\Waleed\\AppData\\Local\\Temp/ipykernel_9912/2053335143.py:1: FutureWarning: Dropping of nuisance columns in DataFrame reductions (with 'numeric_only=None') is deprecated; in a future version this will raise TypeError.  Select only valid columns before calling the reduction.\n",
      "  df1.mean()\n"
     ]
    },
    {
     "data": {
      "text/plain": [
       "survived       0.383838\n",
       "pclass         2.308642\n",
       "age           29.699118\n",
       "sibsp          0.523008\n",
       "parch          0.381594\n",
       "fare          32.204208\n",
       "adult_male     0.602694\n",
       "dtype: float64"
      ]
     },
     "execution_count": 79,
     "metadata": {},
     "output_type": "execute_result"
    }
   ],
   "source": [
    "df1.mean()"
   ]
  },
  {
   "cell_type": "code",
   "execution_count": 82,
   "metadata": {},
   "outputs": [
    {
     "data": {
      "text/html": [
       "<div>\n",
       "<style scoped>\n",
       "    .dataframe tbody tr th:only-of-type {\n",
       "        vertical-align: middle;\n",
       "    }\n",
       "\n",
       "    .dataframe tbody tr th {\n",
       "        vertical-align: top;\n",
       "    }\n",
       "\n",
       "    .dataframe thead th {\n",
       "        text-align: right;\n",
       "    }\n",
       "</style>\n",
       "<table border=\"1\" class=\"dataframe\">\n",
       "  <thead>\n",
       "    <tr style=\"text-align: right;\">\n",
       "      <th></th>\n",
       "      <th></th>\n",
       "      <th>survived</th>\n",
       "      <th>pclass</th>\n",
       "      <th>age</th>\n",
       "      <th>sibsp</th>\n",
       "      <th>parch</th>\n",
       "      <th>fare</th>\n",
       "      <th>adult_male</th>\n",
       "    </tr>\n",
       "    <tr>\n",
       "      <th>sex</th>\n",
       "      <th>class</th>\n",
       "      <th></th>\n",
       "      <th></th>\n",
       "      <th></th>\n",
       "      <th></th>\n",
       "      <th></th>\n",
       "      <th></th>\n",
       "      <th></th>\n",
       "    </tr>\n",
       "  </thead>\n",
       "  <tbody>\n",
       "    <tr>\n",
       "      <th rowspan=\"3\" valign=\"top\">female</th>\n",
       "      <th>First</th>\n",
       "      <td>0.968085</td>\n",
       "      <td>1.0</td>\n",
       "      <td>34.611765</td>\n",
       "      <td>0.553191</td>\n",
       "      <td>0.457447</td>\n",
       "      <td>106.125798</td>\n",
       "      <td>0.000000</td>\n",
       "    </tr>\n",
       "    <tr>\n",
       "      <th>Second</th>\n",
       "      <td>0.921053</td>\n",
       "      <td>2.0</td>\n",
       "      <td>28.722973</td>\n",
       "      <td>0.486842</td>\n",
       "      <td>0.605263</td>\n",
       "      <td>21.970121</td>\n",
       "      <td>0.000000</td>\n",
       "    </tr>\n",
       "    <tr>\n",
       "      <th>Third</th>\n",
       "      <td>0.500000</td>\n",
       "      <td>3.0</td>\n",
       "      <td>21.750000</td>\n",
       "      <td>0.895833</td>\n",
       "      <td>0.798611</td>\n",
       "      <td>16.118810</td>\n",
       "      <td>0.000000</td>\n",
       "    </tr>\n",
       "    <tr>\n",
       "      <th rowspan=\"3\" valign=\"top\">male</th>\n",
       "      <th>First</th>\n",
       "      <td>0.368852</td>\n",
       "      <td>1.0</td>\n",
       "      <td>41.281386</td>\n",
       "      <td>0.311475</td>\n",
       "      <td>0.278689</td>\n",
       "      <td>67.226127</td>\n",
       "      <td>0.975410</td>\n",
       "    </tr>\n",
       "    <tr>\n",
       "      <th>Second</th>\n",
       "      <td>0.157407</td>\n",
       "      <td>2.0</td>\n",
       "      <td>30.740707</td>\n",
       "      <td>0.342593</td>\n",
       "      <td>0.222222</td>\n",
       "      <td>19.741782</td>\n",
       "      <td>0.916667</td>\n",
       "    </tr>\n",
       "    <tr>\n",
       "      <th>Third</th>\n",
       "      <td>0.135447</td>\n",
       "      <td>3.0</td>\n",
       "      <td>26.507589</td>\n",
       "      <td>0.498559</td>\n",
       "      <td>0.224784</td>\n",
       "      <td>12.661633</td>\n",
       "      <td>0.919308</td>\n",
       "    </tr>\n",
       "  </tbody>\n",
       "</table>\n",
       "</div>"
      ],
      "text/plain": [
       "               survived  pclass        age     sibsp     parch        fare  \\\n",
       "sex    class                                                                 \n",
       "female First   0.968085     1.0  34.611765  0.553191  0.457447  106.125798   \n",
       "       Second  0.921053     2.0  28.722973  0.486842  0.605263   21.970121   \n",
       "       Third   0.500000     3.0  21.750000  0.895833  0.798611   16.118810   \n",
       "male   First   0.368852     1.0  41.281386  0.311475  0.278689   67.226127   \n",
       "       Second  0.157407     2.0  30.740707  0.342593  0.222222   19.741782   \n",
       "       Third   0.135447     3.0  26.507589  0.498559  0.224784   12.661633   \n",
       "\n",
       "               adult_male  \n",
       "sex    class               \n",
       "female First     0.000000  \n",
       "       Second    0.000000  \n",
       "       Third     0.000000  \n",
       "male   First     0.975410  \n",
       "       Second    0.916667  \n",
       "       Third     0.919308  "
      ]
     },
     "execution_count": 82,
     "metadata": {},
     "output_type": "execute_result"
    }
   ],
   "source": [
    "# groupby\n",
    "df1.groupby(['sex', 'class']).mean()"
   ]
  },
  {
   "cell_type": "code",
   "execution_count": 84,
   "metadata": {},
   "outputs": [
    {
     "data": {
      "text/plain": [
       "survived\n",
       "0           549\n",
       "1           342\n",
       "dtype: int64"
      ]
     },
     "execution_count": 84,
     "metadata": {},
     "output_type": "execute_result"
    }
   ],
   "source": [
    "df1.value_counts(['survived'])"
   ]
  },
  {
   "cell_type": "code",
   "execution_count": 83,
   "metadata": {},
   "outputs": [
    {
     "data": {
      "text/html": [
       "<div>\n",
       "<style scoped>\n",
       "    .dataframe tbody tr th:only-of-type {\n",
       "        vertical-align: middle;\n",
       "    }\n",
       "\n",
       "    .dataframe tbody tr th {\n",
       "        vertical-align: top;\n",
       "    }\n",
       "\n",
       "    .dataframe thead th {\n",
       "        text-align: right;\n",
       "    }\n",
       "</style>\n",
       "<table border=\"1\" class=\"dataframe\">\n",
       "  <thead>\n",
       "    <tr style=\"text-align: right;\">\n",
       "      <th></th>\n",
       "      <th>survived</th>\n",
       "      <th>pclass</th>\n",
       "      <th>age</th>\n",
       "      <th>sibsp</th>\n",
       "      <th>parch</th>\n",
       "      <th>fare</th>\n",
       "      <th>adult_male</th>\n",
       "    </tr>\n",
       "    <tr>\n",
       "      <th>sex</th>\n",
       "      <th></th>\n",
       "      <th></th>\n",
       "      <th></th>\n",
       "      <th></th>\n",
       "      <th></th>\n",
       "      <th></th>\n",
       "      <th></th>\n",
       "    </tr>\n",
       "  </thead>\n",
       "  <tbody>\n",
       "    <tr>\n",
       "      <th>female</th>\n",
       "      <td>0.742038</td>\n",
       "      <td>2.159236</td>\n",
       "      <td>27.915709</td>\n",
       "      <td>0.694268</td>\n",
       "      <td>0.649682</td>\n",
       "      <td>44.479818</td>\n",
       "      <td>0.000000</td>\n",
       "    </tr>\n",
       "    <tr>\n",
       "      <th>male</th>\n",
       "      <td>0.188908</td>\n",
       "      <td>2.389948</td>\n",
       "      <td>30.726645</td>\n",
       "      <td>0.429809</td>\n",
       "      <td>0.235702</td>\n",
       "      <td>25.523893</td>\n",
       "      <td>0.930676</td>\n",
       "    </tr>\n",
       "  </tbody>\n",
       "</table>\n",
       "</div>"
      ],
      "text/plain": [
       "        survived    pclass        age     sibsp     parch       fare  \\\n",
       "sex                                                                    \n",
       "female  0.742038  2.159236  27.915709  0.694268  0.649682  44.479818   \n",
       "male    0.188908  2.389948  30.726645  0.429809  0.235702  25.523893   \n",
       "\n",
       "        adult_male  \n",
       "sex                 \n",
       "female    0.000000  \n",
       "male      0.930676  "
      ]
     },
     "execution_count": 83,
     "metadata": {},
     "output_type": "execute_result"
    }
   ],
   "source": [
    "df1.groupby(['sex']).mean()"
   ]
  },
  {
   "cell_type": "code",
   "execution_count": 85,
   "metadata": {},
   "outputs": [
    {
     "data": {
      "text/html": [
       "<div>\n",
       "<style scoped>\n",
       "    .dataframe tbody tr th:only-of-type {\n",
       "        vertical-align: middle;\n",
       "    }\n",
       "\n",
       "    .dataframe tbody tr th {\n",
       "        vertical-align: top;\n",
       "    }\n",
       "\n",
       "    .dataframe thead th {\n",
       "        text-align: right;\n",
       "    }\n",
       "</style>\n",
       "<table border=\"1\" class=\"dataframe\">\n",
       "  <thead>\n",
       "    <tr style=\"text-align: right;\">\n",
       "      <th></th>\n",
       "      <th></th>\n",
       "      <th>survived</th>\n",
       "      <th>pclass</th>\n",
       "      <th>age</th>\n",
       "      <th>sibsp</th>\n",
       "      <th>parch</th>\n",
       "      <th>fare</th>\n",
       "      <th>adult_male</th>\n",
       "    </tr>\n",
       "    <tr>\n",
       "      <th>sex</th>\n",
       "      <th>class</th>\n",
       "      <th></th>\n",
       "      <th></th>\n",
       "      <th></th>\n",
       "      <th></th>\n",
       "      <th></th>\n",
       "      <th></th>\n",
       "      <th></th>\n",
       "    </tr>\n",
       "  </thead>\n",
       "  <tbody>\n",
       "    <tr>\n",
       "      <th rowspan=\"3\" valign=\"top\">female</th>\n",
       "      <th>First</th>\n",
       "      <td>0.968085</td>\n",
       "      <td>1.0</td>\n",
       "      <td>34.611765</td>\n",
       "      <td>0.553191</td>\n",
       "      <td>0.457447</td>\n",
       "      <td>106.125798</td>\n",
       "      <td>0.000000</td>\n",
       "    </tr>\n",
       "    <tr>\n",
       "      <th>Second</th>\n",
       "      <td>0.921053</td>\n",
       "      <td>2.0</td>\n",
       "      <td>28.722973</td>\n",
       "      <td>0.486842</td>\n",
       "      <td>0.605263</td>\n",
       "      <td>21.970121</td>\n",
       "      <td>0.000000</td>\n",
       "    </tr>\n",
       "    <tr>\n",
       "      <th>Third</th>\n",
       "      <td>0.500000</td>\n",
       "      <td>3.0</td>\n",
       "      <td>21.750000</td>\n",
       "      <td>0.895833</td>\n",
       "      <td>0.798611</td>\n",
       "      <td>16.118810</td>\n",
       "      <td>0.000000</td>\n",
       "    </tr>\n",
       "    <tr>\n",
       "      <th rowspan=\"3\" valign=\"top\">male</th>\n",
       "      <th>First</th>\n",
       "      <td>0.368852</td>\n",
       "      <td>1.0</td>\n",
       "      <td>41.281386</td>\n",
       "      <td>0.311475</td>\n",
       "      <td>0.278689</td>\n",
       "      <td>67.226127</td>\n",
       "      <td>0.975410</td>\n",
       "    </tr>\n",
       "    <tr>\n",
       "      <th>Second</th>\n",
       "      <td>0.157407</td>\n",
       "      <td>2.0</td>\n",
       "      <td>30.740707</td>\n",
       "      <td>0.342593</td>\n",
       "      <td>0.222222</td>\n",
       "      <td>19.741782</td>\n",
       "      <td>0.916667</td>\n",
       "    </tr>\n",
       "    <tr>\n",
       "      <th>Third</th>\n",
       "      <td>0.135447</td>\n",
       "      <td>3.0</td>\n",
       "      <td>26.507589</td>\n",
       "      <td>0.498559</td>\n",
       "      <td>0.224784</td>\n",
       "      <td>12.661633</td>\n",
       "      <td>0.919308</td>\n",
       "    </tr>\n",
       "  </tbody>\n",
       "</table>\n",
       "</div>"
      ],
      "text/plain": [
       "               survived  pclass        age     sibsp     parch        fare  \\\n",
       "sex    class                                                                 \n",
       "female First   0.968085     1.0  34.611765  0.553191  0.457447  106.125798   \n",
       "       Second  0.921053     2.0  28.722973  0.486842  0.605263   21.970121   \n",
       "       Third   0.500000     3.0  21.750000  0.895833  0.798611   16.118810   \n",
       "male   First   0.368852     1.0  41.281386  0.311475  0.278689   67.226127   \n",
       "       Second  0.157407     2.0  30.740707  0.342593  0.222222   19.741782   \n",
       "       Third   0.135447     3.0  26.507589  0.498559  0.224784   12.661633   \n",
       "\n",
       "               adult_male  \n",
       "sex    class               \n",
       "female First     0.000000  \n",
       "       Second    0.000000  \n",
       "       Third     0.000000  \n",
       "male   First     0.975410  \n",
       "       Second    0.916667  \n",
       "       Third     0.919308  "
      ]
     },
     "execution_count": 85,
     "metadata": {},
     "output_type": "execute_result"
    }
   ],
   "source": [
    "df1.groupby(['sex', 'class']).mean()"
   ]
  },
  {
   "cell_type": "code",
   "execution_count": 87,
   "metadata": {},
   "outputs": [
    {
     "data": {
      "text/html": [
       "<div>\n",
       "<style scoped>\n",
       "    .dataframe tbody tr th:only-of-type {\n",
       "        vertical-align: middle;\n",
       "    }\n",
       "\n",
       "    .dataframe tbody tr th {\n",
       "        vertical-align: top;\n",
       "    }\n",
       "\n",
       "    .dataframe thead th {\n",
       "        text-align: right;\n",
       "    }\n",
       "</style>\n",
       "<table border=\"1\" class=\"dataframe\">\n",
       "  <thead>\n",
       "    <tr style=\"text-align: right;\">\n",
       "      <th></th>\n",
       "      <th></th>\n",
       "      <th>survived</th>\n",
       "      <th>pclass</th>\n",
       "      <th>age</th>\n",
       "      <th>sibsp</th>\n",
       "      <th>parch</th>\n",
       "      <th>fare</th>\n",
       "      <th>adult_male</th>\n",
       "    </tr>\n",
       "    <tr>\n",
       "      <th>sex</th>\n",
       "      <th>class</th>\n",
       "      <th></th>\n",
       "      <th></th>\n",
       "      <th></th>\n",
       "      <th></th>\n",
       "      <th></th>\n",
       "      <th></th>\n",
       "      <th></th>\n",
       "    </tr>\n",
       "  </thead>\n",
       "  <tbody>\n",
       "    <tr>\n",
       "      <th rowspan=\"3\" valign=\"top\">female</th>\n",
       "      <th>First</th>\n",
       "      <td>0.875000</td>\n",
       "      <td>1.0</td>\n",
       "      <td>14.125000</td>\n",
       "      <td>0.500000</td>\n",
       "      <td>0.875000</td>\n",
       "      <td>104.083337</td>\n",
       "      <td>0.000000</td>\n",
       "    </tr>\n",
       "    <tr>\n",
       "      <th>Second</th>\n",
       "      <td>1.000000</td>\n",
       "      <td>2.0</td>\n",
       "      <td>8.333333</td>\n",
       "      <td>0.583333</td>\n",
       "      <td>1.083333</td>\n",
       "      <td>26.241667</td>\n",
       "      <td>0.000000</td>\n",
       "    </tr>\n",
       "    <tr>\n",
       "      <th>Third</th>\n",
       "      <td>0.542857</td>\n",
       "      <td>3.0</td>\n",
       "      <td>8.428571</td>\n",
       "      <td>1.571429</td>\n",
       "      <td>1.057143</td>\n",
       "      <td>18.727977</td>\n",
       "      <td>0.000000</td>\n",
       "    </tr>\n",
       "    <tr>\n",
       "      <th rowspan=\"3\" valign=\"top\">male</th>\n",
       "      <th>First</th>\n",
       "      <td>1.000000</td>\n",
       "      <td>1.0</td>\n",
       "      <td>8.230000</td>\n",
       "      <td>0.500000</td>\n",
       "      <td>2.000000</td>\n",
       "      <td>116.072900</td>\n",
       "      <td>0.250000</td>\n",
       "    </tr>\n",
       "    <tr>\n",
       "      <th>Second</th>\n",
       "      <td>0.818182</td>\n",
       "      <td>2.0</td>\n",
       "      <td>4.757273</td>\n",
       "      <td>0.727273</td>\n",
       "      <td>1.000000</td>\n",
       "      <td>25.659473</td>\n",
       "      <td>0.181818</td>\n",
       "    </tr>\n",
       "    <tr>\n",
       "      <th>Third</th>\n",
       "      <td>0.232558</td>\n",
       "      <td>3.0</td>\n",
       "      <td>9.963256</td>\n",
       "      <td>2.069767</td>\n",
       "      <td>1.000000</td>\n",
       "      <td>22.752523</td>\n",
       "      <td>0.348837</td>\n",
       "    </tr>\n",
       "  </tbody>\n",
       "</table>\n",
       "</div>"
      ],
      "text/plain": [
       "               survived  pclass        age     sibsp     parch        fare  \\\n",
       "sex    class                                                                 \n",
       "female First   0.875000     1.0  14.125000  0.500000  0.875000  104.083337   \n",
       "       Second  1.000000     2.0   8.333333  0.583333  1.083333   26.241667   \n",
       "       Third   0.542857     3.0   8.428571  1.571429  1.057143   18.727977   \n",
       "male   First   1.000000     1.0   8.230000  0.500000  2.000000  116.072900   \n",
       "       Second  0.818182     2.0   4.757273  0.727273  1.000000   25.659473   \n",
       "       Third   0.232558     3.0   9.963256  2.069767  1.000000   22.752523   \n",
       "\n",
       "               adult_male  \n",
       "sex    class               \n",
       "female First     0.000000  \n",
       "       Second    0.000000  \n",
       "       Third     0.000000  \n",
       "male   First     0.250000  \n",
       "       Second    0.181818  \n",
       "       Third     0.348837  "
      ]
     },
     "execution_count": 87,
     "metadata": {},
     "output_type": "execute_result"
    }
   ],
   "source": [
    "# Under 18 years\n",
    "df1[df1['age'] < 18].groupby(['sex', 'class']).mean()"
   ]
  },
  {
   "cell_type": "markdown",
   "metadata": {},
   "source": [
    "## Statistics"
   ]
  },
  {
   "cell_type": "markdown",
   "metadata": {},
   "source": [
    "> Statistics is a collection of methods for collecting, displaying, > analyzing and drawing conclusions from data.\n",
    "> __Statistics is everywhere:__\n",
    ">\n",
    ">- Weather Prediction\n",
    ">- USD Prediction\n",
    ">- ANOVA\n",
    ">- Un employment rate fallen\n",
    ">- etc\n",
    ">\n",
    "> __Language of Statistics:__\n",
    ">\n",
    "> - __Average__ income in Pakistan\n",
    "> - Highest __(Maximum)__ score in criket match\n",
    "> - 40% __(Percentage)__ teachers in Pakistan are female\n",
    "> - Dollar kabhi uper jata hy kabhi neechay __(Varience)__\n",
    "> - Hostels main larkay zaida kharcha kartay hyn __(t-test)__\n",
    "> - Faislabad > Lahore > Karachi had jugtain ke ranking __(ANOVA)__\n",
    ">\n",
    ">__Types of Data__\n",
    ">\n",
    "> 1. Cross Sectional Data\n",
    ">       - Data collected at one point\n",
    "> 2. Time Series Data\n",
    ">       - Data Collected over different time points\n",
    "> 3. Univariate\n",
    ">       - Data contains a single variable to measure entity e.g:\n",
    ">           1. Plant Height\n",
    "> 4. Multi Variate\n",
    ">       - Data contains > 2 variables to measure something e.g:\n",
    ">           1. Plant Height\n",
    ">           2. Fertilizer Amount\n",
    ">           3. Irrigation Time\n",
    ">\n",
    ">__Types of Variables__\n",
    ">\n",
    ">   1. Categorical (Nominal)\n",
    ">       1. Binomial (True or False)\n",
    ">       2. Multinomial (multiple choices e.g. how to go to office)\n",
    ">       3. Ordinal Variable: Data ranked or ordered (mery pass kitny phone hain?, categories can be compared)\n",
    ">   2. Ratio Data:\n",
    ">        1. Data have a natural zero, Measurement in units and ratios are continuos variable\n",
    ">   3. Interval Variable / Data:\n",
    ">       1. ordered and characterized data\n",
    ">\n",
    ">__Measure of Central Tendency__\n",
    ">\n",
    ">1. Mean:\n",
    ">       - Average, meaningful for inteval and ratio data\n",
    ">       - Outliers: change the mean of a data, therefore median is useful\n",
    "> 2. Median:\n",
    ">       - Middle number in a sorted, ascending or descending, list of numbers\n",
    "> 3. Mode:\n",
    ">       - The value that occurs most frequently\n",
    ">\n",
    ">__Measure of Dispersion__\n",
    ">\n",
    ">   1. Dispersion:\n",
    ">       - How much data spread around mean\n",
    ">   2. Standard Deviation (std)\n",
    ">       - __Mean__ with a __SD__ is more useful than only Mean by itself\n",
    ">   3. Standard Error (se)\n",
    ">   4. Variance\n",
    ">   5. Bell Curve\n",
    ">\n",
    ">__Fundamentals of Visualization__\n",
    ">\n",
    ">Type of variable depends on the variable type\n",
    ">\n",
    "> 1. Categorical Variable: Qualitative (No numerical meaning)\n",
    ">       - Counts (plot type)\n",
    ">       - Male vs Female\n",
    ">       - True vs False\n",
    ">       - 0 vs 1\n",
    ">       - Yes vs NO\n",
    "> 2. Continuous Variable: Quantitative Numerical (mostly represented in numbers)\n",
    ">       - Scatter plot\n",
    ">       - Statistical Proportions (means and their comparison)"
   ]
  },
  {
   "cell_type": "markdown",
   "metadata": {},
   "source": [
    "## Exploratory Data Analysis (EDA)"
   ]
  },
  {
   "cell_type": "markdown",
   "metadata": {},
   "source": [
    "### Three important steps to keep in mind:\n",
    "- Understand the data\n",
    "- Clean the data\n",
    "- Find a relationship between data"
   ]
  },
  {
   "cell_type": "code",
   "execution_count": 1,
   "metadata": {},
   "outputs": [],
   "source": [
    "import numpy as np\n",
    "import pandas as pd\n",
    "import matplotlib.pyplot as plt\n",
    "import seaborn as sns"
   ]
  },
  {
   "cell_type": "code",
   "execution_count": 6,
   "metadata": {},
   "outputs": [
    {
     "data": {
      "text/html": [
       "<div>\n",
       "<style scoped>\n",
       "    .dataframe tbody tr th:only-of-type {\n",
       "        vertical-align: middle;\n",
       "    }\n",
       "\n",
       "    .dataframe tbody tr th {\n",
       "        vertical-align: top;\n",
       "    }\n",
       "\n",
       "    .dataframe thead th {\n",
       "        text-align: right;\n",
       "    }\n",
       "</style>\n",
       "<table border=\"1\" class=\"dataframe\">\n",
       "  <thead>\n",
       "    <tr style=\"text-align: right;\">\n",
       "      <th></th>\n",
       "      <th>survived</th>\n",
       "      <th>pclass</th>\n",
       "      <th>sex</th>\n",
       "      <th>age</th>\n",
       "      <th>sibsp</th>\n",
       "      <th>parch</th>\n",
       "      <th>fare</th>\n",
       "      <th>embarked</th>\n",
       "      <th>class</th>\n",
       "      <th>who</th>\n",
       "      <th>adult_male</th>\n",
       "      <th>deck</th>\n",
       "      <th>embark_town</th>\n",
       "      <th>alive</th>\n",
       "      <th>alone</th>\n",
       "    </tr>\n",
       "  </thead>\n",
       "  <tbody>\n",
       "    <tr>\n",
       "      <th>0</th>\n",
       "      <td>0</td>\n",
       "      <td>3</td>\n",
       "      <td>male</td>\n",
       "      <td>22.0</td>\n",
       "      <td>1</td>\n",
       "      <td>0</td>\n",
       "      <td>7.2500</td>\n",
       "      <td>S</td>\n",
       "      <td>Third</td>\n",
       "      <td>man</td>\n",
       "      <td>True</td>\n",
       "      <td>NaN</td>\n",
       "      <td>Southampton</td>\n",
       "      <td>no</td>\n",
       "      <td>False</td>\n",
       "    </tr>\n",
       "    <tr>\n",
       "      <th>1</th>\n",
       "      <td>1</td>\n",
       "      <td>1</td>\n",
       "      <td>female</td>\n",
       "      <td>38.0</td>\n",
       "      <td>1</td>\n",
       "      <td>0</td>\n",
       "      <td>71.2833</td>\n",
       "      <td>C</td>\n",
       "      <td>First</td>\n",
       "      <td>woman</td>\n",
       "      <td>False</td>\n",
       "      <td>C</td>\n",
       "      <td>Cherbourg</td>\n",
       "      <td>yes</td>\n",
       "      <td>False</td>\n",
       "    </tr>\n",
       "    <tr>\n",
       "      <th>2</th>\n",
       "      <td>1</td>\n",
       "      <td>3</td>\n",
       "      <td>female</td>\n",
       "      <td>26.0</td>\n",
       "      <td>0</td>\n",
       "      <td>0</td>\n",
       "      <td>7.9250</td>\n",
       "      <td>S</td>\n",
       "      <td>Third</td>\n",
       "      <td>woman</td>\n",
       "      <td>False</td>\n",
       "      <td>NaN</td>\n",
       "      <td>Southampton</td>\n",
       "      <td>yes</td>\n",
       "      <td>True</td>\n",
       "    </tr>\n",
       "    <tr>\n",
       "      <th>3</th>\n",
       "      <td>1</td>\n",
       "      <td>1</td>\n",
       "      <td>female</td>\n",
       "      <td>35.0</td>\n",
       "      <td>1</td>\n",
       "      <td>0</td>\n",
       "      <td>53.1000</td>\n",
       "      <td>S</td>\n",
       "      <td>First</td>\n",
       "      <td>woman</td>\n",
       "      <td>False</td>\n",
       "      <td>C</td>\n",
       "      <td>Southampton</td>\n",
       "      <td>yes</td>\n",
       "      <td>False</td>\n",
       "    </tr>\n",
       "    <tr>\n",
       "      <th>4</th>\n",
       "      <td>0</td>\n",
       "      <td>3</td>\n",
       "      <td>male</td>\n",
       "      <td>35.0</td>\n",
       "      <td>0</td>\n",
       "      <td>0</td>\n",
       "      <td>8.0500</td>\n",
       "      <td>S</td>\n",
       "      <td>Third</td>\n",
       "      <td>man</td>\n",
       "      <td>True</td>\n",
       "      <td>NaN</td>\n",
       "      <td>Southampton</td>\n",
       "      <td>no</td>\n",
       "      <td>True</td>\n",
       "    </tr>\n",
       "  </tbody>\n",
       "</table>\n",
       "</div>"
      ],
      "text/plain": [
       "   survived  pclass     sex   age  sibsp  parch     fare embarked  class  \\\n",
       "0         0       3    male  22.0      1      0   7.2500        S  Third   \n",
       "1         1       1  female  38.0      1      0  71.2833        C  First   \n",
       "2         1       3  female  26.0      0      0   7.9250        S  Third   \n",
       "3         1       1  female  35.0      1      0  53.1000        S  First   \n",
       "4         0       3    male  35.0      0      0   8.0500        S  Third   \n",
       "\n",
       "     who  adult_male deck  embark_town alive  alone  \n",
       "0    man        True  NaN  Southampton    no  False  \n",
       "1  woman       False    C    Cherbourg   yes  False  \n",
       "2  woman       False  NaN  Southampton   yes   True  \n",
       "3  woman       False    C  Southampton   yes  False  \n",
       "4    man        True  NaN  Southampton    no   True  "
      ]
     },
     "execution_count": 6,
     "metadata": {},
     "output_type": "execute_result"
    }
   ],
   "source": [
    "ks = sns.load_dataset('titanic')\n",
    "ks.head()"
   ]
  },
  {
   "cell_type": "code",
   "execution_count": 7,
   "metadata": {},
   "outputs": [
    {
     "name": "stdout",
     "output_type": "stream",
     "text": [
      "<class 'pandas.core.frame.DataFrame'>\n",
      "RangeIndex: 891 entries, 0 to 890\n",
      "Data columns (total 15 columns):\n",
      " #   Column       Non-Null Count  Dtype   \n",
      "---  ------       --------------  -----   \n",
      " 0   survived     891 non-null    int64   \n",
      " 1   pclass       891 non-null    int64   \n",
      " 2   sex          891 non-null    object  \n",
      " 3   age          714 non-null    float64 \n",
      " 4   sibsp        891 non-null    int64   \n",
      " 5   parch        891 non-null    int64   \n",
      " 6   fare         891 non-null    float64 \n",
      " 7   embarked     889 non-null    object  \n",
      " 8   class        891 non-null    category\n",
      " 9   who          891 non-null    object  \n",
      " 10  adult_male   891 non-null    bool    \n",
      " 11  deck         203 non-null    category\n",
      " 12  embark_town  889 non-null    object  \n",
      " 13  alive        891 non-null    object  \n",
      " 14  alone        891 non-null    bool    \n",
      "dtypes: bool(2), category(2), float64(2), int64(4), object(5)\n",
      "memory usage: 80.7+ KB\n"
     ]
    }
   ],
   "source": [
    "ks.info()"
   ]
  },
  {
   "cell_type": "code",
   "execution_count": 8,
   "metadata": {},
   "outputs": [
    {
     "data": {
      "text/plain": [
       "(891, 15)"
      ]
     },
     "execution_count": 8,
     "metadata": {},
     "output_type": "execute_result"
    }
   ],
   "source": [
    "ks.shape"
   ]
  },
  {
   "cell_type": "code",
   "execution_count": 9,
   "metadata": {},
   "outputs": [
    {
     "data": {
      "text/html": [
       "<div>\n",
       "<style scoped>\n",
       "    .dataframe tbody tr th:only-of-type {\n",
       "        vertical-align: middle;\n",
       "    }\n",
       "\n",
       "    .dataframe tbody tr th {\n",
       "        vertical-align: top;\n",
       "    }\n",
       "\n",
       "    .dataframe thead th {\n",
       "        text-align: right;\n",
       "    }\n",
       "</style>\n",
       "<table border=\"1\" class=\"dataframe\">\n",
       "  <thead>\n",
       "    <tr style=\"text-align: right;\">\n",
       "      <th></th>\n",
       "      <th>survived</th>\n",
       "      <th>pclass</th>\n",
       "      <th>age</th>\n",
       "      <th>sibsp</th>\n",
       "      <th>parch</th>\n",
       "      <th>fare</th>\n",
       "    </tr>\n",
       "  </thead>\n",
       "  <tbody>\n",
       "    <tr>\n",
       "      <th>count</th>\n",
       "      <td>891.000000</td>\n",
       "      <td>891.000000</td>\n",
       "      <td>714.000000</td>\n",
       "      <td>891.000000</td>\n",
       "      <td>891.000000</td>\n",
       "      <td>891.000000</td>\n",
       "    </tr>\n",
       "    <tr>\n",
       "      <th>mean</th>\n",
       "      <td>0.383838</td>\n",
       "      <td>2.308642</td>\n",
       "      <td>29.699118</td>\n",
       "      <td>0.523008</td>\n",
       "      <td>0.381594</td>\n",
       "      <td>32.204208</td>\n",
       "    </tr>\n",
       "    <tr>\n",
       "      <th>std</th>\n",
       "      <td>0.486592</td>\n",
       "      <td>0.836071</td>\n",
       "      <td>14.526497</td>\n",
       "      <td>1.102743</td>\n",
       "      <td>0.806057</td>\n",
       "      <td>49.693429</td>\n",
       "    </tr>\n",
       "    <tr>\n",
       "      <th>min</th>\n",
       "      <td>0.000000</td>\n",
       "      <td>1.000000</td>\n",
       "      <td>0.420000</td>\n",
       "      <td>0.000000</td>\n",
       "      <td>0.000000</td>\n",
       "      <td>0.000000</td>\n",
       "    </tr>\n",
       "    <tr>\n",
       "      <th>25%</th>\n",
       "      <td>0.000000</td>\n",
       "      <td>2.000000</td>\n",
       "      <td>20.125000</td>\n",
       "      <td>0.000000</td>\n",
       "      <td>0.000000</td>\n",
       "      <td>7.910400</td>\n",
       "    </tr>\n",
       "    <tr>\n",
       "      <th>50%</th>\n",
       "      <td>0.000000</td>\n",
       "      <td>3.000000</td>\n",
       "      <td>28.000000</td>\n",
       "      <td>0.000000</td>\n",
       "      <td>0.000000</td>\n",
       "      <td>14.454200</td>\n",
       "    </tr>\n",
       "    <tr>\n",
       "      <th>75%</th>\n",
       "      <td>1.000000</td>\n",
       "      <td>3.000000</td>\n",
       "      <td>38.000000</td>\n",
       "      <td>1.000000</td>\n",
       "      <td>0.000000</td>\n",
       "      <td>31.000000</td>\n",
       "    </tr>\n",
       "    <tr>\n",
       "      <th>max</th>\n",
       "      <td>1.000000</td>\n",
       "      <td>3.000000</td>\n",
       "      <td>80.000000</td>\n",
       "      <td>8.000000</td>\n",
       "      <td>6.000000</td>\n",
       "      <td>512.329200</td>\n",
       "    </tr>\n",
       "  </tbody>\n",
       "</table>\n",
       "</div>"
      ],
      "text/plain": [
       "         survived      pclass         age       sibsp       parch        fare\n",
       "count  891.000000  891.000000  714.000000  891.000000  891.000000  891.000000\n",
       "mean     0.383838    2.308642   29.699118    0.523008    0.381594   32.204208\n",
       "std      0.486592    0.836071   14.526497    1.102743    0.806057   49.693429\n",
       "min      0.000000    1.000000    0.420000    0.000000    0.000000    0.000000\n",
       "25%      0.000000    2.000000   20.125000    0.000000    0.000000    7.910400\n",
       "50%      0.000000    3.000000   28.000000    0.000000    0.000000   14.454200\n",
       "75%      1.000000    3.000000   38.000000    1.000000    0.000000   31.000000\n",
       "max      1.000000    3.000000   80.000000    8.000000    6.000000  512.329200"
      ]
     },
     "execution_count": 9,
     "metadata": {},
     "output_type": "execute_result"
    }
   ],
   "source": [
    "# Provides details of numeric columns\n",
    "ks.describe()"
   ]
  },
  {
   "cell_type": "code",
   "execution_count": 10,
   "metadata": {},
   "outputs": [
    {
     "data": {
      "text/plain": [
       "survived         2\n",
       "pclass           3\n",
       "sex              2\n",
       "age             88\n",
       "sibsp            7\n",
       "parch            7\n",
       "fare           248\n",
       "embarked         3\n",
       "class            3\n",
       "who              3\n",
       "adult_male       2\n",
       "deck             7\n",
       "embark_town      3\n",
       "alive            2\n",
       "alone            2\n",
       "dtype: int64"
      ]
     },
     "execution_count": 10,
     "metadata": {},
     "output_type": "execute_result"
    }
   ],
   "source": [
    "# Unique values in each column\n",
    "ks.nunique()"
   ]
  },
  {
   "cell_type": "code",
   "execution_count": 11,
   "metadata": {},
   "outputs": [
    {
     "data": {
      "text/plain": [
       "Index(['survived', 'pclass', 'sex', 'age', 'sibsp', 'parch', 'fare',\n",
       "       'embarked', 'class', 'who', 'adult_male', 'deck', 'embark_town',\n",
       "       'alive', 'alone'],\n",
       "      dtype='object')"
      ]
     },
     "execution_count": 11,
     "metadata": {},
     "output_type": "execute_result"
    }
   ],
   "source": [
    "# Column names\n",
    "ks.columns"
   ]
  },
  {
   "cell_type": "code",
   "execution_count": 12,
   "metadata": {},
   "outputs": [
    {
     "data": {
      "text/plain": [
       "array(['male', 'female'], dtype=object)"
      ]
     },
     "execution_count": 12,
     "metadata": {},
     "output_type": "execute_result"
    }
   ],
   "source": [
    "# unique values in specific column\n",
    "ks['sex'].unique()"
   ]
  },
  {
   "cell_type": "markdown",
   "metadata": {},
   "source": [
    "If you wanted to get all unique values for one column and then the second column use argument ‘K‘ to the ravel() function. The argument 'K' tells the method to flatten the array in the order of the elements."
   ]
  },
  {
   "cell_type": "code",
   "execution_count": 28,
   "metadata": {},
   "outputs": [
    {
     "name": "stdout",
     "output_type": "stream",
     "text": [
      "['male' 'female' 'Third' 'First' 'Second']\n"
     ]
    }
   ],
   "source": [
    "# Using pandas.unique() to get unique values in multiple columns\n",
    "df = pd.unique(ks[['sex', 'class']].values.ravel('k'))\n",
    "print(df)"
   ]
  },
  {
   "cell_type": "code",
   "execution_count": 31,
   "metadata": {},
   "outputs": [
    {
     "name": "stdout",
     "output_type": "stream",
     "text": [
      "['First' 'Second' 'Third' 'female' 'male']\n"
     ]
    }
   ],
   "source": [
    "# Use numpy.unique() to get unique values in multiple columns \n",
    "column_values = ks[['sex', 'class']].values\n",
    "df2 = np.unique(column_values)\n",
    "print(df2)"
   ]
  },
  {
   "cell_type": "markdown",
   "metadata": {},
   "source": [
    "**Cleaning and Filtering Data**"
   ]
  },
  {
   "cell_type": "code",
   "execution_count": 32,
   "metadata": {},
   "outputs": [
    {
     "data": {
      "text/plain": [
       "survived         0\n",
       "pclass           0\n",
       "sex              0\n",
       "age            177\n",
       "sibsp            0\n",
       "parch            0\n",
       "fare             0\n",
       "embarked         2\n",
       "class            0\n",
       "who              0\n",
       "adult_male       0\n",
       "deck           688\n",
       "embark_town      2\n",
       "alive            0\n",
       "alone            0\n",
       "dtype: int64"
      ]
     },
     "execution_count": 32,
     "metadata": {},
     "output_type": "execute_result"
    }
   ],
   "source": [
    "# find missing values inside\n",
    "ks.isnull().sum()"
   ]
  },
  {
   "cell_type": "code",
   "execution_count": 36,
   "metadata": {},
   "outputs": [
    {
     "name": "stdout",
     "output_type": "stream",
     "text": [
      "ks.shape:  (891, 15)\n",
      "ks_clean.shape:  (891, 14)\n"
     ]
    }
   ],
   "source": [
    "# Removing missing values column (cleaning data)\n",
    "ks_clean = ks.drop(['deck'], axis=1)\n",
    "print('ks.shape: ', ks.shape)\n",
    "print('ks_clean.shape: ', ks_clean.shape)"
   ]
  },
  {
   "cell_type": "code",
   "execution_count": 37,
   "metadata": {},
   "outputs": [
    {
     "data": {
      "text/plain": [
       "survived         0\n",
       "pclass           0\n",
       "sex              0\n",
       "age            177\n",
       "sibsp            0\n",
       "parch            0\n",
       "fare             0\n",
       "embarked         2\n",
       "class            0\n",
       "who              0\n",
       "adult_male       0\n",
       "embark_town      2\n",
       "alive            0\n",
       "alone            0\n",
       "dtype: int64"
      ]
     },
     "execution_count": 37,
     "metadata": {},
     "output_type": "execute_result"
    }
   ],
   "source": [
    "# After removing deck column finding missing values again\n",
    "ks_clean.isnull().sum()"
   ]
  },
  {
   "cell_type": "code",
   "execution_count": 38,
   "metadata": {},
   "outputs": [
    {
     "name": "stdout",
     "output_type": "stream",
     "text": [
      "ks_clean.shape:  (712, 14)\n"
     ]
    },
    {
     "data": {
      "text/plain": [
       "survived       0\n",
       "pclass         0\n",
       "sex            0\n",
       "age            0\n",
       "sibsp          0\n",
       "parch          0\n",
       "fare           0\n",
       "embarked       0\n",
       "class          0\n",
       "who            0\n",
       "adult_male     0\n",
       "embark_town    0\n",
       "alive          0\n",
       "alone          0\n",
       "dtype: int64"
      ]
     },
     "execution_count": 38,
     "metadata": {},
     "output_type": "execute_result"
    }
   ],
   "source": [
    "# Removing all null values\n",
    "ks_clean = ks_clean.dropna()\n",
    "print('ks_clean.shape: ', ks_clean.shape)\n",
    "ks_clean.isnull().sum()"
   ]
  },
  {
   "cell_type": "code",
   "execution_count": 39,
   "metadata": {},
   "outputs": [
    {
     "data": {
      "text/plain": [
       "male      453\n",
       "female    259\n",
       "Name: sex, dtype: int64"
      ]
     },
     "execution_count": 39,
     "metadata": {},
     "output_type": "execute_result"
    }
   ],
   "source": [
    "# Counting Values in specific column\n",
    "ks_clean['sex'].value_counts()"
   ]
  },
  {
   "cell_type": "code",
   "execution_count": 40,
   "metadata": {},
   "outputs": [
    {
     "data": {
      "text/plain": [
       "<AxesSubplot:xlabel='sex', ylabel='age'>"
      ]
     },
     "execution_count": 40,
     "metadata": {},
     "output_type": "execute_result"
    },
    {
     "data": {
      "image/png": "[encoded data removed]",
      "text/plain": [
       "<Figure size 432x288 with 1 Axes>"
      ]
     },
     "metadata": {
      "needs_background": "light"
     },
     "output_type": "display_data"
    }
   ],
   "source": [
    "# Finding outliers\n",
    "sns.boxplot(x='sex', y='age', data=ks_clean)"
   ]
  },
  {
   "cell_type": "code",
   "execution_count": 41,
   "metadata": {},
   "outputs": [
    {
     "data": {
      "text/plain": [
       "<AxesSubplot:ylabel='age'>"
      ]
     },
     "execution_count": 41,
     "metadata": {},
     "output_type": "execute_result"
    },
    {
     "data": {
      "image/png": "[encoded data removed]",
      "text/plain": [
       "<Figure size 432x288 with 1 Axes>"
      ]
     },
     "metadata": {
      "needs_background": "light"
     },
     "output_type": "display_data"
    }
   ],
   "source": [
    "sns.boxplot(y='age', data=ks_clean)"
   ]
  },
  {
   "cell_type": "code",
   "execution_count": 47,
   "metadata": {},
   "outputs": [
    {
     "name": "stderr",
     "output_type": "stream",
     "text": [
      "c:\\Users\\Waleed\\anaconda3\\lib\\site-packages\\seaborn\\distributions.py:2619: FutureWarning: `distplot` is a deprecated function and will be removed in a future version. Please adapt your code to use either `displot` (a figure-level function with similar flexibility) or `histplot` (an axes-level function for histograms).\n",
      "  warnings.warn(msg, FutureWarning)\n"
     ]
    },
    {
     "data": {
      "text/plain": [
       "<AxesSubplot:xlabel='age', ylabel='Density'>"
      ]
     },
     "execution_count": 47,
     "metadata": {},
     "output_type": "execute_result"
    },
    {
     "data": {
      "image/png": "[encoded data removed]",
      "text/plain": [
       "<Figure size 432x288 with 1 Axes>"
      ]
     },
     "metadata": {
      "needs_background": "light"
     },
     "output_type": "display_data"
    }
   ],
   "source": [
    "# Data Distribution\n",
    "sns.distplot(ks_clean['age'])"
   ]
  },
  {
   "cell_type": "code",
   "execution_count": 48,
   "metadata": {},
   "outputs": [
    {
     "data": {
      "text/html": [
       "<div>\n",
       "<style scoped>\n",
       "    .dataframe tbody tr th:only-of-type {\n",
       "        vertical-align: middle;\n",
       "    }\n",
       "\n",
       "    .dataframe tbody tr th {\n",
       "        vertical-align: top;\n",
       "    }\n",
       "\n",
       "    .dataframe thead th {\n",
       "        text-align: right;\n",
       "    }\n",
       "</style>\n",
       "<table border=\"1\" class=\"dataframe\">\n",
       "  <thead>\n",
       "    <tr style=\"text-align: right;\">\n",
       "      <th></th>\n",
       "      <th>survived</th>\n",
       "      <th>pclass</th>\n",
       "      <th>sex</th>\n",
       "      <th>age</th>\n",
       "      <th>sibsp</th>\n",
       "      <th>parch</th>\n",
       "      <th>fare</th>\n",
       "      <th>embarked</th>\n",
       "      <th>class</th>\n",
       "      <th>who</th>\n",
       "      <th>adult_male</th>\n",
       "      <th>embark_town</th>\n",
       "      <th>alive</th>\n",
       "      <th>alone</th>\n",
       "    </tr>\n",
       "  </thead>\n",
       "  <tbody>\n",
       "    <tr>\n",
       "      <th>0</th>\n",
       "      <td>0</td>\n",
       "      <td>3</td>\n",
       "      <td>male</td>\n",
       "      <td>22.0</td>\n",
       "      <td>1</td>\n",
       "      <td>0</td>\n",
       "      <td>7.2500</td>\n",
       "      <td>S</td>\n",
       "      <td>Third</td>\n",
       "      <td>man</td>\n",
       "      <td>True</td>\n",
       "      <td>Southampton</td>\n",
       "      <td>no</td>\n",
       "      <td>False</td>\n",
       "    </tr>\n",
       "    <tr>\n",
       "      <th>1</th>\n",
       "      <td>1</td>\n",
       "      <td>1</td>\n",
       "      <td>female</td>\n",
       "      <td>38.0</td>\n",
       "      <td>1</td>\n",
       "      <td>0</td>\n",
       "      <td>71.2833</td>\n",
       "      <td>C</td>\n",
       "      <td>First</td>\n",
       "      <td>woman</td>\n",
       "      <td>False</td>\n",
       "      <td>Cherbourg</td>\n",
       "      <td>yes</td>\n",
       "      <td>False</td>\n",
       "    </tr>\n",
       "    <tr>\n",
       "      <th>2</th>\n",
       "      <td>1</td>\n",
       "      <td>3</td>\n",
       "      <td>female</td>\n",
       "      <td>26.0</td>\n",
       "      <td>0</td>\n",
       "      <td>0</td>\n",
       "      <td>7.9250</td>\n",
       "      <td>S</td>\n",
       "      <td>Third</td>\n",
       "      <td>woman</td>\n",
       "      <td>False</td>\n",
       "      <td>Southampton</td>\n",
       "      <td>yes</td>\n",
       "      <td>True</td>\n",
       "    </tr>\n",
       "    <tr>\n",
       "      <th>3</th>\n",
       "      <td>1</td>\n",
       "      <td>1</td>\n",
       "      <td>female</td>\n",
       "      <td>35.0</td>\n",
       "      <td>1</td>\n",
       "      <td>0</td>\n",
       "      <td>53.1000</td>\n",
       "      <td>S</td>\n",
       "      <td>First</td>\n",
       "      <td>woman</td>\n",
       "      <td>False</td>\n",
       "      <td>Southampton</td>\n",
       "      <td>yes</td>\n",
       "      <td>False</td>\n",
       "    </tr>\n",
       "    <tr>\n",
       "      <th>4</th>\n",
       "      <td>0</td>\n",
       "      <td>3</td>\n",
       "      <td>male</td>\n",
       "      <td>35.0</td>\n",
       "      <td>0</td>\n",
       "      <td>0</td>\n",
       "      <td>8.0500</td>\n",
       "      <td>S</td>\n",
       "      <td>Third</td>\n",
       "      <td>man</td>\n",
       "      <td>True</td>\n",
       "      <td>Southampton</td>\n",
       "      <td>no</td>\n",
       "      <td>True</td>\n",
       "    </tr>\n",
       "  </tbody>\n",
       "</table>\n",
       "</div>"
      ],
      "text/plain": [
       "   survived  pclass     sex   age  sibsp  parch     fare embarked  class  \\\n",
       "0         0       3    male  22.0      1      0   7.2500        S  Third   \n",
       "1         1       1  female  38.0      1      0  71.2833        C  First   \n",
       "2         1       3  female  26.0      0      0   7.9250        S  Third   \n",
       "3         1       1  female  35.0      1      0  53.1000        S  First   \n",
       "4         0       3    male  35.0      0      0   8.0500        S  Third   \n",
       "\n",
       "     who  adult_male  embark_town alive  alone  \n",
       "0    man        True  Southampton    no  False  \n",
       "1  woman       False    Cherbourg   yes  False  \n",
       "2  woman       False  Southampton   yes   True  \n",
       "3  woman       False  Southampton   yes  False  \n",
       "4    man        True  Southampton    no   True  "
      ]
     },
     "execution_count": 48,
     "metadata": {},
     "output_type": "execute_result"
    }
   ],
   "source": [
    "# Removing Outliers\n",
    "ks_clean = ks_clean[ks_clean['age'] < 68]\n",
    "ks_clean.head()"
   ]
  },
  {
   "cell_type": "code",
   "execution_count": 49,
   "metadata": {},
   "outputs": [
    {
     "data": {
      "text/plain": [
       "<AxesSubplot:ylabel='age'>"
      ]
     },
     "execution_count": 49,
     "metadata": {},
     "output_type": "execute_result"
    },
    {
     "data": {
      "image/png": "[encoded data removed]",
      "text/plain": [
       "<Figure size 432x288 with 1 Axes>"
      ]
     },
     "metadata": {
      "needs_background": "light"
     },
     "output_type": "display_data"
    }
   ],
   "source": [
    "# After filtering outliers\n",
    "sns.boxplot(y='age', data=ks_clean)"
   ]
  },
  {
   "cell_type": "markdown",
   "metadata": {},
   "source": [
    "> Looks Much Better"
   ]
  },
  {
   "cell_type": "code",
   "execution_count": 51,
   "metadata": {},
   "outputs": [
    {
     "name": "stderr",
     "output_type": "stream",
     "text": [
      "c:\\Users\\Waleed\\anaconda3\\lib\\site-packages\\seaborn\\distributions.py:2619: FutureWarning: `distplot` is a deprecated function and will be removed in a future version. Please adapt your code to use either `displot` (a figure-level function with similar flexibility) or `histplot` (an axes-level function for histograms).\n",
      "  warnings.warn(msg, FutureWarning)\n"
     ]
    },
    {
     "data": {
      "text/plain": [
       "<AxesSubplot:xlabel='age', ylabel='Density'>"
      ]
     },
     "execution_count": 51,
     "metadata": {},
     "output_type": "execute_result"
    },
    {
     "data": {
      "image/png": "[encoded data removed]",
      "text/plain": [
       "<Figure size 432x288 with 1 Axes>"
      ]
     },
     "metadata": {
      "needs_background": "light"
     },
     "output_type": "display_data"
    }
   ],
   "source": [
    "sns.distplot(ks_clean['age'])"
   ]
  },
  {
   "cell_type": "code",
   "execution_count": 52,
   "metadata": {},
   "outputs": [
    {
     "data": {
      "text/plain": [
       "<AxesSubplot:>"
      ]
     },
     "execution_count": 52,
     "metadata": {},
     "output_type": "execute_result"
    },
    {
     "data": {
      "image/png": "[encoded data removed]",
      "text/plain": [
       "<Figure size 432x288 with 1 Axes>"
      ]
     },
     "metadata": {
      "needs_background": "light"
     },
     "output_type": "display_data"
    }
   ],
   "source": [
    "# Whole Data BoxPlot\n",
    "ks_clean.boxplot()"
   ]
  },
  {
   "cell_type": "code",
   "execution_count": 53,
   "metadata": {},
   "outputs": [
    {
     "data": {
      "text/plain": [
       "<AxesSubplot:ylabel='fare'>"
      ]
     },
     "execution_count": 53,
     "metadata": {},
     "output_type": "execute_result"
    },
    {
     "data": {
      "image/png": "[encoded data removed]",
      "text/plain": [
       "<Figure size 432x288 with 1 Axes>"
      ]
     },
     "metadata": {
      "needs_background": "light"
     },
     "output_type": "display_data"
    }
   ],
   "source": [
    "sns.boxplot(y='fare', data=ks_clean)"
   ]
  },
  {
   "cell_type": "code",
   "execution_count": 62,
   "metadata": {},
   "outputs": [
    {
     "data": {
      "text/plain": [
       "<AxesSubplot:ylabel='fare'>"
      ]
     },
     "execution_count": 62,
     "metadata": {},
     "output_type": "execute_result"
    },
    {
     "data": {
      "image/png": "[encoded data removed]",
      "text/plain": [
       "<Figure size 432x288 with 1 Axes>"
      ]
     },
     "metadata": {
      "needs_background": "light"
     },
     "output_type": "display_data"
    }
   ],
   "source": [
    "# cleaning fare column\n",
    "ks_clean = ks_clean[ks_clean['fare'] < 55]\n",
    "sns.boxplot(y='fare', data=ks_clean)"
   ]
  },
  {
   "cell_type": "code",
   "execution_count": 64,
   "metadata": {},
   "outputs": [
    {
     "name": "stderr",
     "output_type": "stream",
     "text": [
      "c:\\Users\\Waleed\\anaconda3\\lib\\site-packages\\seaborn\\distributions.py:2619: FutureWarning: `distplot` is a deprecated function and will be removed in a future version. Please adapt your code to use either `displot` (a figure-level function with similar flexibility) or `histplot` (an axes-level function for histograms).\n",
      "  warnings.warn(msg, FutureWarning)\n"
     ]
    },
    {
     "data": {
      "text/plain": [
       "<AxesSubplot:xlabel='fare', ylabel='Density'>"
      ]
     },
     "execution_count": 64,
     "metadata": {},
     "output_type": "execute_result"
    },
    {
     "data": {
      "image/png": "[encoded data removed]",
      "text/plain": [
       "<Figure size 432x288 with 1 Axes>"
      ]
     },
     "metadata": {
      "needs_background": "light"
     },
     "output_type": "display_data"
    }
   ],
   "source": [
    "sns.distplot(ks_clean['fare'])"
   ]
  },
  {
   "cell_type": "markdown",
   "metadata": {},
   "source": [
    "Data is not normaly distributd, log transformation can be used for resolve the issue."
   ]
  },
  {
   "cell_type": "code",
   "execution_count": null,
   "metadata": {},
   "outputs": [],
   "source": [
    "# log transformation\n",
    "ks_clean['fare_log'] = np.log(ks_clean['fare'])"
   ]
  },
  {
   "cell_type": "code",
   "execution_count": 63,
   "metadata": {},
   "outputs": [
    {
     "data": {
      "text/plain": [
       "<AxesSubplot:>"
      ]
     },
     "execution_count": 63,
     "metadata": {},
     "output_type": "execute_result"
    },
    {
     "data": {
      "image/png": "[encoded data removed]",
      "text/plain": [
       "<Figure size 432x288 with 1 Axes>"
      ]
     },
     "metadata": {
      "needs_background": "light"
     },
     "output_type": "display_data"
    }
   ],
   "source": [
    "ks_clean.boxplot()"
   ]
  },
  {
   "cell_type": "code",
   "execution_count": 65,
   "metadata": {},
   "outputs": [
    {
     "data": {
      "text/plain": [
       "array([[<AxesSubplot:title={'center':'survived'}>,\n",
       "        <AxesSubplot:title={'center':'pclass'}>],\n",
       "       [<AxesSubplot:title={'center':'age'}>,\n",
       "        <AxesSubplot:title={'center':'sibsp'}>],\n",
       "       [<AxesSubplot:title={'center':'parch'}>,\n",
       "        <AxesSubplot:title={'center':'fare'}>]], dtype=object)"
      ]
     },
     "execution_count": 65,
     "metadata": {},
     "output_type": "execute_result"
    },
    {
     "data": {
      "image/png": "[encoded data removed]",
      "text/plain": [
       "<Figure size 432x288 with 6 Axes>"
      ]
     },
     "metadata": {
      "needs_background": "light"
     },
     "output_type": "display_data"
    }
   ],
   "source": [
    "# Complete data histogram\n",
    "ks_clean.hist()"
   ]
  },
  {
   "cell_type": "code",
   "execution_count": 66,
   "metadata": {},
   "outputs": [
    {
     "data": {
      "text/plain": [
       "<AxesSubplot:>"
      ]
     },
     "execution_count": 66,
     "metadata": {},
     "output_type": "execute_result"
    },
    {
     "data": {
      "image/png": "[encoded data removed]",
      "text/plain": [
       "<Figure size 432x288 with 1 Axes>"
      ]
     },
     "metadata": {
      "needs_background": "light"
     },
     "output_type": "display_data"
    }
   ],
   "source": [
    "pd.value_counts(ks_clean['survived']).plot.bar()"
   ]
  },
  {
   "cell_type": "code",
   "execution_count": 67,
   "metadata": {},
   "outputs": [
    {
     "data": {
      "text/plain": [
       "<AxesSubplot:>"
      ]
     },
     "execution_count": 67,
     "metadata": {},
     "output_type": "execute_result"
    },
    {
     "data": {
      "image/png": "[encoded data removed]",
      "text/plain": [
       "<Figure size 432x288 with 1 Axes>"
      ]
     },
     "metadata": {
      "needs_background": "light"
     },
     "output_type": "display_data"
    }
   ],
   "source": [
    "pd.value_counts(ks_clean['sex']).plot.bar()"
   ]
  },
  {
   "cell_type": "code",
   "execution_count": 68,
   "metadata": {},
   "outputs": [
    {
     "data": {
      "text/html": [
       "<div>\n",
       "<style scoped>\n",
       "    .dataframe tbody tr th:only-of-type {\n",
       "        vertical-align: middle;\n",
       "    }\n",
       "\n",
       "    .dataframe tbody tr th {\n",
       "        vertical-align: top;\n",
       "    }\n",
       "\n",
       "    .dataframe thead th {\n",
       "        text-align: right;\n",
       "    }\n",
       "</style>\n",
       "<table border=\"1\" class=\"dataframe\">\n",
       "  <thead>\n",
       "    <tr style=\"text-align: right;\">\n",
       "      <th></th>\n",
       "      <th></th>\n",
       "      <th>survived</th>\n",
       "      <th>pclass</th>\n",
       "      <th>age</th>\n",
       "      <th>sibsp</th>\n",
       "      <th>parch</th>\n",
       "      <th>fare</th>\n",
       "      <th>adult_male</th>\n",
       "      <th>alone</th>\n",
       "    </tr>\n",
       "    <tr>\n",
       "      <th>sex</th>\n",
       "      <th>class</th>\n",
       "      <th></th>\n",
       "      <th></th>\n",
       "      <th></th>\n",
       "      <th></th>\n",
       "      <th></th>\n",
       "      <th></th>\n",
       "      <th></th>\n",
       "      <th></th>\n",
       "    </tr>\n",
       "  </thead>\n",
       "  <tbody>\n",
       "    <tr>\n",
       "      <th rowspan=\"3\" valign=\"top\">female</th>\n",
       "      <th>First</th>\n",
       "      <td>0.941176</td>\n",
       "      <td>1.0</td>\n",
       "      <td>37.058824</td>\n",
       "      <td>0.411765</td>\n",
       "      <td>0.352941</td>\n",
       "      <td>38.962506</td>\n",
       "      <td>0.000000</td>\n",
       "      <td>0.470588</td>\n",
       "    </tr>\n",
       "    <tr>\n",
       "      <th>Second</th>\n",
       "      <td>0.916667</td>\n",
       "      <td>2.0</td>\n",
       "      <td>28.520833</td>\n",
       "      <td>0.486111</td>\n",
       "      <td>0.583333</td>\n",
       "      <td>20.755267</td>\n",
       "      <td>0.000000</td>\n",
       "      <td>0.416667</td>\n",
       "    </tr>\n",
       "    <tr>\n",
       "      <th>Third</th>\n",
       "      <td>0.460784</td>\n",
       "      <td>3.0</td>\n",
       "      <td>21.750000</td>\n",
       "      <td>0.823529</td>\n",
       "      <td>0.950980</td>\n",
       "      <td>15.875369</td>\n",
       "      <td>0.000000</td>\n",
       "      <td>0.372549</td>\n",
       "    </tr>\n",
       "    <tr>\n",
       "      <th rowspan=\"3\" valign=\"top\">male</th>\n",
       "      <th>First</th>\n",
       "      <td>0.381818</td>\n",
       "      <td>1.0</td>\n",
       "      <td>42.772727</td>\n",
       "      <td>0.145455</td>\n",
       "      <td>0.036364</td>\n",
       "      <td>32.260680</td>\n",
       "      <td>1.000000</td>\n",
       "      <td>0.836364</td>\n",
       "    </tr>\n",
       "    <tr>\n",
       "      <th>Second</th>\n",
       "      <td>0.161290</td>\n",
       "      <td>2.0</td>\n",
       "      <td>30.723978</td>\n",
       "      <td>0.333333</td>\n",
       "      <td>0.258065</td>\n",
       "      <td>18.410753</td>\n",
       "      <td>0.903226</td>\n",
       "      <td>0.645161</td>\n",
       "    </tr>\n",
       "    <tr>\n",
       "      <th>Third</th>\n",
       "      <td>0.141700</td>\n",
       "      <td>3.0</td>\n",
       "      <td>26.088745</td>\n",
       "      <td>0.502024</td>\n",
       "      <td>0.263158</td>\n",
       "      <td>11.480379</td>\n",
       "      <td>0.886640</td>\n",
       "      <td>0.732794</td>\n",
       "    </tr>\n",
       "  </tbody>\n",
       "</table>\n",
       "</div>"
      ],
      "text/plain": [
       "               survived  pclass        age     sibsp     parch       fare  \\\n",
       "sex    class                                                                \n",
       "female First   0.941176     1.0  37.058824  0.411765  0.352941  38.962506   \n",
       "       Second  0.916667     2.0  28.520833  0.486111  0.583333  20.755267   \n",
       "       Third   0.460784     3.0  21.750000  0.823529  0.950980  15.875369   \n",
       "male   First   0.381818     1.0  42.772727  0.145455  0.036364  32.260680   \n",
       "       Second  0.161290     2.0  30.723978  0.333333  0.258065  18.410753   \n",
       "       Third   0.141700     3.0  26.088745  0.502024  0.263158  11.480379   \n",
       "\n",
       "               adult_male     alone  \n",
       "sex    class                         \n",
       "female First     0.000000  0.470588  \n",
       "       Second    0.000000  0.416667  \n",
       "       Third     0.000000  0.372549  \n",
       "male   First     1.000000  0.836364  \n",
       "       Second    0.903226  0.645161  \n",
       "       Third     0.886640  0.732794  "
      ]
     },
     "execution_count": 68,
     "metadata": {},
     "output_type": "execute_result"
    }
   ],
   "source": [
    "ks_clean.groupby(['sex', 'class']).mean()"
   ]
  },
  {
   "cell_type": "code",
   "execution_count": 69,
   "metadata": {},
   "outputs": [
    {
     "data": {
      "text/html": [
       "<div>\n",
       "<style scoped>\n",
       "    .dataframe tbody tr th:only-of-type {\n",
       "        vertical-align: middle;\n",
       "    }\n",
       "\n",
       "    .dataframe tbody tr th {\n",
       "        vertical-align: top;\n",
       "    }\n",
       "\n",
       "    .dataframe thead th {\n",
       "        text-align: right;\n",
       "    }\n",
       "</style>\n",
       "<table border=\"1\" class=\"dataframe\">\n",
       "  <thead>\n",
       "    <tr style=\"text-align: right;\">\n",
       "      <th></th>\n",
       "      <th>survived</th>\n",
       "      <th>pclass</th>\n",
       "      <th>age</th>\n",
       "      <th>sibsp</th>\n",
       "      <th>parch</th>\n",
       "      <th>fare</th>\n",
       "      <th>adult_male</th>\n",
       "      <th>alone</th>\n",
       "    </tr>\n",
       "  </thead>\n",
       "  <tbody>\n",
       "    <tr>\n",
       "      <th>survived</th>\n",
       "      <td>1.000000</td>\n",
       "      <td>-0.253421</td>\n",
       "      <td>-0.137448</td>\n",
       "      <td>-0.028300</td>\n",
       "      <td>0.098433</td>\n",
       "      <td>0.176168</td>\n",
       "      <td>-0.510726</td>\n",
       "      <td>-0.177098</td>\n",
       "    </tr>\n",
       "    <tr>\n",
       "      <th>pclass</th>\n",
       "      <td>-0.253421</td>\n",
       "      <td>1.000000</td>\n",
       "      <td>-0.380304</td>\n",
       "      <td>0.140866</td>\n",
       "      <td>0.120047</td>\n",
       "      <td>-0.573454</td>\n",
       "      <td>-0.025996</td>\n",
       "      <td>-0.032915</td>\n",
       "    </tr>\n",
       "    <tr>\n",
       "      <th>age</th>\n",
       "      <td>-0.137448</td>\n",
       "      <td>-0.380304</td>\n",
       "      <td>1.000000</td>\n",
       "      <td>-0.372958</td>\n",
       "      <td>-0.223097</td>\n",
       "      <td>0.033772</td>\n",
       "      <td>0.341861</td>\n",
       "      <td>0.312785</td>\n",
       "    </tr>\n",
       "    <tr>\n",
       "      <th>sibsp</th>\n",
       "      <td>-0.028300</td>\n",
       "      <td>0.140866</td>\n",
       "      <td>-0.372958</td>\n",
       "      <td>1.000000</td>\n",
       "      <td>0.411134</td>\n",
       "      <td>0.464386</td>\n",
       "      <td>-0.362488</td>\n",
       "      <td>-0.648029</td>\n",
       "    </tr>\n",
       "    <tr>\n",
       "      <th>parch</th>\n",
       "      <td>0.098433</td>\n",
       "      <td>0.120047</td>\n",
       "      <td>-0.223097</td>\n",
       "      <td>0.411134</td>\n",
       "      <td>1.000000</td>\n",
       "      <td>0.411263</td>\n",
       "      <td>-0.412959</td>\n",
       "      <td>-0.599167</td>\n",
       "    </tr>\n",
       "    <tr>\n",
       "      <th>fare</th>\n",
       "      <td>0.176168</td>\n",
       "      <td>-0.573454</td>\n",
       "      <td>0.033772</td>\n",
       "      <td>0.464386</td>\n",
       "      <td>0.411263</td>\n",
       "      <td>1.000000</td>\n",
       "      <td>-0.260964</td>\n",
       "      <td>-0.503869</td>\n",
       "    </tr>\n",
       "    <tr>\n",
       "      <th>adult_male</th>\n",
       "      <td>-0.510726</td>\n",
       "      <td>-0.025996</td>\n",
       "      <td>0.341861</td>\n",
       "      <td>-0.362488</td>\n",
       "      <td>-0.412959</td>\n",
       "      <td>-0.260964</td>\n",
       "      <td>1.000000</td>\n",
       "      <td>0.463082</td>\n",
       "    </tr>\n",
       "    <tr>\n",
       "      <th>alone</th>\n",
       "      <td>-0.177098</td>\n",
       "      <td>-0.032915</td>\n",
       "      <td>0.312785</td>\n",
       "      <td>-0.648029</td>\n",
       "      <td>-0.599167</td>\n",
       "      <td>-0.503869</td>\n",
       "      <td>0.463082</td>\n",
       "      <td>1.000000</td>\n",
       "    </tr>\n",
       "  </tbody>\n",
       "</table>\n",
       "</div>"
      ],
      "text/plain": [
       "            survived    pclass       age     sibsp     parch      fare  \\\n",
       "survived    1.000000 -0.253421 -0.137448 -0.028300  0.098433  0.176168   \n",
       "pclass     -0.253421  1.000000 -0.380304  0.140866  0.120047 -0.573454   \n",
       "age        -0.137448 -0.380304  1.000000 -0.372958 -0.223097  0.033772   \n",
       "sibsp      -0.028300  0.140866 -0.372958  1.000000  0.411134  0.464386   \n",
       "parch       0.098433  0.120047 -0.223097  0.411134  1.000000  0.411263   \n",
       "fare        0.176168 -0.573454  0.033772  0.464386  0.411263  1.000000   \n",
       "adult_male -0.510726 -0.025996  0.341861 -0.362488 -0.412959 -0.260964   \n",
       "alone      -0.177098 -0.032915  0.312785 -0.648029 -0.599167 -0.503869   \n",
       "\n",
       "            adult_male     alone  \n",
       "survived     -0.510726 -0.177098  \n",
       "pclass       -0.025996 -0.032915  \n",
       "age           0.341861  0.312785  \n",
       "sibsp        -0.362488 -0.648029  \n",
       "parch        -0.412959 -0.599167  \n",
       "fare         -0.260964 -0.503869  \n",
       "adult_male    1.000000  0.463082  \n",
       "alone         0.463082  1.000000  "
      ]
     },
     "execution_count": 69,
     "metadata": {},
     "output_type": "execute_result"
    }
   ],
   "source": [
    "# corelation matrix 1 shows positive whereas neg value shows neg corelation\n",
    "ks_clean.corr()"
   ]
  },
  {
   "cell_type": "code",
   "execution_count": 70,
   "metadata": {},
   "outputs": [
    {
     "data": {
      "text/plain": [
       "<AxesSubplot:>"
      ]
     },
     "execution_count": 70,
     "metadata": {},
     "output_type": "execute_result"
    },
    {
     "data": {
      "image/png": "[encoded data removed]",
      "text/plain": [
       "<Figure size 432x288 with 2 Axes>"
      ]
     },
     "metadata": {
      "needs_background": "light"
     },
     "output_type": "display_data"
    }
   ],
   "source": [
    "corr_ks_clean = ks_clean.corr()\n",
    "sns.heatmap(corr_ks_clean)"
   ]
  },
  {
   "cell_type": "code",
   "execution_count": 71,
   "metadata": {},
   "outputs": [
    {
     "data": {
      "text/plain": [
       "<AxesSubplot:>"
      ]
     },
     "execution_count": 71,
     "metadata": {},
     "output_type": "execute_result"
    },
    {
     "data": {
      "image/png": "[encoded data removed]",
      "text/plain": [
       "<Figure size 432x288 with 2 Axes>"
      ]
     },
     "metadata": {
      "needs_background": "light"
     },
     "output_type": "display_data"
    }
   ],
   "source": [
    "sns.heatmap(corr_ks_clean, annot=True)"
   ]
  },
  {
   "cell_type": "code",
   "execution_count": 72,
   "metadata": {},
   "outputs": [
    {
     "data": {
      "text/plain": [
       "<seaborn.axisgrid.FacetGrid at 0x1fdc67e8190>"
      ]
     },
     "execution_count": 72,
     "metadata": {},
     "output_type": "execute_result"
    },
    {
     "data": {
      "image/png": "[encoded data removed]",
      "text/plain": [
       "<Figure size 360x360 with 1 Axes>"
      ]
     },
     "metadata": {
      "needs_background": "light"
     },
     "output_type": "display_data"
    }
   ],
   "source": [
    "sns.relplot(x= 'age', y='fare', data=ks_clean)"
   ]
  },
  {
   "cell_type": "code",
   "execution_count": 73,
   "metadata": {},
   "outputs": [
    {
     "data": {
      "text/plain": [
       "<seaborn.axisgrid.FacetGrid at 0x1fdc677a3a0>"
      ]
     },
     "execution_count": 73,
     "metadata": {},
     "output_type": "execute_result"
    },
    {
     "data": {
      "image/png": "[encoded data removed]",
      "text/plain": [
       "<Figure size 430.5x360 with 1 Axes>"
      ]
     },
     "metadata": {
      "needs_background": "light"
     },
     "output_type": "display_data"
    }
   ],
   "source": [
    "# Grouping\n",
    "sns.relplot(x= 'age', y='fare',hue='sex', data=ks_clean)"
   ]
  },
  {
   "cell_type": "code",
   "execution_count": 74,
   "metadata": {},
   "outputs": [
    {
     "data": {
      "text/plain": [
       "<seaborn.axisgrid.FacetGrid at 0x1fdc79c2d90>"
      ]
     },
     "execution_count": 74,
     "metadata": {},
     "output_type": "execute_result"
    },
    {
     "data": {
      "image/png": "[encoded data removed]",
      "text/plain": [
       "<Figure size 360x360 with 1 Axes>"
      ]
     },
     "metadata": {
      "needs_background": "light"
     },
     "output_type": "display_data"
    }
   ],
   "source": [
    "# Category plot\n",
    "sns.catplot(x= 'sex', y='fare',hue='sex', data=ks_clean, kind='bar')"
   ]
  },
  {
   "cell_type": "code",
   "execution_count": 75,
   "metadata": {},
   "outputs": [
    {
     "data": {
      "text/plain": [
       "<seaborn.axisgrid.FacetGrid at 0x1fdc7ad2dc0>"
      ]
     },
     "execution_count": 75,
     "metadata": {},
     "output_type": "execute_result"
    },
    {
     "data": {
      "image/png": "[encoded data removed]",
      "text/plain": [
       "<Figure size 360x360 with 1 Axes>"
      ]
     },
     "metadata": {
      "needs_background": "light"
     },
     "output_type": "display_data"
    }
   ],
   "source": [
    "sns.catplot(x= 'sex', y='fare',hue='sex', data=ks_clean, kind='box')"
   ]
  },
  {
   "cell_type": "markdown",
   "metadata": {},
   "source": [
    "## Data Wrangling"
   ]
  },
  {
   "cell_type": "code",
   "execution_count": 1,
   "metadata": {},
   "outputs": [],
   "source": [
    "# Importing Required Libraries\n",
    "import numpy as np\n",
    "import pandas as pd\n",
    "import matplotlib.pyplot as plt\n",
    "import seaborn as sns"
   ]
  },
  {
   "cell_type": "code",
   "execution_count": 2,
   "metadata": {},
   "outputs": [
    {
     "data": {
      "text/html": [
       "<div>\n",
       "<style scoped>\n",
       "    .dataframe tbody tr th:only-of-type {\n",
       "        vertical-align: middle;\n",
       "    }\n",
       "\n",
       "    .dataframe tbody tr th {\n",
       "        vertical-align: top;\n",
       "    }\n",
       "\n",
       "    .dataframe thead th {\n",
       "        text-align: right;\n",
       "    }\n",
       "</style>\n",
       "<table border=\"1\" class=\"dataframe\">\n",
       "  <thead>\n",
       "    <tr style=\"text-align: right;\">\n",
       "      <th></th>\n",
       "      <th>survived</th>\n",
       "      <th>pclass</th>\n",
       "      <th>sex</th>\n",
       "      <th>age</th>\n",
       "      <th>sibsp</th>\n",
       "      <th>parch</th>\n",
       "      <th>fare</th>\n",
       "      <th>embarked</th>\n",
       "      <th>class</th>\n",
       "      <th>who</th>\n",
       "      <th>adult_male</th>\n",
       "      <th>deck</th>\n",
       "      <th>embark_town</th>\n",
       "      <th>alive</th>\n",
       "      <th>alone</th>\n",
       "    </tr>\n",
       "  </thead>\n",
       "  <tbody>\n",
       "    <tr>\n",
       "      <th>0</th>\n",
       "      <td>0</td>\n",
       "      <td>3</td>\n",
       "      <td>male</td>\n",
       "      <td>22.0</td>\n",
       "      <td>1</td>\n",
       "      <td>0</td>\n",
       "      <td>7.2500</td>\n",
       "      <td>S</td>\n",
       "      <td>Third</td>\n",
       "      <td>man</td>\n",
       "      <td>True</td>\n",
       "      <td>NaN</td>\n",
       "      <td>Southampton</td>\n",
       "      <td>no</td>\n",
       "      <td>False</td>\n",
       "    </tr>\n",
       "    <tr>\n",
       "      <th>1</th>\n",
       "      <td>1</td>\n",
       "      <td>1</td>\n",
       "      <td>female</td>\n",
       "      <td>38.0</td>\n",
       "      <td>1</td>\n",
       "      <td>0</td>\n",
       "      <td>71.2833</td>\n",
       "      <td>C</td>\n",
       "      <td>First</td>\n",
       "      <td>woman</td>\n",
       "      <td>False</td>\n",
       "      <td>C</td>\n",
       "      <td>Cherbourg</td>\n",
       "      <td>yes</td>\n",
       "      <td>False</td>\n",
       "    </tr>\n",
       "    <tr>\n",
       "      <th>2</th>\n",
       "      <td>1</td>\n",
       "      <td>3</td>\n",
       "      <td>female</td>\n",
       "      <td>26.0</td>\n",
       "      <td>0</td>\n",
       "      <td>0</td>\n",
       "      <td>7.9250</td>\n",
       "      <td>S</td>\n",
       "      <td>Third</td>\n",
       "      <td>woman</td>\n",
       "      <td>False</td>\n",
       "      <td>NaN</td>\n",
       "      <td>Southampton</td>\n",
       "      <td>yes</td>\n",
       "      <td>True</td>\n",
       "    </tr>\n",
       "    <tr>\n",
       "      <th>3</th>\n",
       "      <td>1</td>\n",
       "      <td>1</td>\n",
       "      <td>female</td>\n",
       "      <td>35.0</td>\n",
       "      <td>1</td>\n",
       "      <td>0</td>\n",
       "      <td>53.1000</td>\n",
       "      <td>S</td>\n",
       "      <td>First</td>\n",
       "      <td>woman</td>\n",
       "      <td>False</td>\n",
       "      <td>C</td>\n",
       "      <td>Southampton</td>\n",
       "      <td>yes</td>\n",
       "      <td>False</td>\n",
       "    </tr>\n",
       "    <tr>\n",
       "      <th>4</th>\n",
       "      <td>0</td>\n",
       "      <td>3</td>\n",
       "      <td>male</td>\n",
       "      <td>35.0</td>\n",
       "      <td>0</td>\n",
       "      <td>0</td>\n",
       "      <td>8.0500</td>\n",
       "      <td>S</td>\n",
       "      <td>Third</td>\n",
       "      <td>man</td>\n",
       "      <td>True</td>\n",
       "      <td>NaN</td>\n",
       "      <td>Southampton</td>\n",
       "      <td>no</td>\n",
       "      <td>True</td>\n",
       "    </tr>\n",
       "  </tbody>\n",
       "</table>\n",
       "</div>"
      ],
      "text/plain": [
       "   survived  pclass     sex   age  sibsp  parch     fare embarked  class  \\\n",
       "0         0       3    male  22.0      1      0   7.2500        S  Third   \n",
       "1         1       1  female  38.0      1      0  71.2833        C  First   \n",
       "2         1       3  female  26.0      0      0   7.9250        S  Third   \n",
       "3         1       1  female  35.0      1      0  53.1000        S  First   \n",
       "4         0       3    male  35.0      0      0   8.0500        S  Third   \n",
       "\n",
       "     who  adult_male deck  embark_town alive  alone  \n",
       "0    man        True  NaN  Southampton    no  False  \n",
       "1  woman       False    C    Cherbourg   yes  False  \n",
       "2  woman       False  NaN  Southampton   yes   True  \n",
       "3  woman       False    C  Southampton   yes  False  \n",
       "4    man        True  NaN  Southampton    no   True  "
      ]
     },
     "execution_count": 2,
     "metadata": {},
     "output_type": "execute_result"
    }
   ],
   "source": [
    "# Importing Dataset\n",
    "kashti = sns.load_dataset('titanic')\n",
    "kashti.head()"
   ]
  },
  {
   "cell_type": "code",
   "execution_count": 3,
   "metadata": {},
   "outputs": [
    {
     "data": {
      "text/plain": [
       "0    132.0\n",
       "1    228.0\n",
       "2    156.0\n",
       "3    210.0\n",
       "4    210.0\n",
       "5      NaN\n",
       "6    324.0\n",
       "7     12.0\n",
       "8    162.0\n",
       "9     84.0\n",
       "Name: age, dtype: float64"
      ]
     },
     "execution_count": 3,
     "metadata": {},
     "output_type": "execute_result"
    }
   ],
   "source": [
    "# Simple Operations (Math Operaters)\n",
    "# Doing simple math operations on numeric value columns\n",
    "\n",
    "(kashti['age'] * 6).head(10)"
   ]
  },
  {
   "cell_type": "markdown",
   "metadata": {},
   "source": [
    "### Dealing with missing values\n",
    "- in a data set missing values are either? N/A or NaN or 0 or a blank cell.\n",
    "- Jab kabhi data na ho kisi aik row main kisi b aik parameter ka\n",
    "\n",
    "> __- Steps:__\n",
    "1. Koshish karen dobra data collet kar len ya dekh len ager kahin ghalti hy.\n",
    "2. Missing value wala variable (column) hi nikal den ager data per effect nahe hta ya simple row or data entry remove kar den.\n",
    "3. Replace the missing values:\n",
    "    1.  How?\n",
    "        1.  Average value of entire variable or similar data point\n",
    "        2.  frequency or MODE replacement\n",
    "        3.  Replace based on other functions (Data sampler knows that)\n",
    "        4.  ML algorithm can also be used\n",
    "        5.  Leave it like that\n",
    "    2.  Why?\n",
    "        1.  Its better because no data is lost\n",
    "        2.  Less accurate"
   ]
  },
  {
   "cell_type": "code",
   "execution_count": 4,
   "metadata": {},
   "outputs": [
    {
     "data": {
      "text/plain": [
       "survived         0\n",
       "pclass           0\n",
       "sex              0\n",
       "age            177\n",
       "sibsp            0\n",
       "parch            0\n",
       "fare             0\n",
       "embarked         2\n",
       "class            0\n",
       "who              0\n",
       "adult_male       0\n",
       "deck           688\n",
       "embark_town      2\n",
       "alive            0\n",
       "alone            0\n",
       "dtype: int64"
      ]
     },
     "execution_count": 4,
     "metadata": {},
     "output_type": "execute_result"
    }
   ],
   "source": [
    "# where exactly missing values are?\n",
    "kashti.isnull().sum()"
   ]
  },
  {
   "cell_type": "code",
   "execution_count": 5,
   "metadata": {},
   "outputs": [
    {
     "name": "stdout",
     "output_type": "stream",
     "text": [
      "Shape Before Removing deck col:  (891, 15)\n",
      "Shape Before Removing deck col:  (203, 15)\n"
     ]
    }
   ],
   "source": [
    "# Use drop.na method\n",
    "print('Shape Before Removing deck col: ',kashti.shape)\n",
    "# this will specifically removes deck column\n",
    "# inplace = true modifies the data frame\n",
    "kashti.dropna(subset=['deck'], axis=0, inplace=True)\n",
    "print('Shape Before Removing deck col: ',kashti.shape)"
   ]
  },
  {
   "cell_type": "code",
   "execution_count": 6,
   "metadata": {},
   "outputs": [
    {
     "data": {
      "text/plain": [
       "survived        0\n",
       "pclass          0\n",
       "sex             0\n",
       "age            19\n",
       "sibsp           0\n",
       "parch           0\n",
       "fare            0\n",
       "embarked        2\n",
       "class           0\n",
       "who             0\n",
       "adult_male      0\n",
       "deck            0\n",
       "embark_town     2\n",
       "alive           0\n",
       "alone           0\n",
       "dtype: int64"
      ]
     },
     "execution_count": 6,
     "metadata": {},
     "output_type": "execute_result"
    }
   ],
   "source": [
    "# After removing 'deck' column, see again missing values\n",
    "kashti.isnull().sum()"
   ]
  },
  {
   "cell_type": "code",
   "execution_count": 7,
   "metadata": {},
   "outputs": [
    {
     "data": {
      "text/plain": [
       "survived       0\n",
       "pclass         0\n",
       "sex            0\n",
       "age            0\n",
       "sibsp          0\n",
       "parch          0\n",
       "fare           0\n",
       "embarked       0\n",
       "class          0\n",
       "who            0\n",
       "adult_male     0\n",
       "deck           0\n",
       "embark_town    0\n",
       "alive          0\n",
       "alone          0\n",
       "dtype: int64"
      ]
     },
     "execution_count": 7,
     "metadata": {},
     "output_type": "execute_result"
    }
   ],
   "source": [
    "# to update the main dataframe\n",
    "kashti = kashti.dropna()    # Removes NAN values from whole dataframe\n",
    "kashti.isnull().sum() "
   ]
  },
  {
   "cell_type": "code",
   "execution_count": 8,
   "metadata": {},
   "outputs": [
    {
     "name": "stdout",
     "output_type": "stream",
     "text": [
      "Shape After Removing all NaN Values:  (182, 15)\n"
     ]
    }
   ],
   "source": [
    "# After droping all NAN values let see how much data left\n",
    "print('Shape After Removing all NaN Values: ',kashti.shape)"
   ]
  },
  {
   "cell_type": "markdown",
   "metadata": {},
   "source": [
    "### Replacing Missing values with __mean__ of that column"
   ]
  },
  {
   "cell_type": "code",
   "execution_count": 9,
   "metadata": {},
   "outputs": [
    {
     "data": {
      "text/plain": [
       "survived         0\n",
       "pclass           0\n",
       "sex              0\n",
       "age            177\n",
       "sibsp            0\n",
       "parch            0\n",
       "fare             0\n",
       "embarked         2\n",
       "class            0\n",
       "who              0\n",
       "adult_male       0\n",
       "deck           688\n",
       "embark_town      2\n",
       "alive            0\n",
       "alone            0\n",
       "dtype: int64"
      ]
     },
     "execution_count": 9,
     "metadata": {},
     "output_type": "execute_result"
    }
   ],
   "source": [
    "# Now Using original data again in form of ks1\n",
    "ks1 = sns.load_dataset('titanic')\n",
    "ks1.isnull().sum()"
   ]
  },
  {
   "cell_type": "code",
   "execution_count": 10,
   "metadata": {},
   "outputs": [
    {
     "data": {
      "text/plain": [
       "29.69911764705882"
      ]
     },
     "execution_count": 10,
     "metadata": {},
     "output_type": "execute_result"
    }
   ],
   "source": [
    "# finding an average (mean)\n",
    "mean_age = ks1['age'].mean()\n",
    "mean_age"
   ]
  },
  {
   "cell_type": "code",
   "execution_count": 11,
   "metadata": {},
   "outputs": [
    {
     "data": {
      "text/plain": [
       "survived         0\n",
       "pclass           0\n",
       "sex              0\n",
       "age              0\n",
       "sibsp            0\n",
       "parch            0\n",
       "fare             0\n",
       "embarked         2\n",
       "class            0\n",
       "who              0\n",
       "adult_male       0\n",
       "deck           688\n",
       "embark_town      2\n",
       "alive            0\n",
       "alone            0\n",
       "dtype: int64"
      ]
     },
     "execution_count": 11,
     "metadata": {},
     "output_type": "execute_result"
    }
   ],
   "source": [
    "# Replacing NAN values in 'age' column with mean of that column (updating as well)\n",
    "ks1['age'] = ks1['age'].replace(np.nan, mean_age)\n",
    "\n",
    "# After Replacing age col NaN values with mean of that col\n",
    "ks1.isnull().sum()"
   ]
  },
  {
   "cell_type": "code",
   "execution_count": 12,
   "metadata": {},
   "outputs": [
    {
     "data": {
      "text/plain": [
       "(891, 15)"
      ]
     },
     "execution_count": 12,
     "metadata": {},
     "output_type": "execute_result"
    }
   ],
   "source": [
    "ks1.shape"
   ]
  },
  {
   "cell_type": "code",
   "execution_count": 13,
   "metadata": {},
   "outputs": [
    {
     "data": {
      "text/plain": [
       "survived          int64\n",
       "pclass            int64\n",
       "sex              object\n",
       "age             float64\n",
       "sibsp             int64\n",
       "parch             int64\n",
       "fare            float64\n",
       "embarked         object\n",
       "class          category\n",
       "who              object\n",
       "adult_male         bool\n",
       "deck           category\n",
       "embark_town      object\n",
       "alive            object\n",
       "alone              bool\n",
       "dtype: object"
      ]
     },
     "execution_count": 13,
     "metadata": {},
     "output_type": "execute_result"
    }
   ],
   "source": [
    "# Finding datatype of 'deck' column, can we replace missing values with mean or not?\n",
    "ks1.dtypes"
   ]
  },
  {
   "cell_type": "markdown",
   "metadata": {},
   "source": [
    "**> As 'deck' is categorical data column, we cannot replace it's NaN values with mean**\n",
    "\n",
    "**> So, it's better to remove whole column because it contain too much missing data**"
   ]
  },
  {
   "cell_type": "code",
   "execution_count": 14,
   "metadata": {},
   "outputs": [
    {
     "name": "stdout",
     "output_type": "stream",
     "text": [
      "Shape Before Removing deck col:  (891, 15)\n",
      "Shape After Removing deck col:  (891, 14)\n"
     ]
    },
    {
     "data": {
      "text/plain": [
       "survived       0\n",
       "pclass         0\n",
       "sex            0\n",
       "age            0\n",
       "sibsp          0\n",
       "parch          0\n",
       "fare           0\n",
       "embarked       2\n",
       "class          0\n",
       "who            0\n",
       "adult_male     0\n",
       "embark_town    2\n",
       "alive          0\n",
       "alone          0\n",
       "dtype: int64"
      ]
     },
     "execution_count": 14,
     "metadata": {},
     "output_type": "execute_result"
    }
   ],
   "source": [
    "# Removing 'deck' column, Because it's not possible to replace categorical col with mean\n",
    "print('Shape Before Removing deck col: ',ks1.shape)\n",
    "ks1 = ks1.drop(['deck'], axis=1)\n",
    "print('Shape After Removing deck col: ',ks1.shape)\n",
    "ks1.isnull().sum()"
   ]
  },
  {
   "cell_type": "markdown",
   "metadata": {},
   "source": [
    "### Data Formatting"
   ]
  },
  {
   "cell_type": "markdown",
   "metadata": {},
   "source": [
    "- Data ko aik common standard per lana\n",
    "- Ensures data is consistant and understandable\n",
    "  - Easy to gather\n",
    "  - Easy to workwith\n",
    "  - Data ek hi unit main ho"
   ]
  },
  {
   "cell_type": "code",
   "execution_count": 15,
   "metadata": {},
   "outputs": [
    {
     "data": {
      "text/plain": [
       "survived          int64\n",
       "pclass            int64\n",
       "sex              object\n",
       "age             float64\n",
       "sibsp             int64\n",
       "parch             int64\n",
       "fare            float64\n",
       "embarked         object\n",
       "class          category\n",
       "who              object\n",
       "adult_male         bool\n",
       "deck           category\n",
       "embark_town      object\n",
       "alive            object\n",
       "alone              bool\n",
       "dtype: object"
      ]
     },
     "execution_count": 15,
     "metadata": {},
     "output_type": "execute_result"
    }
   ],
   "source": [
    "# Know the data type and convert it into the known one\n",
    "kashti.dtypes"
   ]
  },
  {
   "cell_type": "code",
   "execution_count": 16,
   "metadata": {},
   "outputs": [
    {
     "data": {
      "text/plain": [
       "survived          int64\n",
       "pclass            int64\n",
       "sex              object\n",
       "age             float64\n",
       "sibsp             int64\n",
       "parch             int64\n",
       "fare            float64\n",
       "embarked         object\n",
       "class          category\n",
       "who              object\n",
       "adult_male         bool\n",
       "deck           category\n",
       "embark_town      object\n",
       "alive            object\n",
       "alone              bool\n",
       "dtype: object"
      ]
     },
     "execution_count": 16,
     "metadata": {},
     "output_type": "execute_result"
    }
   ],
   "source": [
    "# Use this Method to convert datatype / type casting\n",
    "kashti['survived'] = kashti['survived'].astype('int64')\n",
    "kashti.dtypes"
   ]
  },
  {
   "cell_type": "code",
   "execution_count": 17,
   "metadata": {},
   "outputs": [
    {
     "data": {
      "text/html": [
       "<div>\n",
       "<style scoped>\n",
       "    .dataframe tbody tr th:only-of-type {\n",
       "        vertical-align: middle;\n",
       "    }\n",
       "\n",
       "    .dataframe tbody tr th {\n",
       "        vertical-align: top;\n",
       "    }\n",
       "\n",
       "    .dataframe thead th {\n",
       "        text-align: right;\n",
       "    }\n",
       "</style>\n",
       "<table border=\"1\" class=\"dataframe\">\n",
       "  <thead>\n",
       "    <tr style=\"text-align: right;\">\n",
       "      <th></th>\n",
       "      <th>survived</th>\n",
       "      <th>pclass</th>\n",
       "      <th>sex</th>\n",
       "      <th>age</th>\n",
       "      <th>sibsp</th>\n",
       "      <th>parch</th>\n",
       "      <th>fare</th>\n",
       "      <th>embarked</th>\n",
       "      <th>class</th>\n",
       "      <th>who</th>\n",
       "      <th>adult_male</th>\n",
       "      <th>embark_town</th>\n",
       "      <th>alive</th>\n",
       "      <th>alone</th>\n",
       "      <th>age_in_days</th>\n",
       "    </tr>\n",
       "  </thead>\n",
       "  <tbody>\n",
       "    <tr>\n",
       "      <th>0</th>\n",
       "      <td>0</td>\n",
       "      <td>3</td>\n",
       "      <td>male</td>\n",
       "      <td>22.000000</td>\n",
       "      <td>1</td>\n",
       "      <td>0</td>\n",
       "      <td>7.2500</td>\n",
       "      <td>S</td>\n",
       "      <td>Third</td>\n",
       "      <td>man</td>\n",
       "      <td>True</td>\n",
       "      <td>Southampton</td>\n",
       "      <td>no</td>\n",
       "      <td>False</td>\n",
       "      <td>8030</td>\n",
       "    </tr>\n",
       "    <tr>\n",
       "      <th>1</th>\n",
       "      <td>1</td>\n",
       "      <td>1</td>\n",
       "      <td>female</td>\n",
       "      <td>38.000000</td>\n",
       "      <td>1</td>\n",
       "      <td>0</td>\n",
       "      <td>71.2833</td>\n",
       "      <td>C</td>\n",
       "      <td>First</td>\n",
       "      <td>woman</td>\n",
       "      <td>False</td>\n",
       "      <td>Cherbourg</td>\n",
       "      <td>yes</td>\n",
       "      <td>False</td>\n",
       "      <td>13870</td>\n",
       "    </tr>\n",
       "    <tr>\n",
       "      <th>2</th>\n",
       "      <td>1</td>\n",
       "      <td>3</td>\n",
       "      <td>female</td>\n",
       "      <td>26.000000</td>\n",
       "      <td>0</td>\n",
       "      <td>0</td>\n",
       "      <td>7.9250</td>\n",
       "      <td>S</td>\n",
       "      <td>Third</td>\n",
       "      <td>woman</td>\n",
       "      <td>False</td>\n",
       "      <td>Southampton</td>\n",
       "      <td>yes</td>\n",
       "      <td>True</td>\n",
       "      <td>9490</td>\n",
       "    </tr>\n",
       "    <tr>\n",
       "      <th>3</th>\n",
       "      <td>1</td>\n",
       "      <td>1</td>\n",
       "      <td>female</td>\n",
       "      <td>35.000000</td>\n",
       "      <td>1</td>\n",
       "      <td>0</td>\n",
       "      <td>53.1000</td>\n",
       "      <td>S</td>\n",
       "      <td>First</td>\n",
       "      <td>woman</td>\n",
       "      <td>False</td>\n",
       "      <td>Southampton</td>\n",
       "      <td>yes</td>\n",
       "      <td>False</td>\n",
       "      <td>12775</td>\n",
       "    </tr>\n",
       "    <tr>\n",
       "      <th>4</th>\n",
       "      <td>0</td>\n",
       "      <td>3</td>\n",
       "      <td>male</td>\n",
       "      <td>35.000000</td>\n",
       "      <td>0</td>\n",
       "      <td>0</td>\n",
       "      <td>8.0500</td>\n",
       "      <td>S</td>\n",
       "      <td>Third</td>\n",
       "      <td>man</td>\n",
       "      <td>True</td>\n",
       "      <td>Southampton</td>\n",
       "      <td>no</td>\n",
       "      <td>True</td>\n",
       "      <td>12775</td>\n",
       "    </tr>\n",
       "    <tr>\n",
       "      <th>5</th>\n",
       "      <td>0</td>\n",
       "      <td>3</td>\n",
       "      <td>male</td>\n",
       "      <td>29.699118</td>\n",
       "      <td>0</td>\n",
       "      <td>0</td>\n",
       "      <td>8.4583</td>\n",
       "      <td>Q</td>\n",
       "      <td>Third</td>\n",
       "      <td>man</td>\n",
       "      <td>True</td>\n",
       "      <td>Queenstown</td>\n",
       "      <td>no</td>\n",
       "      <td>True</td>\n",
       "      <td>10840</td>\n",
       "    </tr>\n",
       "    <tr>\n",
       "      <th>6</th>\n",
       "      <td>0</td>\n",
       "      <td>1</td>\n",
       "      <td>male</td>\n",
       "      <td>54.000000</td>\n",
       "      <td>0</td>\n",
       "      <td>0</td>\n",
       "      <td>51.8625</td>\n",
       "      <td>S</td>\n",
       "      <td>First</td>\n",
       "      <td>man</td>\n",
       "      <td>True</td>\n",
       "      <td>Southampton</td>\n",
       "      <td>no</td>\n",
       "      <td>True</td>\n",
       "      <td>19710</td>\n",
       "    </tr>\n",
       "    <tr>\n",
       "      <th>7</th>\n",
       "      <td>0</td>\n",
       "      <td>3</td>\n",
       "      <td>male</td>\n",
       "      <td>2.000000</td>\n",
       "      <td>3</td>\n",
       "      <td>1</td>\n",
       "      <td>21.0750</td>\n",
       "      <td>S</td>\n",
       "      <td>Third</td>\n",
       "      <td>child</td>\n",
       "      <td>False</td>\n",
       "      <td>Southampton</td>\n",
       "      <td>no</td>\n",
       "      <td>False</td>\n",
       "      <td>730</td>\n",
       "    </tr>\n",
       "    <tr>\n",
       "      <th>8</th>\n",
       "      <td>1</td>\n",
       "      <td>3</td>\n",
       "      <td>female</td>\n",
       "      <td>27.000000</td>\n",
       "      <td>0</td>\n",
       "      <td>2</td>\n",
       "      <td>11.1333</td>\n",
       "      <td>S</td>\n",
       "      <td>Third</td>\n",
       "      <td>woman</td>\n",
       "      <td>False</td>\n",
       "      <td>Southampton</td>\n",
       "      <td>yes</td>\n",
       "      <td>False</td>\n",
       "      <td>9855</td>\n",
       "    </tr>\n",
       "    <tr>\n",
       "      <th>9</th>\n",
       "      <td>1</td>\n",
       "      <td>2</td>\n",
       "      <td>female</td>\n",
       "      <td>14.000000</td>\n",
       "      <td>1</td>\n",
       "      <td>0</td>\n",
       "      <td>30.0708</td>\n",
       "      <td>C</td>\n",
       "      <td>Second</td>\n",
       "      <td>child</td>\n",
       "      <td>False</td>\n",
       "      <td>Cherbourg</td>\n",
       "      <td>yes</td>\n",
       "      <td>False</td>\n",
       "      <td>5110</td>\n",
       "    </tr>\n",
       "  </tbody>\n",
       "</table>\n",
       "</div>"
      ],
      "text/plain": [
       "   survived  pclass     sex        age  sibsp  parch     fare embarked  \\\n",
       "0         0       3    male  22.000000      1      0   7.2500        S   \n",
       "1         1       1  female  38.000000      1      0  71.2833        C   \n",
       "2         1       3  female  26.000000      0      0   7.9250        S   \n",
       "3         1       1  female  35.000000      1      0  53.1000        S   \n",
       "4         0       3    male  35.000000      0      0   8.0500        S   \n",
       "5         0       3    male  29.699118      0      0   8.4583        Q   \n",
       "6         0       1    male  54.000000      0      0  51.8625        S   \n",
       "7         0       3    male   2.000000      3      1  21.0750        S   \n",
       "8         1       3  female  27.000000      0      2  11.1333        S   \n",
       "9         1       2  female  14.000000      1      0  30.0708        C   \n",
       "\n",
       "    class    who  adult_male  embark_town alive  alone  age_in_days  \n",
       "0   Third    man        True  Southampton    no  False         8030  \n",
       "1   First  woman       False    Cherbourg   yes  False        13870  \n",
       "2   Third  woman       False  Southampton   yes   True         9490  \n",
       "3   First  woman       False  Southampton   yes  False        12775  \n",
       "4   Third    man        True  Southampton    no   True        12775  \n",
       "5   Third    man        True   Queenstown    no   True        10840  \n",
       "6   First    man        True  Southampton    no   True        19710  \n",
       "7   Third  child       False  Southampton    no  False          730  \n",
       "8   Third  woman       False  Southampton   yes  False         9855  \n",
       "9  Second  child       False    Cherbourg   yes  False         5110  "
      ]
     },
     "execution_count": 17,
     "metadata": {},
     "output_type": "execute_result"
    }
   ],
   "source": [
    "# Here We will convert the age into days insted of years\n",
    "ks1['age_in_days'] = ks1['age'] * 365   # New column added\n",
    "ks1['age_in_days'] = ks1['age_in_days'].astype('int64')\n",
    "ks1.head(10)"
   ]
  },
  {
   "cell_type": "code",
   "execution_count": 18,
   "metadata": {},
   "outputs": [
    {
     "data": {
      "text/html": [
       "<div>\n",
       "<style scoped>\n",
       "    .dataframe tbody tr th:only-of-type {\n",
       "        vertical-align: middle;\n",
       "    }\n",
       "\n",
       "    .dataframe tbody tr th {\n",
       "        vertical-align: top;\n",
       "    }\n",
       "\n",
       "    .dataframe thead th {\n",
       "        text-align: right;\n",
       "    }\n",
       "</style>\n",
       "<table border=\"1\" class=\"dataframe\">\n",
       "  <thead>\n",
       "    <tr style=\"text-align: right;\">\n",
       "      <th></th>\n",
       "      <th>survived</th>\n",
       "      <th>pclass</th>\n",
       "      <th>sex</th>\n",
       "      <th>age in days</th>\n",
       "      <th>sibsp</th>\n",
       "      <th>parch</th>\n",
       "      <th>fare</th>\n",
       "      <th>embarked</th>\n",
       "      <th>class</th>\n",
       "      <th>who</th>\n",
       "      <th>adult_male</th>\n",
       "      <th>embark_town</th>\n",
       "      <th>alive</th>\n",
       "      <th>alone</th>\n",
       "      <th>age_in_days</th>\n",
       "    </tr>\n",
       "  </thead>\n",
       "  <tbody>\n",
       "    <tr>\n",
       "      <th>0</th>\n",
       "      <td>0</td>\n",
       "      <td>3</td>\n",
       "      <td>male</td>\n",
       "      <td>22.0</td>\n",
       "      <td>1</td>\n",
       "      <td>0</td>\n",
       "      <td>7.2500</td>\n",
       "      <td>S</td>\n",
       "      <td>Third</td>\n",
       "      <td>man</td>\n",
       "      <td>True</td>\n",
       "      <td>Southampton</td>\n",
       "      <td>no</td>\n",
       "      <td>False</td>\n",
       "      <td>8030</td>\n",
       "    </tr>\n",
       "    <tr>\n",
       "      <th>1</th>\n",
       "      <td>1</td>\n",
       "      <td>1</td>\n",
       "      <td>female</td>\n",
       "      <td>38.0</td>\n",
       "      <td>1</td>\n",
       "      <td>0</td>\n",
       "      <td>71.2833</td>\n",
       "      <td>C</td>\n",
       "      <td>First</td>\n",
       "      <td>woman</td>\n",
       "      <td>False</td>\n",
       "      <td>Cherbourg</td>\n",
       "      <td>yes</td>\n",
       "      <td>False</td>\n",
       "      <td>13870</td>\n",
       "    </tr>\n",
       "    <tr>\n",
       "      <th>2</th>\n",
       "      <td>1</td>\n",
       "      <td>3</td>\n",
       "      <td>female</td>\n",
       "      <td>26.0</td>\n",
       "      <td>0</td>\n",
       "      <td>0</td>\n",
       "      <td>7.9250</td>\n",
       "      <td>S</td>\n",
       "      <td>Third</td>\n",
       "      <td>woman</td>\n",
       "      <td>False</td>\n",
       "      <td>Southampton</td>\n",
       "      <td>yes</td>\n",
       "      <td>True</td>\n",
       "      <td>9490</td>\n",
       "    </tr>\n",
       "    <tr>\n",
       "      <th>3</th>\n",
       "      <td>1</td>\n",
       "      <td>1</td>\n",
       "      <td>female</td>\n",
       "      <td>35.0</td>\n",
       "      <td>1</td>\n",
       "      <td>0</td>\n",
       "      <td>53.1000</td>\n",
       "      <td>S</td>\n",
       "      <td>First</td>\n",
       "      <td>woman</td>\n",
       "      <td>False</td>\n",
       "      <td>Southampton</td>\n",
       "      <td>yes</td>\n",
       "      <td>False</td>\n",
       "      <td>12775</td>\n",
       "    </tr>\n",
       "    <tr>\n",
       "      <th>4</th>\n",
       "      <td>0</td>\n",
       "      <td>3</td>\n",
       "      <td>male</td>\n",
       "      <td>35.0</td>\n",
       "      <td>0</td>\n",
       "      <td>0</td>\n",
       "      <td>8.0500</td>\n",
       "      <td>S</td>\n",
       "      <td>Third</td>\n",
       "      <td>man</td>\n",
       "      <td>True</td>\n",
       "      <td>Southampton</td>\n",
       "      <td>no</td>\n",
       "      <td>True</td>\n",
       "      <td>12775</td>\n",
       "    </tr>\n",
       "  </tbody>\n",
       "</table>\n",
       "</div>"
      ],
      "text/plain": [
       "   survived  pclass     sex  age in days  sibsp  parch     fare embarked  \\\n",
       "0         0       3    male         22.0      1      0   7.2500        S   \n",
       "1         1       1  female         38.0      1      0  71.2833        C   \n",
       "2         1       3  female         26.0      0      0   7.9250        S   \n",
       "3         1       1  female         35.0      1      0  53.1000        S   \n",
       "4         0       3    male         35.0      0      0   8.0500        S   \n",
       "\n",
       "   class    who  adult_male  embark_town alive  alone  age_in_days  \n",
       "0  Third    man        True  Southampton    no  False         8030  \n",
       "1  First  woman       False    Cherbourg   yes  False        13870  \n",
       "2  Third  woman       False  Southampton   yes   True         9490  \n",
       "3  First  woman       False  Southampton   yes  False        12775  \n",
       "4  Third    man        True  Southampton    no   True        12775  "
      ]
     },
     "execution_count": 18,
     "metadata": {},
     "output_type": "execute_result"
    }
   ],
   "source": [
    "# Rename the existing Column\n",
    "ks1.rename(columns= {'age': 'age in days'}, inplace=True)\n",
    "ks1.head()"
   ]
  },
  {
   "cell_type": "markdown",
   "metadata": {},
   "source": [
    "### Data Normalization"
   ]
  },
  {
   "cell_type": "markdown",
   "metadata": {},
   "source": [
    "- Uniform the data\n",
    "- They have same impact\n",
    "- aik machli samundar main or aik jar main\n",
    "- Also for Computational reasons"
   ]
  },
  {
   "cell_type": "code",
   "execution_count": 19,
   "metadata": {},
   "outputs": [
    {
     "data": {
      "text/html": [
       "<div>\n",
       "<style scoped>\n",
       "    .dataframe tbody tr th:only-of-type {\n",
       "        vertical-align: middle;\n",
       "    }\n",
       "\n",
       "    .dataframe tbody tr th {\n",
       "        vertical-align: top;\n",
       "    }\n",
       "\n",
       "    .dataframe thead th {\n",
       "        text-align: right;\n",
       "    }\n",
       "</style>\n",
       "<table border=\"1\" class=\"dataframe\">\n",
       "  <thead>\n",
       "    <tr style=\"text-align: right;\">\n",
       "      <th></th>\n",
       "      <th>survived</th>\n",
       "      <th>pclass</th>\n",
       "      <th>sex</th>\n",
       "      <th>sibsp</th>\n",
       "      <th>parch</th>\n",
       "      <th>fare</th>\n",
       "      <th>embarked</th>\n",
       "      <th>class</th>\n",
       "      <th>who</th>\n",
       "      <th>adult_male</th>\n",
       "      <th>embark_town</th>\n",
       "      <th>alive</th>\n",
       "      <th>alone</th>\n",
       "      <th>age_in_days</th>\n",
       "    </tr>\n",
       "  </thead>\n",
       "  <tbody>\n",
       "    <tr>\n",
       "      <th>0</th>\n",
       "      <td>0</td>\n",
       "      <td>3</td>\n",
       "      <td>male</td>\n",
       "      <td>1</td>\n",
       "      <td>0</td>\n",
       "      <td>7.2500</td>\n",
       "      <td>S</td>\n",
       "      <td>Third</td>\n",
       "      <td>man</td>\n",
       "      <td>True</td>\n",
       "      <td>Southampton</td>\n",
       "      <td>no</td>\n",
       "      <td>False</td>\n",
       "      <td>8030</td>\n",
       "    </tr>\n",
       "    <tr>\n",
       "      <th>1</th>\n",
       "      <td>1</td>\n",
       "      <td>1</td>\n",
       "      <td>female</td>\n",
       "      <td>1</td>\n",
       "      <td>0</td>\n",
       "      <td>71.2833</td>\n",
       "      <td>C</td>\n",
       "      <td>First</td>\n",
       "      <td>woman</td>\n",
       "      <td>False</td>\n",
       "      <td>Cherbourg</td>\n",
       "      <td>yes</td>\n",
       "      <td>False</td>\n",
       "      <td>13870</td>\n",
       "    </tr>\n",
       "    <tr>\n",
       "      <th>2</th>\n",
       "      <td>1</td>\n",
       "      <td>3</td>\n",
       "      <td>female</td>\n",
       "      <td>0</td>\n",
       "      <td>0</td>\n",
       "      <td>7.9250</td>\n",
       "      <td>S</td>\n",
       "      <td>Third</td>\n",
       "      <td>woman</td>\n",
       "      <td>False</td>\n",
       "      <td>Southampton</td>\n",
       "      <td>yes</td>\n",
       "      <td>True</td>\n",
       "      <td>9490</td>\n",
       "    </tr>\n",
       "    <tr>\n",
       "      <th>3</th>\n",
       "      <td>1</td>\n",
       "      <td>1</td>\n",
       "      <td>female</td>\n",
       "      <td>1</td>\n",
       "      <td>0</td>\n",
       "      <td>53.1000</td>\n",
       "      <td>S</td>\n",
       "      <td>First</td>\n",
       "      <td>woman</td>\n",
       "      <td>False</td>\n",
       "      <td>Southampton</td>\n",
       "      <td>yes</td>\n",
       "      <td>False</td>\n",
       "      <td>12775</td>\n",
       "    </tr>\n",
       "    <tr>\n",
       "      <th>4</th>\n",
       "      <td>0</td>\n",
       "      <td>3</td>\n",
       "      <td>male</td>\n",
       "      <td>0</td>\n",
       "      <td>0</td>\n",
       "      <td>8.0500</td>\n",
       "      <td>S</td>\n",
       "      <td>Third</td>\n",
       "      <td>man</td>\n",
       "      <td>True</td>\n",
       "      <td>Southampton</td>\n",
       "      <td>no</td>\n",
       "      <td>True</td>\n",
       "      <td>12775</td>\n",
       "    </tr>\n",
       "  </tbody>\n",
       "</table>\n",
       "</div>"
      ],
      "text/plain": [
       "   survived  pclass     sex  sibsp  parch     fare embarked  class    who  \\\n",
       "0         0       3    male      1      0   7.2500        S  Third    man   \n",
       "1         1       1  female      1      0  71.2833        C  First  woman   \n",
       "2         1       3  female      0      0   7.9250        S  Third  woman   \n",
       "3         1       1  female      1      0  53.1000        S  First  woman   \n",
       "4         0       3    male      0      0   8.0500        S  Third    man   \n",
       "\n",
       "   adult_male  embark_town alive  alone  age_in_days  \n",
       "0        True  Southampton    no  False         8030  \n",
       "1       False    Cherbourg   yes  False        13870  \n",
       "2       False  Southampton   yes   True         9490  \n",
       "3       False  Southampton   yes  False        12775  \n",
       "4        True  Southampton    no   True        12775  "
      ]
     },
     "execution_count": 19,
     "metadata": {},
     "output_type": "execute_result"
    }
   ],
   "source": [
    "# Now Using original data again in form of ks2\n",
    "#ks2 = sns.load_dataset('titanic')\n",
    "ks1 = ks1.drop(['age in days'], axis=1)\n",
    "ks1.head()"
   ]
  },
  {
   "cell_type": "code",
   "execution_count": 20,
   "metadata": {},
   "outputs": [
    {
     "data": {
      "text/html": [
       "<div>\n",
       "<style scoped>\n",
       "    .dataframe tbody tr th:only-of-type {\n",
       "        vertical-align: middle;\n",
       "    }\n",
       "\n",
       "    .dataframe tbody tr th {\n",
       "        vertical-align: top;\n",
       "    }\n",
       "\n",
       "    .dataframe thead th {\n",
       "        text-align: right;\n",
       "    }\n",
       "</style>\n",
       "<table border=\"1\" class=\"dataframe\">\n",
       "  <thead>\n",
       "    <tr style=\"text-align: right;\">\n",
       "      <th></th>\n",
       "      <th>age_in_days</th>\n",
       "      <th>fare</th>\n",
       "    </tr>\n",
       "  </thead>\n",
       "  <tbody>\n",
       "    <tr>\n",
       "      <th>0</th>\n",
       "      <td>8030</td>\n",
       "      <td>7.2500</td>\n",
       "    </tr>\n",
       "    <tr>\n",
       "      <th>1</th>\n",
       "      <td>13870</td>\n",
       "      <td>71.2833</td>\n",
       "    </tr>\n",
       "    <tr>\n",
       "      <th>2</th>\n",
       "      <td>9490</td>\n",
       "      <td>7.9250</td>\n",
       "    </tr>\n",
       "    <tr>\n",
       "      <th>3</th>\n",
       "      <td>12775</td>\n",
       "      <td>53.1000</td>\n",
       "    </tr>\n",
       "    <tr>\n",
       "      <th>4</th>\n",
       "      <td>12775</td>\n",
       "      <td>8.0500</td>\n",
       "    </tr>\n",
       "  </tbody>\n",
       "</table>\n",
       "</div>"
      ],
      "text/plain": [
       "   age_in_days     fare\n",
       "0         8030   7.2500\n",
       "1        13870  71.2833\n",
       "2         9490   7.9250\n",
       "3        12775  53.1000\n",
       "4        12775   8.0500"
      ]
     },
     "execution_count": 20,
     "metadata": {},
     "output_type": "execute_result"
    }
   ],
   "source": [
    "ks4 = ks1[['age_in_days', 'fare']]\n",
    "ks4.head()"
   ]
  },
  {
   "cell_type": "markdown",
   "metadata": {},
   "source": [
    "- The above data is really in wide range, it's hard to compare. So, we need to normalize\n",
    "- Normalization changes the values to the range of 0-to-1 (now both variable has similar influence on our models)"
   ]
  },
  {
   "cell_type": "markdown",
   "metadata": {},
   "source": [
    "### Method for Normalization"
   ]
  },
  {
   "cell_type": "markdown",
   "metadata": {},
   "source": [
    "1.  Simple Feature Scaling\n",
    "    1.  x(new) = x(old) / x(max)\n",
    "2.  Min-Max method\n",
    "3.  Z-Score (standard score) -3 -to- +3\n",
    "4.  Log Transformation"
   ]
  },
  {
   "cell_type": "code",
   "execution_count": 23,
   "metadata": {},
   "outputs": [
    {
     "name": "stderr",
     "output_type": "stream",
     "text": [
      "C:\\Users\\Waleed\\AppData\\Local\\Temp/ipykernel_11444/1927171063.py:2: SettingWithCopyWarning: \n",
      "A value is trying to be set on a copy of a slice from a DataFrame.\n",
      "Try using .loc[row_indexer,col_indexer] = value instead\n",
      "\n",
      "See the caveats in the documentation: https://pandas.pydata.org/pandas-docs/stable/user_guide/indexing.html#returning-a-view-versus-a-copy\n",
      "  ks4['fare'] = ks4['fare'] / ks4['fare'].max()\n",
      "C:\\Users\\Waleed\\AppData\\Local\\Temp/ipykernel_11444/1927171063.py:3: SettingWithCopyWarning: \n",
      "A value is trying to be set on a copy of a slice from a DataFrame.\n",
      "Try using .loc[row_indexer,col_indexer] = value instead\n",
      "\n",
      "See the caveats in the documentation: https://pandas.pydata.org/pandas-docs/stable/user_guide/indexing.html#returning-a-view-versus-a-copy\n",
      "  ks4['age_in_days'] = ks4['age_in_days'] / ks4['age_in_days'].max()\n"
     ]
    },
    {
     "data": {
      "text/html": [
       "<div>\n",
       "<style scoped>\n",
       "    .dataframe tbody tr th:only-of-type {\n",
       "        vertical-align: middle;\n",
       "    }\n",
       "\n",
       "    .dataframe tbody tr th {\n",
       "        vertical-align: top;\n",
       "    }\n",
       "\n",
       "    .dataframe thead th {\n",
       "        text-align: right;\n",
       "    }\n",
       "</style>\n",
       "<table border=\"1\" class=\"dataframe\">\n",
       "  <thead>\n",
       "    <tr style=\"text-align: right;\">\n",
       "      <th></th>\n",
       "      <th>age_in_days</th>\n",
       "      <th>fare</th>\n",
       "    </tr>\n",
       "  </thead>\n",
       "  <tbody>\n",
       "    <tr>\n",
       "      <th>0</th>\n",
       "      <td>0.2750</td>\n",
       "      <td>0.014151</td>\n",
       "    </tr>\n",
       "    <tr>\n",
       "      <th>1</th>\n",
       "      <td>0.4750</td>\n",
       "      <td>0.139136</td>\n",
       "    </tr>\n",
       "    <tr>\n",
       "      <th>2</th>\n",
       "      <td>0.3250</td>\n",
       "      <td>0.015469</td>\n",
       "    </tr>\n",
       "    <tr>\n",
       "      <th>3</th>\n",
       "      <td>0.4375</td>\n",
       "      <td>0.103644</td>\n",
       "    </tr>\n",
       "    <tr>\n",
       "      <th>4</th>\n",
       "      <td>0.4375</td>\n",
       "      <td>0.015713</td>\n",
       "    </tr>\n",
       "  </tbody>\n",
       "</table>\n",
       "</div>"
      ],
      "text/plain": [
       "   age_in_days      fare\n",
       "0       0.2750  0.014151\n",
       "1       0.4750  0.139136\n",
       "2       0.3250  0.015469\n",
       "3       0.4375  0.103644\n",
       "4       0.4375  0.015713"
      ]
     },
     "execution_count": 23,
     "metadata": {},
     "output_type": "execute_result"
    }
   ],
   "source": [
    "# simple feature scaling\n",
    "ks4['fare'] = ks4['fare'] / ks4['fare'].max()\n",
    "ks4['age_in_days'] = ks4['age_in_days'] / ks4['age_in_days'].max()\n",
    "ks4.head()"
   ]
  },
  {
   "cell_type": "code",
   "execution_count": 24,
   "metadata": {},
   "outputs": [
    {
     "data": {
      "text/html": [
       "<div>\n",
       "<style scoped>\n",
       "    .dataframe tbody tr th:only-of-type {\n",
       "        vertical-align: middle;\n",
       "    }\n",
       "\n",
       "    .dataframe tbody tr th {\n",
       "        vertical-align: top;\n",
       "    }\n",
       "\n",
       "    .dataframe thead th {\n",
       "        text-align: right;\n",
       "    }\n",
       "</style>\n",
       "<table border=\"1\" class=\"dataframe\">\n",
       "  <thead>\n",
       "    <tr style=\"text-align: right;\">\n",
       "      <th></th>\n",
       "      <th>age_in_days</th>\n",
       "      <th>fare</th>\n",
       "    </tr>\n",
       "  </thead>\n",
       "  <tbody>\n",
       "    <tr>\n",
       "      <th>0</th>\n",
       "      <td>8030</td>\n",
       "      <td>7.2500</td>\n",
       "    </tr>\n",
       "    <tr>\n",
       "      <th>1</th>\n",
       "      <td>13870</td>\n",
       "      <td>71.2833</td>\n",
       "    </tr>\n",
       "    <tr>\n",
       "      <th>2</th>\n",
       "      <td>9490</td>\n",
       "      <td>7.9250</td>\n",
       "    </tr>\n",
       "    <tr>\n",
       "      <th>3</th>\n",
       "      <td>12775</td>\n",
       "      <td>53.1000</td>\n",
       "    </tr>\n",
       "    <tr>\n",
       "      <th>4</th>\n",
       "      <td>12775</td>\n",
       "      <td>8.0500</td>\n",
       "    </tr>\n",
       "  </tbody>\n",
       "</table>\n",
       "</div>"
      ],
      "text/plain": [
       "   age_in_days     fare\n",
       "0         8030   7.2500\n",
       "1        13870  71.2833\n",
       "2         9490   7.9250\n",
       "3        12775  53.1000\n",
       "4        12775   8.0500"
      ]
     },
     "execution_count": 24,
     "metadata": {},
     "output_type": "execute_result"
    }
   ],
   "source": [
    "ks5 = ks1[['age_in_days', 'fare']]\n",
    "ks5.head()"
   ]
  },
  {
   "cell_type": "code",
   "execution_count": 25,
   "metadata": {},
   "outputs": [
    {
     "name": "stderr",
     "output_type": "stream",
     "text": [
      "C:\\Users\\Waleed\\AppData\\Local\\Temp/ipykernel_11444/1487300651.py:2: SettingWithCopyWarning: \n",
      "A value is trying to be set on a copy of a slice from a DataFrame.\n",
      "Try using .loc[row_indexer,col_indexer] = value instead\n",
      "\n",
      "See the caveats in the documentation: https://pandas.pydata.org/pandas-docs/stable/user_guide/indexing.html#returning-a-view-versus-a-copy\n",
      "  ks5['fare'] = (ks5['fare'] - ks5['fare'].min()) / (ks5['fare'].max() - ks5['fare'].min())\n"
     ]
    },
    {
     "data": {
      "text/html": [
       "<div>\n",
       "<style scoped>\n",
       "    .dataframe tbody tr th:only-of-type {\n",
       "        vertical-align: middle;\n",
       "    }\n",
       "\n",
       "    .dataframe tbody tr th {\n",
       "        vertical-align: top;\n",
       "    }\n",
       "\n",
       "    .dataframe thead th {\n",
       "        text-align: right;\n",
       "    }\n",
       "</style>\n",
       "<table border=\"1\" class=\"dataframe\">\n",
       "  <thead>\n",
       "    <tr style=\"text-align: right;\">\n",
       "      <th></th>\n",
       "      <th>age_in_days</th>\n",
       "      <th>fare</th>\n",
       "    </tr>\n",
       "  </thead>\n",
       "  <tbody>\n",
       "    <tr>\n",
       "      <th>0</th>\n",
       "      <td>8030</td>\n",
       "      <td>0.014151</td>\n",
       "    </tr>\n",
       "    <tr>\n",
       "      <th>1</th>\n",
       "      <td>13870</td>\n",
       "      <td>0.139136</td>\n",
       "    </tr>\n",
       "    <tr>\n",
       "      <th>2</th>\n",
       "      <td>9490</td>\n",
       "      <td>0.015469</td>\n",
       "    </tr>\n",
       "    <tr>\n",
       "      <th>3</th>\n",
       "      <td>12775</td>\n",
       "      <td>0.103644</td>\n",
       "    </tr>\n",
       "    <tr>\n",
       "      <th>4</th>\n",
       "      <td>12775</td>\n",
       "      <td>0.015713</td>\n",
       "    </tr>\n",
       "  </tbody>\n",
       "</table>\n",
       "</div>"
      ],
      "text/plain": [
       "   age_in_days      fare\n",
       "0         8030  0.014151\n",
       "1        13870  0.139136\n",
       "2         9490  0.015469\n",
       "3        12775  0.103644\n",
       "4        12775  0.015713"
      ]
     },
     "execution_count": 25,
     "metadata": {},
     "output_type": "execute_result"
    }
   ],
   "source": [
    "# min - max method\n",
    "ks5['fare'] = (ks5['fare'] - ks5['fare'].min()) / (ks5['fare'].max() - ks5['fare'].min())\n",
    "ks5.head()"
   ]
  },
  {
   "cell_type": "code",
   "execution_count": 26,
   "metadata": {},
   "outputs": [
    {
     "data": {
      "text/html": [
       "<div>\n",
       "<style scoped>\n",
       "    .dataframe tbody tr th:only-of-type {\n",
       "        vertical-align: middle;\n",
       "    }\n",
       "\n",
       "    .dataframe tbody tr th {\n",
       "        vertical-align: top;\n",
       "    }\n",
       "\n",
       "    .dataframe thead th {\n",
       "        text-align: right;\n",
       "    }\n",
       "</style>\n",
       "<table border=\"1\" class=\"dataframe\">\n",
       "  <thead>\n",
       "    <tr style=\"text-align: right;\">\n",
       "      <th></th>\n",
       "      <th>age_in_days</th>\n",
       "      <th>fare</th>\n",
       "    </tr>\n",
       "  </thead>\n",
       "  <tbody>\n",
       "    <tr>\n",
       "      <th>0</th>\n",
       "      <td>8030</td>\n",
       "      <td>7.2500</td>\n",
       "    </tr>\n",
       "    <tr>\n",
       "      <th>1</th>\n",
       "      <td>13870</td>\n",
       "      <td>71.2833</td>\n",
       "    </tr>\n",
       "    <tr>\n",
       "      <th>2</th>\n",
       "      <td>9490</td>\n",
       "      <td>7.9250</td>\n",
       "    </tr>\n",
       "    <tr>\n",
       "      <th>3</th>\n",
       "      <td>12775</td>\n",
       "      <td>53.1000</td>\n",
       "    </tr>\n",
       "    <tr>\n",
       "      <th>4</th>\n",
       "      <td>12775</td>\n",
       "      <td>8.0500</td>\n",
       "    </tr>\n",
       "  </tbody>\n",
       "</table>\n",
       "</div>"
      ],
      "text/plain": [
       "   age_in_days     fare\n",
       "0         8030   7.2500\n",
       "1        13870  71.2833\n",
       "2         9490   7.9250\n",
       "3        12775  53.1000\n",
       "4        12775   8.0500"
      ]
     },
     "execution_count": 26,
     "metadata": {},
     "output_type": "execute_result"
    }
   ],
   "source": [
    "ks6 = ks1[['age_in_days', 'fare']]\n",
    "ks6.head()"
   ]
  },
  {
   "cell_type": "code",
   "execution_count": 27,
   "metadata": {},
   "outputs": [
    {
     "name": "stderr",
     "output_type": "stream",
     "text": [
      "C:\\Users\\Waleed\\AppData\\Local\\Temp/ipykernel_11444/2270294703.py:2: SettingWithCopyWarning: \n",
      "A value is trying to be set on a copy of a slice from a DataFrame.\n",
      "Try using .loc[row_indexer,col_indexer] = value instead\n",
      "\n",
      "See the caveats in the documentation: https://pandas.pydata.org/pandas-docs/stable/user_guide/indexing.html#returning-a-view-versus-a-copy\n",
      "  ks6['fare'] = (ks6['fare'] - ks6['fare'].mean()) / ks6['fare'].std()\n"
     ]
    },
    {
     "data": {
      "text/html": [
       "<div>\n",
       "<style scoped>\n",
       "    .dataframe tbody tr th:only-of-type {\n",
       "        vertical-align: middle;\n",
       "    }\n",
       "\n",
       "    .dataframe tbody tr th {\n",
       "        vertical-align: top;\n",
       "    }\n",
       "\n",
       "    .dataframe thead th {\n",
       "        text-align: right;\n",
       "    }\n",
       "</style>\n",
       "<table border=\"1\" class=\"dataframe\">\n",
       "  <thead>\n",
       "    <tr style=\"text-align: right;\">\n",
       "      <th></th>\n",
       "      <th>age_in_days</th>\n",
       "      <th>fare</th>\n",
       "    </tr>\n",
       "  </thead>\n",
       "  <tbody>\n",
       "    <tr>\n",
       "      <th>0</th>\n",
       "      <td>8030</td>\n",
       "      <td>-0.502163</td>\n",
       "    </tr>\n",
       "    <tr>\n",
       "      <th>1</th>\n",
       "      <td>13870</td>\n",
       "      <td>0.786404</td>\n",
       "    </tr>\n",
       "    <tr>\n",
       "      <th>2</th>\n",
       "      <td>9490</td>\n",
       "      <td>-0.488580</td>\n",
       "    </tr>\n",
       "    <tr>\n",
       "      <th>3</th>\n",
       "      <td>12775</td>\n",
       "      <td>0.420494</td>\n",
       "    </tr>\n",
       "    <tr>\n",
       "      <th>4</th>\n",
       "      <td>12775</td>\n",
       "      <td>-0.486064</td>\n",
       "    </tr>\n",
       "  </tbody>\n",
       "</table>\n",
       "</div>"
      ],
      "text/plain": [
       "   age_in_days      fare\n",
       "0         8030 -0.502163\n",
       "1        13870  0.786404\n",
       "2         9490 -0.488580\n",
       "3        12775  0.420494\n",
       "4        12775 -0.486064"
      ]
     },
     "execution_count": 27,
     "metadata": {},
     "output_type": "execute_result"
    }
   ],
   "source": [
    "# z-score method (standard score)\n",
    "ks6['fare'] = (ks6['fare'] - ks6['fare'].mean()) / ks6['fare'].std()\n",
    "ks6.head()"
   ]
  },
  {
   "cell_type": "code",
   "execution_count": 28,
   "metadata": {},
   "outputs": [
    {
     "data": {
      "text/html": [
       "<div>\n",
       "<style scoped>\n",
       "    .dataframe tbody tr th:only-of-type {\n",
       "        vertical-align: middle;\n",
       "    }\n",
       "\n",
       "    .dataframe tbody tr th {\n",
       "        vertical-align: top;\n",
       "    }\n",
       "\n",
       "    .dataframe thead th {\n",
       "        text-align: right;\n",
       "    }\n",
       "</style>\n",
       "<table border=\"1\" class=\"dataframe\">\n",
       "  <thead>\n",
       "    <tr style=\"text-align: right;\">\n",
       "      <th></th>\n",
       "      <th>age_in_days</th>\n",
       "      <th>fare</th>\n",
       "    </tr>\n",
       "  </thead>\n",
       "  <tbody>\n",
       "    <tr>\n",
       "      <th>0</th>\n",
       "      <td>8030</td>\n",
       "      <td>7.2500</td>\n",
       "    </tr>\n",
       "    <tr>\n",
       "      <th>1</th>\n",
       "      <td>13870</td>\n",
       "      <td>71.2833</td>\n",
       "    </tr>\n",
       "    <tr>\n",
       "      <th>2</th>\n",
       "      <td>9490</td>\n",
       "      <td>7.9250</td>\n",
       "    </tr>\n",
       "    <tr>\n",
       "      <th>3</th>\n",
       "      <td>12775</td>\n",
       "      <td>53.1000</td>\n",
       "    </tr>\n",
       "    <tr>\n",
       "      <th>4</th>\n",
       "      <td>12775</td>\n",
       "      <td>8.0500</td>\n",
       "    </tr>\n",
       "  </tbody>\n",
       "</table>\n",
       "</div>"
      ],
      "text/plain": [
       "   age_in_days     fare\n",
       "0         8030   7.2500\n",
       "1        13870  71.2833\n",
       "2         9490   7.9250\n",
       "3        12775  53.1000\n",
       "4        12775   8.0500"
      ]
     },
     "execution_count": 28,
     "metadata": {},
     "output_type": "execute_result"
    }
   ],
   "source": [
    "ks7 = ks1[['age_in_days', 'fare']]\n",
    "ks7.head()"
   ]
  },
  {
   "cell_type": "code",
   "execution_count": 29,
   "metadata": {},
   "outputs": [
    {
     "name": "stderr",
     "output_type": "stream",
     "text": [
      "c:\\Users\\Waleed\\anaconda3\\lib\\site-packages\\pandas\\core\\arraylike.py:364: RuntimeWarning: divide by zero encountered in log\n",
      "  result = getattr(ufunc, method)(*inputs, **kwargs)\n",
      "C:\\Users\\Waleed\\AppData\\Local\\Temp/ipykernel_11444/3833499268.py:2: SettingWithCopyWarning: \n",
      "A value is trying to be set on a copy of a slice from a DataFrame.\n",
      "Try using .loc[row_indexer,col_indexer] = value instead\n",
      "\n",
      "See the caveats in the documentation: https://pandas.pydata.org/pandas-docs/stable/user_guide/indexing.html#returning-a-view-versus-a-copy\n",
      "  ks7['fare'] = np.log(ks7['fare'])\n"
     ]
    },
    {
     "data": {
      "text/html": [
       "<div>\n",
       "<style scoped>\n",
       "    .dataframe tbody tr th:only-of-type {\n",
       "        vertical-align: middle;\n",
       "    }\n",
       "\n",
       "    .dataframe tbody tr th {\n",
       "        vertical-align: top;\n",
       "    }\n",
       "\n",
       "    .dataframe thead th {\n",
       "        text-align: right;\n",
       "    }\n",
       "</style>\n",
       "<table border=\"1\" class=\"dataframe\">\n",
       "  <thead>\n",
       "    <tr style=\"text-align: right;\">\n",
       "      <th></th>\n",
       "      <th>age_in_days</th>\n",
       "      <th>fare</th>\n",
       "    </tr>\n",
       "  </thead>\n",
       "  <tbody>\n",
       "    <tr>\n",
       "      <th>0</th>\n",
       "      <td>8030</td>\n",
       "      <td>1.981001</td>\n",
       "    </tr>\n",
       "    <tr>\n",
       "      <th>1</th>\n",
       "      <td>13870</td>\n",
       "      <td>4.266662</td>\n",
       "    </tr>\n",
       "    <tr>\n",
       "      <th>2</th>\n",
       "      <td>9490</td>\n",
       "      <td>2.070022</td>\n",
       "    </tr>\n",
       "    <tr>\n",
       "      <th>3</th>\n",
       "      <td>12775</td>\n",
       "      <td>3.972177</td>\n",
       "    </tr>\n",
       "    <tr>\n",
       "      <th>4</th>\n",
       "      <td>12775</td>\n",
       "      <td>2.085672</td>\n",
       "    </tr>\n",
       "  </tbody>\n",
       "</table>\n",
       "</div>"
      ],
      "text/plain": [
       "   age_in_days      fare\n",
       "0         8030  1.981001\n",
       "1        13870  4.266662\n",
       "2         9490  2.070022\n",
       "3        12775  3.972177\n",
       "4        12775  2.085672"
      ]
     },
     "execution_count": 29,
     "metadata": {},
     "output_type": "execute_result"
    }
   ],
   "source": [
    "# log transformation method\n",
    "ks7['fare'] = np.log(ks7['fare'])\n",
    "ks7.head()"
   ]
  },
  {
   "cell_type": "markdown",
   "metadata": {},
   "source": [
    "### Binning"
   ]
  },
  {
   "cell_type": "markdown",
   "metadata": {},
   "source": [
    "- Grouping of values into smaller number of values (bins)\n",
    "- Convert numeric into categories (jawan, bachay, booray) etc\n",
    "- To have better understanding of groups\n",
    "  - low vs mid vs high price"
   ]
  },
  {
   "cell_type": "markdown",
   "metadata": {},
   "source": [
    "- bins = number of times the data is being sliced\n",
    "- labels = the range you are categorizing using labels."
   ]
  },
  {
   "cell_type": "code",
   "execution_count": 48,
   "metadata": {},
   "outputs": [
    {
     "data": {
      "text/plain": [
       "0    Bachay\n",
       "1     Jawan\n",
       "2    Bachay\n",
       "3     Jawan\n",
       "4     Jawan\n",
       "Name: age, dtype: category\n",
       "Categories (3, object): ['Bachay' < 'Jawan' < 'Boorhay']"
      ]
     },
     "execution_count": 48,
     "metadata": {},
     "output_type": "execute_result"
    }
   ],
   "source": [
    "df = sns.load_dataset('titanic')\n",
    "#df.head()\n",
    "#print((df['age']).describe())\n",
    "bins = np.linspace(min(df['age']), max(df['age']), 4)\n",
    "age_groups = ['Bachay', 'Jawan', 'Boorhay']\n",
    "df['age'] = pd.cut(df['age'], bins, labels=age_groups, include_lowest=True)\n",
    "(df['age']).head()\n",
    "\n",
    "# How this will change the names in dataset based on grouping?"
   ]
  },
  {
   "cell_type": "code",
   "execution_count": 49,
   "metadata": {},
   "outputs": [
    {
     "data": {
      "text/html": [
       "<div>\n",
       "<style scoped>\n",
       "    .dataframe tbody tr th:only-of-type {\n",
       "        vertical-align: middle;\n",
       "    }\n",
       "\n",
       "    .dataframe tbody tr th {\n",
       "        vertical-align: top;\n",
       "    }\n",
       "\n",
       "    .dataframe thead th {\n",
       "        text-align: right;\n",
       "    }\n",
       "</style>\n",
       "<table border=\"1\" class=\"dataframe\">\n",
       "  <thead>\n",
       "    <tr style=\"text-align: right;\">\n",
       "      <th></th>\n",
       "      <th>survived</th>\n",
       "      <th>pclass</th>\n",
       "      <th>sex</th>\n",
       "      <th>age</th>\n",
       "      <th>sibsp</th>\n",
       "      <th>parch</th>\n",
       "      <th>fare</th>\n",
       "      <th>embarked</th>\n",
       "      <th>class</th>\n",
       "      <th>who</th>\n",
       "      <th>adult_male</th>\n",
       "      <th>deck</th>\n",
       "      <th>embark_town</th>\n",
       "      <th>alive</th>\n",
       "      <th>alone</th>\n",
       "    </tr>\n",
       "  </thead>\n",
       "  <tbody>\n",
       "    <tr>\n",
       "      <th>0</th>\n",
       "      <td>0</td>\n",
       "      <td>3</td>\n",
       "      <td>male</td>\n",
       "      <td>Bachay</td>\n",
       "      <td>1</td>\n",
       "      <td>0</td>\n",
       "      <td>7.2500</td>\n",
       "      <td>S</td>\n",
       "      <td>Third</td>\n",
       "      <td>man</td>\n",
       "      <td>True</td>\n",
       "      <td>NaN</td>\n",
       "      <td>Southampton</td>\n",
       "      <td>no</td>\n",
       "      <td>False</td>\n",
       "    </tr>\n",
       "    <tr>\n",
       "      <th>1</th>\n",
       "      <td>1</td>\n",
       "      <td>1</td>\n",
       "      <td>female</td>\n",
       "      <td>Jawan</td>\n",
       "      <td>1</td>\n",
       "      <td>0</td>\n",
       "      <td>71.2833</td>\n",
       "      <td>C</td>\n",
       "      <td>First</td>\n",
       "      <td>woman</td>\n",
       "      <td>False</td>\n",
       "      <td>C</td>\n",
       "      <td>Cherbourg</td>\n",
       "      <td>yes</td>\n",
       "      <td>False</td>\n",
       "    </tr>\n",
       "    <tr>\n",
       "      <th>2</th>\n",
       "      <td>1</td>\n",
       "      <td>3</td>\n",
       "      <td>female</td>\n",
       "      <td>Bachay</td>\n",
       "      <td>0</td>\n",
       "      <td>0</td>\n",
       "      <td>7.9250</td>\n",
       "      <td>S</td>\n",
       "      <td>Third</td>\n",
       "      <td>woman</td>\n",
       "      <td>False</td>\n",
       "      <td>NaN</td>\n",
       "      <td>Southampton</td>\n",
       "      <td>yes</td>\n",
       "      <td>True</td>\n",
       "    </tr>\n",
       "    <tr>\n",
       "      <th>3</th>\n",
       "      <td>1</td>\n",
       "      <td>1</td>\n",
       "      <td>female</td>\n",
       "      <td>Jawan</td>\n",
       "      <td>1</td>\n",
       "      <td>0</td>\n",
       "      <td>53.1000</td>\n",
       "      <td>S</td>\n",
       "      <td>First</td>\n",
       "      <td>woman</td>\n",
       "      <td>False</td>\n",
       "      <td>C</td>\n",
       "      <td>Southampton</td>\n",
       "      <td>yes</td>\n",
       "      <td>False</td>\n",
       "    </tr>\n",
       "    <tr>\n",
       "      <th>4</th>\n",
       "      <td>0</td>\n",
       "      <td>3</td>\n",
       "      <td>male</td>\n",
       "      <td>Jawan</td>\n",
       "      <td>0</td>\n",
       "      <td>0</td>\n",
       "      <td>8.0500</td>\n",
       "      <td>S</td>\n",
       "      <td>Third</td>\n",
       "      <td>man</td>\n",
       "      <td>True</td>\n",
       "      <td>NaN</td>\n",
       "      <td>Southampton</td>\n",
       "      <td>no</td>\n",
       "      <td>True</td>\n",
       "    </tr>\n",
       "  </tbody>\n",
       "</table>\n",
       "</div>"
      ],
      "text/plain": [
       "   survived  pclass     sex     age  sibsp  parch     fare embarked  class  \\\n",
       "0         0       3    male  Bachay      1      0   7.2500        S  Third   \n",
       "1         1       1  female   Jawan      1      0  71.2833        C  First   \n",
       "2         1       3  female  Bachay      0      0   7.9250        S  Third   \n",
       "3         1       1  female   Jawan      1      0  53.1000        S  First   \n",
       "4         0       3    male   Jawan      0      0   8.0500        S  Third   \n",
       "\n",
       "     who  adult_male deck  embark_town alive  alone  \n",
       "0    man        True  NaN  Southampton    no  False  \n",
       "1  woman       False    C    Cherbourg   yes  False  \n",
       "2  woman       False  NaN  Southampton   yes   True  \n",
       "3  woman       False    C  Southampton   yes  False  \n",
       "4    man        True  NaN  Southampton    no   True  "
      ]
     },
     "execution_count": 49,
     "metadata": {},
     "output_type": "execute_result"
    }
   ],
   "source": [
    "df.head()"
   ]
  },
  {
   "cell_type": "markdown",
   "metadata": {},
   "source": [
    "> **Converting Categories into dummies**\n",
    "- Easy to use for computation\n",
    "- Male Female (0, 1)"
   ]
  },
  {
   "cell_type": "code",
   "execution_count": 30,
   "metadata": {},
   "outputs": [
    {
     "data": {
      "text/html": [
       "<div>\n",
       "<style scoped>\n",
       "    .dataframe tbody tr th:only-of-type {\n",
       "        vertical-align: middle;\n",
       "    }\n",
       "\n",
       "    .dataframe tbody tr th {\n",
       "        vertical-align: top;\n",
       "    }\n",
       "\n",
       "    .dataframe thead th {\n",
       "        text-align: right;\n",
       "    }\n",
       "</style>\n",
       "<table border=\"1\" class=\"dataframe\">\n",
       "  <thead>\n",
       "    <tr style=\"text-align: right;\">\n",
       "      <th></th>\n",
       "      <th>survived</th>\n",
       "      <th>pclass</th>\n",
       "      <th>sex</th>\n",
       "      <th>sibsp</th>\n",
       "      <th>parch</th>\n",
       "      <th>fare</th>\n",
       "      <th>embarked</th>\n",
       "      <th>class</th>\n",
       "      <th>who</th>\n",
       "      <th>adult_male</th>\n",
       "      <th>embark_town</th>\n",
       "      <th>alive</th>\n",
       "      <th>alone</th>\n",
       "      <th>age_in_days</th>\n",
       "    </tr>\n",
       "  </thead>\n",
       "  <tbody>\n",
       "    <tr>\n",
       "      <th>0</th>\n",
       "      <td>0</td>\n",
       "      <td>3</td>\n",
       "      <td>male</td>\n",
       "      <td>1</td>\n",
       "      <td>0</td>\n",
       "      <td>7.2500</td>\n",
       "      <td>S</td>\n",
       "      <td>Third</td>\n",
       "      <td>man</td>\n",
       "      <td>True</td>\n",
       "      <td>Southampton</td>\n",
       "      <td>no</td>\n",
       "      <td>False</td>\n",
       "      <td>8030</td>\n",
       "    </tr>\n",
       "    <tr>\n",
       "      <th>1</th>\n",
       "      <td>1</td>\n",
       "      <td>1</td>\n",
       "      <td>female</td>\n",
       "      <td>1</td>\n",
       "      <td>0</td>\n",
       "      <td>71.2833</td>\n",
       "      <td>C</td>\n",
       "      <td>First</td>\n",
       "      <td>woman</td>\n",
       "      <td>False</td>\n",
       "      <td>Cherbourg</td>\n",
       "      <td>yes</td>\n",
       "      <td>False</td>\n",
       "      <td>13870</td>\n",
       "    </tr>\n",
       "    <tr>\n",
       "      <th>2</th>\n",
       "      <td>1</td>\n",
       "      <td>3</td>\n",
       "      <td>female</td>\n",
       "      <td>0</td>\n",
       "      <td>0</td>\n",
       "      <td>7.9250</td>\n",
       "      <td>S</td>\n",
       "      <td>Third</td>\n",
       "      <td>woman</td>\n",
       "      <td>False</td>\n",
       "      <td>Southampton</td>\n",
       "      <td>yes</td>\n",
       "      <td>True</td>\n",
       "      <td>9490</td>\n",
       "    </tr>\n",
       "    <tr>\n",
       "      <th>3</th>\n",
       "      <td>1</td>\n",
       "      <td>1</td>\n",
       "      <td>female</td>\n",
       "      <td>1</td>\n",
       "      <td>0</td>\n",
       "      <td>53.1000</td>\n",
       "      <td>S</td>\n",
       "      <td>First</td>\n",
       "      <td>woman</td>\n",
       "      <td>False</td>\n",
       "      <td>Southampton</td>\n",
       "      <td>yes</td>\n",
       "      <td>False</td>\n",
       "      <td>12775</td>\n",
       "    </tr>\n",
       "    <tr>\n",
       "      <th>4</th>\n",
       "      <td>0</td>\n",
       "      <td>3</td>\n",
       "      <td>male</td>\n",
       "      <td>0</td>\n",
       "      <td>0</td>\n",
       "      <td>8.0500</td>\n",
       "      <td>S</td>\n",
       "      <td>Third</td>\n",
       "      <td>man</td>\n",
       "      <td>True</td>\n",
       "      <td>Southampton</td>\n",
       "      <td>no</td>\n",
       "      <td>True</td>\n",
       "      <td>12775</td>\n",
       "    </tr>\n",
       "  </tbody>\n",
       "</table>\n",
       "</div>"
      ],
      "text/plain": [
       "   survived  pclass     sex  sibsp  parch     fare embarked  class    who  \\\n",
       "0         0       3    male      1      0   7.2500        S  Third    man   \n",
       "1         1       1  female      1      0  71.2833        C  First  woman   \n",
       "2         1       3  female      0      0   7.9250        S  Third  woman   \n",
       "3         1       1  female      1      0  53.1000        S  First  woman   \n",
       "4         0       3    male      0      0   8.0500        S  Third    man   \n",
       "\n",
       "   adult_male  embark_town alive  alone  age_in_days  \n",
       "0        True  Southampton    no  False         8030  \n",
       "1       False    Cherbourg   yes  False        13870  \n",
       "2       False  Southampton   yes   True         9490  \n",
       "3       False  Southampton   yes  False        12775  \n",
       "4        True  Southampton    no   True        12775  "
      ]
     },
     "execution_count": 30,
     "metadata": {},
     "output_type": "execute_result"
    }
   ],
   "source": [
    "ks1.head()"
   ]
  },
  {
   "cell_type": "code",
   "execution_count": 35,
   "metadata": {},
   "outputs": [
    {
     "data": {
      "text/html": [
       "<div>\n",
       "<style scoped>\n",
       "    .dataframe tbody tr th:only-of-type {\n",
       "        vertical-align: middle;\n",
       "    }\n",
       "\n",
       "    .dataframe tbody tr th {\n",
       "        vertical-align: top;\n",
       "    }\n",
       "\n",
       "    .dataframe thead th {\n",
       "        text-align: right;\n",
       "    }\n",
       "</style>\n",
       "<table border=\"1\" class=\"dataframe\">\n",
       "  <thead>\n",
       "    <tr style=\"text-align: right;\">\n",
       "      <th></th>\n",
       "      <th>0</th>\n",
       "      <th>1</th>\n",
       "    </tr>\n",
       "  </thead>\n",
       "  <tbody>\n",
       "    <tr>\n",
       "      <th>0</th>\n",
       "      <td>0</td>\n",
       "      <td>1</td>\n",
       "    </tr>\n",
       "    <tr>\n",
       "      <th>1</th>\n",
       "      <td>1</td>\n",
       "      <td>0</td>\n",
       "    </tr>\n",
       "    <tr>\n",
       "      <th>2</th>\n",
       "      <td>1</td>\n",
       "      <td>0</td>\n",
       "    </tr>\n",
       "    <tr>\n",
       "      <th>3</th>\n",
       "      <td>1</td>\n",
       "      <td>0</td>\n",
       "    </tr>\n",
       "    <tr>\n",
       "      <th>4</th>\n",
       "      <td>0</td>\n",
       "      <td>1</td>\n",
       "    </tr>\n",
       "    <tr>\n",
       "      <th>...</th>\n",
       "      <td>...</td>\n",
       "      <td>...</td>\n",
       "    </tr>\n",
       "    <tr>\n",
       "      <th>886</th>\n",
       "      <td>0</td>\n",
       "      <td>1</td>\n",
       "    </tr>\n",
       "    <tr>\n",
       "      <th>887</th>\n",
       "      <td>1</td>\n",
       "      <td>0</td>\n",
       "    </tr>\n",
       "    <tr>\n",
       "      <th>888</th>\n",
       "      <td>1</td>\n",
       "      <td>0</td>\n",
       "    </tr>\n",
       "    <tr>\n",
       "      <th>889</th>\n",
       "      <td>0</td>\n",
       "      <td>1</td>\n",
       "    </tr>\n",
       "    <tr>\n",
       "      <th>890</th>\n",
       "      <td>0</td>\n",
       "      <td>1</td>\n",
       "    </tr>\n",
       "  </tbody>\n",
       "</table>\n",
       "<p>891 rows × 2 columns</p>\n",
       "</div>"
      ],
      "text/plain": [
       "     0  1\n",
       "0    0  1\n",
       "1    1  0\n",
       "2    1  0\n",
       "3    1  0\n",
       "4    0  1\n",
       "..  .. ..\n",
       "886  0  1\n",
       "887  1  0\n",
       "888  1  0\n",
       "889  0  1\n",
       "890  0  1\n",
       "\n",
       "[891 rows x 2 columns]"
      ]
     },
     "execution_count": 35,
     "metadata": {},
     "output_type": "execute_result"
    }
   ],
   "source": [
    "pd.get_dummies(ks1['sex'])\n",
    "#ks1.head()\n",
    "# how to append in dataframe"
   ]
  },
  {
   "cell_type": "code",
   "execution_count": 34,
   "metadata": {},
   "outputs": [
    {
     "data": {
      "text/html": [
       "<div>\n",
       "<style scoped>\n",
       "    .dataframe tbody tr th:only-of-type {\n",
       "        vertical-align: middle;\n",
       "    }\n",
       "\n",
       "    .dataframe tbody tr th {\n",
       "        vertical-align: top;\n",
       "    }\n",
       "\n",
       "    .dataframe thead th {\n",
       "        text-align: right;\n",
       "    }\n",
       "</style>\n",
       "<table border=\"1\" class=\"dataframe\">\n",
       "  <thead>\n",
       "    <tr style=\"text-align: right;\">\n",
       "      <th></th>\n",
       "      <th>survived</th>\n",
       "      <th>pclass</th>\n",
       "      <th>sex</th>\n",
       "      <th>sibsp</th>\n",
       "      <th>parch</th>\n",
       "      <th>fare</th>\n",
       "      <th>embarked</th>\n",
       "      <th>class</th>\n",
       "      <th>who</th>\n",
       "      <th>adult_male</th>\n",
       "      <th>embark_town</th>\n",
       "      <th>alive</th>\n",
       "      <th>alone</th>\n",
       "      <th>age_in_days</th>\n",
       "    </tr>\n",
       "  </thead>\n",
       "  <tbody>\n",
       "    <tr>\n",
       "      <th>0</th>\n",
       "      <td>0</td>\n",
       "      <td>3</td>\n",
       "      <td>1</td>\n",
       "      <td>1</td>\n",
       "      <td>0</td>\n",
       "      <td>7.2500</td>\n",
       "      <td>S</td>\n",
       "      <td>Third</td>\n",
       "      <td>man</td>\n",
       "      <td>True</td>\n",
       "      <td>Southampton</td>\n",
       "      <td>no</td>\n",
       "      <td>False</td>\n",
       "      <td>8030</td>\n",
       "    </tr>\n",
       "    <tr>\n",
       "      <th>1</th>\n",
       "      <td>1</td>\n",
       "      <td>1</td>\n",
       "      <td>0</td>\n",
       "      <td>1</td>\n",
       "      <td>0</td>\n",
       "      <td>71.2833</td>\n",
       "      <td>C</td>\n",
       "      <td>First</td>\n",
       "      <td>woman</td>\n",
       "      <td>False</td>\n",
       "      <td>Cherbourg</td>\n",
       "      <td>yes</td>\n",
       "      <td>False</td>\n",
       "      <td>13870</td>\n",
       "    </tr>\n",
       "    <tr>\n",
       "      <th>2</th>\n",
       "      <td>1</td>\n",
       "      <td>3</td>\n",
       "      <td>0</td>\n",
       "      <td>0</td>\n",
       "      <td>0</td>\n",
       "      <td>7.9250</td>\n",
       "      <td>S</td>\n",
       "      <td>Third</td>\n",
       "      <td>woman</td>\n",
       "      <td>False</td>\n",
       "      <td>Southampton</td>\n",
       "      <td>yes</td>\n",
       "      <td>True</td>\n",
       "      <td>9490</td>\n",
       "    </tr>\n",
       "    <tr>\n",
       "      <th>3</th>\n",
       "      <td>1</td>\n",
       "      <td>1</td>\n",
       "      <td>0</td>\n",
       "      <td>1</td>\n",
       "      <td>0</td>\n",
       "      <td>53.1000</td>\n",
       "      <td>S</td>\n",
       "      <td>First</td>\n",
       "      <td>woman</td>\n",
       "      <td>False</td>\n",
       "      <td>Southampton</td>\n",
       "      <td>yes</td>\n",
       "      <td>False</td>\n",
       "      <td>12775</td>\n",
       "    </tr>\n",
       "    <tr>\n",
       "      <th>4</th>\n",
       "      <td>0</td>\n",
       "      <td>3</td>\n",
       "      <td>1</td>\n",
       "      <td>0</td>\n",
       "      <td>0</td>\n",
       "      <td>8.0500</td>\n",
       "      <td>S</td>\n",
       "      <td>Third</td>\n",
       "      <td>man</td>\n",
       "      <td>True</td>\n",
       "      <td>Southampton</td>\n",
       "      <td>no</td>\n",
       "      <td>True</td>\n",
       "      <td>12775</td>\n",
       "    </tr>\n",
       "  </tbody>\n",
       "</table>\n",
       "</div>"
      ],
      "text/plain": [
       "   survived  pclass  sex  sibsp  parch     fare embarked  class    who  \\\n",
       "0         0       3    1      1      0   7.2500        S  Third    man   \n",
       "1         1       1    0      1      0  71.2833        C  First  woman   \n",
       "2         1       3    0      0      0   7.9250        S  Third  woman   \n",
       "3         1       1    0      1      0  53.1000        S  First  woman   \n",
       "4         0       3    1      0      0   8.0500        S  Third    man   \n",
       "\n",
       "   adult_male  embark_town alive  alone  age_in_days  \n",
       "0        True  Southampton    no  False         8030  \n",
       "1       False    Cherbourg   yes  False        13870  \n",
       "2       False  Southampton   yes   True         9490  \n",
       "3       False  Southampton   yes  False        12775  \n",
       "4        True  Southampton    no   True        12775  "
      ]
     },
     "execution_count": 34,
     "metadata": {},
     "output_type": "execute_result"
    }
   ],
   "source": [
    "#Replace multiple values with multiple new values.\n",
    "ks1['sex'] = ks1['sex'].replace(['male','female'],[1,0])\n",
    "ks1.head()"
   ]
  }
 ],
 "metadata": {
  "kernelspec": {
   "display_name": "Python 3.9.7 ('base')",
   "language": "python",
   "name": "python3"
  },
  "language_info": {
   "codemirror_mode": {
    "name": "ipython",
    "version": 3
   },
   "file_extension": ".py",
   "mimetype": "text/x-python",
   "name": "python",
   "nbconvert_exporter": "python",
   "pygments_lexer": "ipython3",
   "version": "3.9.7"
  },
  "orig_nbformat": 4,
  "vscode": {
   "interpreter": {
    "hash": "666bf10903156635aee90f82603b0786fb4005160e7bc1d1d8ea2855a186d232"
   }
  }
 },
 "nbformat": 4,
 "nbformat_minor": 2
}
